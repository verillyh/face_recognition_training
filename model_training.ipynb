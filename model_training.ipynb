{
 "cells": [
  {
   "cell_type": "code",
   "execution_count": 1,
   "id": "d37619a8",
   "metadata": {
    "execution": {
     "iopub.execute_input": "2025-06-07T17:19:46.049664Z",
     "iopub.status.busy": "2025-06-07T17:19:46.048965Z",
     "iopub.status.idle": "2025-06-07T17:20:02.655642Z",
     "shell.execute_reply": "2025-06-07T17:20:02.654994Z"
    },
    "papermill": {
     "duration": 16.616654,
     "end_time": "2025-06-07T17:20:02.657057",
     "exception": false,
     "start_time": "2025-06-07T17:19:46.040403",
     "status": "completed"
    },
    "tags": []
   },
   "outputs": [
    {
     "name": "stderr",
     "output_type": "stream",
     "text": [
      "2025-06-07 17:19:47.893516: E external/local_xla/xla/stream_executor/cuda/cuda_fft.cc:477] Unable to register cuFFT factory: Attempting to register factory for plugin cuFFT when one has already been registered\n",
      "WARNING: All log messages before absl::InitializeLog() is called are written to STDERR\n",
      "E0000 00:00:1749316788.084948      19 cuda_dnn.cc:8310] Unable to register cuDNN factory: Attempting to register factory for plugin cuDNN when one has already been registered\n",
      "E0000 00:00:1749316788.146675      19 cuda_blas.cc:1418] Unable to register cuBLAS factory: Attempting to register factory for plugin cuBLAS when one has already been registered\n"
     ]
    }
   ],
   "source": [
    "import tensorflow as tf\n",
    "import matplotlib.pyplot as plt\n",
    "import numpy as np\n",
    "import os\n",
    "import shutil\n",
    "from tensorflow.keras import layers, Model, losses, optimizers, mixed_precision\n",
    "from sklearn.metrics import roc_auc_score, roc_curve\n",
    "from tqdm import tqdm"
   ]
  },
  {
   "cell_type": "markdown",
   "id": "65b941c4",
   "metadata": {
    "papermill": {
     "duration": 0.006075,
     "end_time": "2025-06-07T17:20:02.670053",
     "exception": false,
     "start_time": "2025-06-07T17:20:02.663978",
     "status": "completed"
    },
    "tags": []
   },
   "source": [
    "# Globals"
   ]
  },
  {
   "cell_type": "code",
   "execution_count": 2,
   "id": "048265cf",
   "metadata": {
    "execution": {
     "iopub.execute_input": "2025-06-07T17:20:02.683773Z",
     "iopub.status.busy": "2025-06-07T17:20:02.683227Z",
     "iopub.status.idle": "2025-06-07T17:20:02.687939Z",
     "shell.execute_reply": "2025-06-07T17:20:02.686992Z"
    },
    "papermill": {
     "duration": 0.012962,
     "end_time": "2025-06-07T17:20:02.689147",
     "exception": false,
     "start_time": "2025-06-07T17:20:02.676185",
     "status": "completed"
    },
    "tags": []
   },
   "outputs": [
    {
     "name": "stdout",
     "output_type": "stream",
     "text": [
      "float16\n"
     ]
    }
   ],
   "source": [
    "# Use mixed precision for faster training time\n",
    "policy = mixed_precision.Policy('mixed_float16')\n",
    "mixed_precision.set_global_policy(policy)\n",
    "print(policy.compute_dtype)"
   ]
  },
  {
   "cell_type": "code",
   "execution_count": 3,
   "id": "83a64468",
   "metadata": {
    "execution": {
     "iopub.execute_input": "2025-06-07T17:20:02.702894Z",
     "iopub.status.busy": "2025-06-07T17:20:02.702619Z",
     "iopub.status.idle": "2025-06-07T17:20:02.745044Z",
     "shell.execute_reply": "2025-06-07T17:20:02.744419Z"
    },
    "papermill": {
     "duration": 0.050935,
     "end_time": "2025-06-07T17:20:02.746485",
     "exception": false,
     "start_time": "2025-06-07T17:20:02.695550",
     "status": "completed"
    },
    "tags": []
   },
   "outputs": [],
   "source": [
    "ROOT_DATASET = \"/kaggle/input/11-785-fall-20-homework-2-part-2\"\n",
    "TRAIN_DS_PATH = os.path.join(ROOT_DATASET, \"classification_data\", \"train_data\")\n",
    "TRAIN_DS_PATH_CLF = \"/kaggle/working/train_data\"\n",
    "VAL_DS_PATH = os.path.join(ROOT_DATASET, \"classification_data\", \"val_data\")\n",
    "VAL_DS_PATH_CLF = \"/kaggle/working/val_data\"\n",
    "TEST_DS_PATH = os.path.join(ROOT_DATASET, \"classification_data\", \"test_data\")\n",
    "TEST_DS_PATH_CLF = \"/kaggle/working/test_data\"\n",
    "VERIFICATION_TXT = os.path.join(ROOT_DATASET, \"verification_pairs_val.txt\")\n",
    "VERIFICATION_FOLDER = os.path.join(ROOT_DATASET, \"verification_data\")\n",
    "\n",
    "IMG_SIZE = 224\n",
    "CHANNELS = 3\n",
    "CLASSES = len(os.listdir(TRAIN_DS_PATH))\n",
    "CLASSES_REDUCED = 100\n",
    "BATCH_SIZE = 64\n",
    "GLOBAL_BATCH_SIZE = 128\n",
    "# GLOBAL_BATCH_SIZE = BATCH_SIZE * strategy.num_replicas_in_sync\n",
    "EMBED_DIMS = 1024"
   ]
  },
  {
   "cell_type": "markdown",
   "id": "2f60e235",
   "metadata": {
    "papermill": {
     "duration": 0.00652,
     "end_time": "2025-06-07T17:20:02.759668",
     "exception": false,
     "start_time": "2025-06-07T17:20:02.753148",
     "status": "completed"
    },
    "tags": []
   },
   "source": [
    "# Prune training dataset"
   ]
  },
  {
   "cell_type": "markdown",
   "id": "a6aa3840",
   "metadata": {
    "papermill": {
     "duration": 0.005984,
     "end_time": "2025-06-07T17:20:02.771867",
     "exception": false,
     "start_time": "2025-06-07T17:20:02.765883",
     "status": "completed"
    },
    "tags": []
   },
   "source": [
    "Reduce training set to 100 classes. Only 100 faces per person will be kept. Skip that person if they don't have enough images"
   ]
  },
  {
   "cell_type": "code",
   "execution_count": 4,
   "id": "d535a72c",
   "metadata": {
    "execution": {
     "iopub.execute_input": "2025-06-07T17:20:02.785483Z",
     "iopub.status.busy": "2025-06-07T17:20:02.784866Z",
     "iopub.status.idle": "2025-06-07T17:20:57.607685Z",
     "shell.execute_reply": "2025-06-07T17:20:57.606989Z"
    },
    "papermill": {
     "duration": 54.831214,
     "end_time": "2025-06-07T17:20:57.609146",
     "exception": false,
     "start_time": "2025-06-07T17:20:02.777932",
     "status": "completed"
    },
    "tags": []
   },
   "outputs": [],
   "source": [
    "count = 0\n",
    "\n",
    "for faces_dir in os.listdir(TRAIN_DS_PATH):\n",
    "    orig_dir = os.path.join(TRAIN_DS_PATH, faces_dir)\n",
    "    dest_dir = os.path.join(TRAIN_DS_PATH_CLF, faces_dir)\n",
    "    images = os.listdir(orig_dir)\n",
    "    images_count = len(images)\n",
    "    if images_count <= 100:\n",
    "        continue\n",
    "    if count >= CLASSES_REDUCED:\n",
    "        break\n",
    "\n",
    "    shutil.copytree(orig_dir, dest_dir)\n",
    "    shutil.copytree(os.path.join(VAL_DS_PATH, faces_dir), os.path.join(VAL_DS_PATH_CLF, faces_dir))\n",
    "    shutil.copytree(os.path.join(TEST_DS_PATH, faces_dir), os.path.join(TEST_DS_PATH_CLF, faces_dir))\n",
    "    images = os.listdir(dest_dir)\n",
    "    for image in images[100:]:\n",
    "        os.remove(os.path.join(dest_dir, image))\n",
    "    count += 1\n",
    "assert count == CLASSES_REDUCED"
   ]
  },
  {
   "cell_type": "markdown",
   "id": "7e493a74",
   "metadata": {
    "papermill": {
     "duration": 0.006037,
     "end_time": "2025-06-07T17:20:57.621898",
     "exception": false,
     "start_time": "2025-06-07T17:20:57.615861",
     "status": "completed"
    },
    "tags": []
   },
   "source": [
    "# Create lookup table for labels"
   ]
  },
  {
   "cell_type": "code",
   "execution_count": 5,
   "id": "6c2501f9",
   "metadata": {
    "execution": {
     "iopub.execute_input": "2025-06-07T17:20:57.635538Z",
     "iopub.status.busy": "2025-06-07T17:20:57.635051Z",
     "iopub.status.idle": "2025-06-07T17:20:58.934494Z",
     "shell.execute_reply": "2025-06-07T17:20:58.933697Z"
    },
    "papermill": {
     "duration": 1.307778,
     "end_time": "2025-06-07T17:20:58.935871",
     "exception": false,
     "start_time": "2025-06-07T17:20:57.628093",
     "status": "completed"
    },
    "tags": []
   },
   "outputs": [
    {
     "name": "stderr",
     "output_type": "stream",
     "text": [
      "I0000 00:00:1749316858.891059      19 gpu_device.cc:2022] Created device /job:localhost/replica:0/task:0/device:GPU:0 with 15513 MB memory:  -> device: 0, name: Tesla P100-PCIE-16GB, pci bus id: 0000:00:04.0, compute capability: 6.0\n"
     ]
    }
   ],
   "source": [
    "# List all folder labels\n",
    "label_names = [d for d in os.listdir(TRAIN_DS_PATH)]\n",
    "\n",
    "# Keys from labels\n",
    "keys = tf.constant(label_names)\n",
    "# Values from a range of [0,n-1] with n being classes length\n",
    "values = tf.constant(range(len(label_names)), dtype=tf.int64)\n",
    "\n",
    "# Create lookup table\n",
    "table = tf.lookup.StaticHashTable(\n",
    "    initializer=tf.lookup.KeyValueTensorInitializer(keys, values),\n",
    "    default_value=-1\n",
    ")\n",
    "\n",
    "\n",
    "# Repeat the same but for 100 class dataset\n",
    "label_names_clf = [d for d in os.listdir(TRAIN_DS_PATH_CLF)]\n",
    "\n",
    "keys_clf = tf.constant(label_names_clf)\n",
    "values_clf = tf.constant(range(len(label_names_clf)), dtype=tf.int64)\n",
    "\n",
    "table_clf = tf.lookup.StaticHashTable(\n",
    "    initializer=tf.lookup.KeyValueTensorInitializer(keys_clf, values_clf),\n",
    "    default_value=-1    \n",
    ")"
   ]
  },
  {
   "cell_type": "markdown",
   "id": "e3561e4b",
   "metadata": {
    "papermill": {
     "duration": 0.006122,
     "end_time": "2025-06-07T17:20:58.948758",
     "exception": false,
     "start_time": "2025-06-07T17:20:58.942636",
     "status": "completed"
    },
    "tags": []
   },
   "source": [
    "# Data Preparation"
   ]
  },
  {
   "cell_type": "markdown",
   "id": "d85c2d61",
   "metadata": {
    "papermill": {
     "duration": 0.005934,
     "end_time": "2025-06-07T17:20:58.960934",
     "exception": false,
     "start_time": "2025-06-07T17:20:58.955000",
     "status": "completed"
    },
    "tags": []
   },
   "source": [
    "## Preprocessing Functions"
   ]
  },
  {
   "cell_type": "code",
   "execution_count": 6,
   "id": "3a35c81c",
   "metadata": {
    "execution": {
     "iopub.execute_input": "2025-06-07T17:20:58.974536Z",
     "iopub.status.busy": "2025-06-07T17:20:58.973931Z",
     "iopub.status.idle": "2025-06-07T17:20:58.980461Z",
     "shell.execute_reply": "2025-06-07T17:20:58.979829Z"
    },
    "papermill": {
     "duration": 0.01456,
     "end_time": "2025-06-07T17:20:58.981565",
     "exception": false,
     "start_time": "2025-06-07T17:20:58.967005",
     "status": "completed"
    },
    "tags": []
   },
   "outputs": [],
   "source": [
    "def process_path(path):\n",
    "    # Get label\n",
    "    splitted = tf.strings.split(path, os.path.sep)\n",
    "    label = splitted[-2]\n",
    "    label = table.lookup(label)\n",
    "    # Get processed image\n",
    "    img = get_img(path)\n",
    "    return img, label\n",
    "\n",
    "def get_img(path):\n",
    "    img = tf.io.read_file(path)\n",
    "    # Get image as tensor data\n",
    "    img = tf.io.decode_jpeg(img, channels=3)\n",
    "    # Resize image. Currently will be resized to (224, 224)\n",
    "    img = tf.image.resize(img, [IMG_SIZE, IMG_SIZE])\n",
    "    img.set_shape([IMG_SIZE, IMG_SIZE, CHANNELS]) \n",
    "    return img\n",
    "\n",
    "def process_path_clf(path):\n",
    "    # Get label\n",
    "    splitted = tf.strings.split(path, os.path.sep)\n",
    "    label = splitted[-2]\n",
    "    label = table_clf.lookup(label)\n",
    "    # Get processed image\n",
    "    img = get_img(path)\n",
    "    return img, label\n",
    "\n",
    "def process_verification(line):\n",
    "    # Preprocess the file line\n",
    "    line = tf.strings.strip(line)\n",
    "    splitted = tf.strings.split(line, \" \")\n",
    "    # Get first image path\n",
    "    img_path1 = splitted[0]\n",
    "    # Get second image path\n",
    "    img_path2 = splitted[1]\n",
    "    # Get label\n",
    "    label = splitted[2]\n",
    "\n",
    "    # Get both images\n",
    "    img1 = get_img(tf.strings.join([ROOT_DATASET, img_path1], separator=os.path.sep))\n",
    "    img2 = get_img(tf.strings.join([ROOT_DATASET, img_path2], separator=os.path.sep))\n",
    "\n",
    "    return img1, img2, label"
   ]
  },
  {
   "cell_type": "markdown",
   "id": "c89f82e1",
   "metadata": {
    "papermill": {
     "duration": 0.006102,
     "end_time": "2025-06-07T17:20:58.994224",
     "exception": false,
     "start_time": "2025-06-07T17:20:58.988122",
     "status": "completed"
    },
    "tags": []
   },
   "source": [
    "## Loading Dataset"
   ]
  },
  {
   "cell_type": "markdown",
   "id": "b6d1febe",
   "metadata": {
    "papermill": {
     "duration": 0.005874,
     "end_time": "2025-06-07T17:20:59.006256",
     "exception": false,
     "start_time": "2025-06-07T17:20:59.000382",
     "status": "completed"
    },
    "tags": []
   },
   "source": [
    "In this notebook, I will load the data with tf.data.Dataset for more granular control "
   ]
  },
  {
   "cell_type": "code",
   "execution_count": 7,
   "id": "658a1aea",
   "metadata": {
    "execution": {
     "iopub.execute_input": "2025-06-07T17:20:59.020020Z",
     "iopub.status.busy": "2025-06-07T17:20:59.019368Z",
     "iopub.status.idle": "2025-06-07T17:21:46.800107Z",
     "shell.execute_reply": "2025-06-07T17:21:46.799301Z"
    },
    "papermill": {
     "duration": 47.7892,
     "end_time": "2025-06-07T17:21:46.801691",
     "exception": false,
     "start_time": "2025-06-07T17:20:59.012491",
     "status": "completed"
    },
    "tags": []
   },
   "outputs": [],
   "source": [
    "# Get verification_pairs_val.txt contents\n",
    "verification_lists = []\n",
    "with open(VERIFICATION_TXT, \"r\") as f:\n",
    "    verification_lists = f.readlines()\n",
    "\n",
    "# Turn dataset into tf.data.Dataset\n",
    "train_ds =  tf.data.Dataset.list_files(f\"{TRAIN_DS_PATH}/*/*\")\n",
    "train_ds_clf = tf.data.Dataset.list_files(f\"{TRAIN_DS_PATH_CLF}/*/*\")\n",
    "val_ds_clf =  tf.data.Dataset.list_files(f\"{VAL_DS_PATH_CLF}/*/*\")\n",
    "test_ds_clf =  tf.data.Dataset.list_files(f\"{TEST_DS_PATH_CLF}/*/*\")\n",
    "verification_ds = tf.data.Dataset.from_tensor_slices(verification_lists)"
   ]
  },
  {
   "cell_type": "markdown",
   "id": "ea4d4bd1",
   "metadata": {
    "papermill": {
     "duration": 0.006177,
     "end_time": "2025-06-07T17:21:46.814734",
     "exception": false,
     "start_time": "2025-06-07T17:21:46.808557",
     "status": "completed"
    },
    "tags": []
   },
   "source": [
    "The dataset will be processed from containing paths, into containing images along with labels\n",
    "\n",
    "There are several techniques that have been used here for optimizing the training speed, those are:\n",
    "- num_parallel_calls: This argument ensures that the mapping was done in a parallel way\n",
    "- batch: The higher the batch, the more GPU resource will be used to offload CPU resource. As in the training environment the GPU has 16GB VRAM, a higher number of 128 batches will be used\n",
    "- prefetch: Using prefetch will ensure that while the model is training, the next batch of data will be processed at the same time. Essentially a parallel computing technique\n",
    "\n",
    "Caching is not used here as the dataset is large (~320k images) and will cause OOM error"
   ]
  },
  {
   "cell_type": "code",
   "execution_count": 8,
   "id": "9a2192c5",
   "metadata": {
    "execution": {
     "iopub.execute_input": "2025-06-07T17:21:46.828637Z",
     "iopub.status.busy": "2025-06-07T17:21:46.828078Z",
     "iopub.status.idle": "2025-06-07T17:21:47.346057Z",
     "shell.execute_reply": "2025-06-07T17:21:47.345358Z"
    },
    "papermill": {
     "duration": 0.52646,
     "end_time": "2025-06-07T17:21:47.347465",
     "exception": false,
     "start_time": "2025-06-07T17:21:46.821005",
     "status": "completed"
    },
    "tags": []
   },
   "outputs": [],
   "source": [
    "train_ds = train_ds.map(process_path, num_parallel_calls=tf.data.AUTOTUNE).shuffle(buffer_size=10000).batch(GLOBAL_BATCH_SIZE).prefetch(tf.data.AUTOTUNE)\n",
    "train_ds_clf = train_ds_clf.map(process_path_clf, num_parallel_calls=tf.data.AUTOTUNE).shuffle(buffer_size=10000).batch(GLOBAL_BATCH_SIZE).prefetch(tf.data.AUTOTUNE)\n",
    "val_ds_clf = val_ds_clf.map(process_path_clf, num_parallel_calls=tf.data.AUTOTUNE).shuffle(buffer_size=10000).batch(GLOBAL_BATCH_SIZE).prefetch(tf.data.AUTOTUNE)\n",
    "test_ds_clf = test_ds_clf.map(process_path_clf, num_parallel_calls=tf.data.AUTOTUNE).shuffle(buffer_size=10000).batch(GLOBAL_BATCH_SIZE).prefetch(tf.data.AUTOTUNE)\n",
    "verification_ds = verification_ds.map(process_verification, num_parallel_calls=tf.data.AUTOTUNE).shuffle(buffer_size=10000).batch(1).prefetch(tf.data.AUTOTUNE)"
   ]
  },
  {
   "cell_type": "code",
   "execution_count": 9,
   "id": "531261e2",
   "metadata": {
    "execution": {
     "iopub.execute_input": "2025-06-07T17:21:47.425987Z",
     "iopub.status.busy": "2025-06-07T17:21:47.425500Z",
     "iopub.status.idle": "2025-06-07T17:21:47.431170Z",
     "shell.execute_reply": "2025-06-07T17:21:47.430376Z"
    },
    "papermill": {
     "duration": 0.013955,
     "end_time": "2025-06-07T17:21:47.432352",
     "exception": false,
     "start_time": "2025-06-07T17:21:47.418397",
     "status": "completed"
    },
    "tags": []
   },
   "outputs": [
    {
     "name": "stdout",
     "output_type": "stream",
     "text": [
      "Length of original dataset: 380672\n",
      "Length of pruned dataset: 10112\n"
     ]
    }
   ],
   "source": [
    "# There are around 380672 (give or take 64 images) in the dataset\n",
    "print(f\"Length of original dataset: {len(train_ds) * GLOBAL_BATCH_SIZE}\")\n",
    "print(f\"Length of pruned dataset: {len(train_ds_clf) * GLOBAL_BATCH_SIZE}\")"
   ]
  },
  {
   "cell_type": "markdown",
   "id": "3524df72",
   "metadata": {
    "papermill": {
     "duration": 0.006456,
     "end_time": "2025-06-07T17:21:47.446448",
     "exception": false,
     "start_time": "2025-06-07T17:21:47.439992",
     "status": "completed"
    },
    "tags": []
   },
   "source": [
    "# Evaluation Function"
   ]
  },
  {
   "cell_type": "markdown",
   "id": "9835407b",
   "metadata": {
    "papermill": {
     "duration": 0.006081,
     "end_time": "2025-06-07T17:21:47.459161",
     "exception": false,
     "start_time": "2025-06-07T17:21:47.453080",
     "status": "completed"
    },
    "tags": []
   },
   "source": [
    "## Similarity Metric"
   ]
  },
  {
   "cell_type": "code",
   "execution_count": 10,
   "id": "32cdead0",
   "metadata": {
    "execution": {
     "iopub.execute_input": "2025-06-07T17:21:47.475173Z",
     "iopub.status.busy": "2025-06-07T17:21:47.474619Z",
     "iopub.status.idle": "2025-06-07T17:21:47.479477Z",
     "shell.execute_reply": "2025-06-07T17:21:47.478716Z"
    },
    "papermill": {
     "duration": 0.01315,
     "end_time": "2025-06-07T17:21:47.480692",
     "exception": false,
     "start_time": "2025-06-07T17:21:47.467542",
     "status": "completed"
    },
    "tags": []
   },
   "outputs": [],
   "source": [
    "def compute_similarity(emb1, emb2, metric):\n",
    "    if metric == \"euclidean\":\n",
    "        return tf.norm(emb1-emb2, ord=\"euclidean\").numpy()\n",
    "    elif metric == \"cosine\":\n",
    "        distance = tf.keras.losses.cosine_similarity(emb1, emb2)\n",
    "        if distance == np.nan:\n",
    "            return 0\n",
    "        return distance.numpy()\n",
    "    else:\n",
    "        raise Exception(\"Metric unrecognized\")"
   ]
  },
  {
   "cell_type": "markdown",
   "id": "3db4328a",
   "metadata": {
    "papermill": {
     "duration": 0.006105,
     "end_time": "2025-06-07T17:21:47.493592",
     "exception": false,
     "start_time": "2025-06-07T17:21:47.487487",
     "status": "completed"
    },
    "tags": []
   },
   "source": [
    "## AUC and ROC Curve With Best Threshold"
   ]
  },
  {
   "cell_type": "code",
   "execution_count": 11,
   "id": "8d012f6b",
   "metadata": {
    "execution": {
     "iopub.execute_input": "2025-06-07T17:21:47.507418Z",
     "iopub.status.busy": "2025-06-07T17:21:47.506799Z",
     "iopub.status.idle": "2025-06-07T17:21:47.513912Z",
     "shell.execute_reply": "2025-06-07T17:21:47.513145Z"
    },
    "papermill": {
     "duration": 0.015268,
     "end_time": "2025-06-07T17:21:47.515034",
     "exception": false,
     "start_time": "2025-06-07T17:21:47.499766",
     "status": "completed"
    },
    "tags": []
   },
   "outputs": [],
   "source": [
    "def show_roc_auc(model, metric=\"euclidean\"):\n",
    "    distances = []\n",
    "    true_labels = []\n",
    "    \n",
    "    # Calculate distances for each verification entry in .txt file\n",
    "    for batch in tqdm(verification_ds, desc=f\"Processing validation\"):\n",
    "        img1, img2, true_label = batch\n",
    "        # Get embeddings of both images\n",
    "        emb1, emb2 = model(tf.concat([img1, img2], axis=0))\n",
    "        # Compute similarity\n",
    "        distance = compute_similarity(emb1, emb2, metric)\n",
    "        # Append distances and labels to full list\n",
    "        distances.append(distance)\n",
    "        true_labels.append(true_label.numpy())\n",
    "\n",
    "    # Format distances and true_labels as numpy\n",
    "    distances = np.array(distances)\n",
    "    true_labels = np.array([int(label[0].decode()) for label in true_labels])\n",
    "\n",
    "    # Calculate FPR, TPR, and thresholds\n",
    "    fpr, tpr, thresholds = roc_curve(true_labels, -distances) \n",
    "    # Get index of best threshold\n",
    "    best_threshold_idx = np.argmax(tpr - fpr)\n",
    "    # Get best threshold\n",
    "    best_threshold = -thresholds[best_threshold_idx]\n",
    "    # Get AUC score\n",
    "    roc_auc = roc_auc_score(true_labels, -distances)\n",
    "    plt.figure()\n",
    "    plt.plot(fpr, tpr, label=f\"ROC curve (AUC = {roc_auc:.3f})\")\n",
    "    plt.annotate(\n",
    "        f\"Best threshold at {best_threshold}\",\n",
    "        (fpr[best_threshold_idx], tpr[best_threshold_idx]),\n",
    "        xytext=(-100, 10),\n",
    "        textcoords=\"offset points\",\n",
    "        arrowprops=dict(\n",
    "            arrowstyle='->'\n",
    "        )\n",
    "    )\n",
    "    plt.plot([0, 1], [0, 1], linestyle=\"--\", label=\"Baseline (AUC = 0.5)\")\n",
    "    plt.xlabel(\"FPR\")\n",
    "    plt.ylabel(\"TPR\")\n",
    "    plt.legend(loc=\"lower right\")\n",
    "    plt.show()\n",
    "    return best_threshold"
   ]
  },
  {
   "cell_type": "markdown",
   "id": "5da639a1",
   "metadata": {
    "papermill": {
     "duration": 0.006417,
     "end_time": "2025-06-07T17:21:47.528090",
     "exception": false,
     "start_time": "2025-06-07T17:21:47.521673",
     "status": "completed"
    },
    "tags": []
   },
   "source": [
    "# Distributed Training Setup"
   ]
  },
  {
   "cell_type": "code",
   "execution_count": 12,
   "id": "1ec2c6b6",
   "metadata": {
    "execution": {
     "iopub.execute_input": "2025-06-07T17:21:47.541993Z",
     "iopub.status.busy": "2025-06-07T17:21:47.541489Z",
     "iopub.status.idle": "2025-06-07T17:21:47.551643Z",
     "shell.execute_reply": "2025-06-07T17:21:47.550846Z"
    },
    "papermill": {
     "duration": 0.018488,
     "end_time": "2025-06-07T17:21:47.552905",
     "exception": false,
     "start_time": "2025-06-07T17:21:47.534417",
     "status": "completed"
    },
    "tags": []
   },
   "outputs": [],
   "source": [
    "strategy = tf.distribute.MirroredStrategy()\n",
    "\n",
    "with strategy.scope():\n",
    "    reduce_lr = tf.keras.callbacks.ReduceLROnPlateau(\n",
    "        monitor=\"val_loss\",\n",
    "        factor=0.5,\n",
    "        patience=3,\n",
    "        min_lr=1e-6,\n",
    "        verbose=1\n",
    "    )\n",
    "    early_stopping = tf.keras.callbacks.EarlyStopping(monitor=\"val_accuracy\", patience=5, restore_best_weights=True)"
   ]
  },
  {
   "cell_type": "markdown",
   "id": "7248ad15",
   "metadata": {
    "papermill": {
     "duration": 0.006338,
     "end_time": "2025-06-07T17:21:47.565982",
     "exception": false,
     "start_time": "2025-06-07T17:21:47.559644",
     "status": "completed"
    },
    "tags": []
   },
   "source": [
    "# Supervised Learning"
   ]
  },
  {
   "cell_type": "markdown",
   "id": "26e7c82f",
   "metadata": {
    "papermill": {
     "duration": 0.006388,
     "end_time": "2025-06-07T17:21:47.578853",
     "exception": false,
     "start_time": "2025-06-07T17:21:47.572465",
     "status": "completed"
    },
    "tags": []
   },
   "source": [
    "## Building Model"
   ]
  },
  {
   "cell_type": "code",
   "execution_count": 13,
   "id": "e364c751",
   "metadata": {
    "execution": {
     "iopub.execute_input": "2025-06-07T17:21:47.593046Z",
     "iopub.status.busy": "2025-06-07T17:21:47.592547Z",
     "iopub.status.idle": "2025-06-07T17:21:53.826777Z",
     "shell.execute_reply": "2025-06-07T17:21:53.826132Z"
    },
    "papermill": {
     "duration": 6.242673,
     "end_time": "2025-06-07T17:21:53.827938",
     "exception": false,
     "start_time": "2025-06-07T17:21:47.585265",
     "status": "completed"
    },
    "tags": []
   },
   "outputs": [
    {
     "name": "stdout",
     "output_type": "stream",
     "text": [
      "Downloading data from https://storage.googleapis.com/tensorflow/keras-applications/resnet/resnet50_weights_tf_dim_ordering_tf_kernels_notop.h5\n",
      "\u001b[1m94765736/94765736\u001b[0m \u001b[32m━━━━━━━━━━━━━━━━━━━━\u001b[0m\u001b[37m\u001b[0m \u001b[1m4s\u001b[0m 0us/step\n"
     ]
    },
    {
     "data": {
      "text/html": [
       "<pre style=\"white-space:pre;overflow-x:auto;line-height:normal;font-family:Menlo,'DejaVu Sans Mono',consolas,'Courier New',monospace\"><span style=\"font-weight: bold\">Model: \"functional\"</span>\n",
       "</pre>\n"
      ],
      "text/plain": [
       "\u001b[1mModel: \"functional\"\u001b[0m\n"
      ]
     },
     "metadata": {},
     "output_type": "display_data"
    },
    {
     "data": {
      "text/html": [
       "<pre style=\"white-space:pre;overflow-x:auto;line-height:normal;font-family:Menlo,'DejaVu Sans Mono',consolas,'Courier New',monospace\">┏━━━━━━━━━━━━━━━━━━━━━━━━━━━┳━━━━━━━━━━━━━━━━━━━━━━━━┳━━━━━━━━━━━━━━━━┳━━━━━━━━━━━━━━━━━━━━━━━━┓\n",
       "┃<span style=\"font-weight: bold\"> Layer (type)              </span>┃<span style=\"font-weight: bold\"> Output Shape           </span>┃<span style=\"font-weight: bold\">        Param # </span>┃<span style=\"font-weight: bold\"> Connected to           </span>┃\n",
       "┡━━━━━━━━━━━━━━━━━━━━━━━━━━━╇━━━━━━━━━━━━━━━━━━━━━━━━╇━━━━━━━━━━━━━━━━╇━━━━━━━━━━━━━━━━━━━━━━━━┩\n",
       "│ input_layer_1             │ (<span style=\"color: #00d7ff; text-decoration-color: #00d7ff\">None</span>, <span style=\"color: #00af00; text-decoration-color: #00af00\">224</span>, <span style=\"color: #00af00; text-decoration-color: #00af00\">224</span>, <span style=\"color: #00af00; text-decoration-color: #00af00\">3</span>)    │              <span style=\"color: #00af00; text-decoration-color: #00af00\">0</span> │ -                      │\n",
       "│ (<span style=\"color: #0087ff; text-decoration-color: #0087ff\">InputLayer</span>)              │                        │                │                        │\n",
       "├───────────────────────────┼────────────────────────┼────────────────┼────────────────────────┤\n",
       "│ get_item (<span style=\"color: #0087ff; text-decoration-color: #0087ff\">GetItem</span>)        │ (<span style=\"color: #00d7ff; text-decoration-color: #00d7ff\">None</span>, <span style=\"color: #00af00; text-decoration-color: #00af00\">224</span>, <span style=\"color: #00af00; text-decoration-color: #00af00\">224</span>)       │              <span style=\"color: #00af00; text-decoration-color: #00af00\">0</span> │ input_layer_1[<span style=\"color: #00af00; text-decoration-color: #00af00\">0</span>][<span style=\"color: #00af00; text-decoration-color: #00af00\">0</span>]    │\n",
       "├───────────────────────────┼────────────────────────┼────────────────┼────────────────────────┤\n",
       "│ get_item_1 (<span style=\"color: #0087ff; text-decoration-color: #0087ff\">GetItem</span>)      │ (<span style=\"color: #00d7ff; text-decoration-color: #00d7ff\">None</span>, <span style=\"color: #00af00; text-decoration-color: #00af00\">224</span>, <span style=\"color: #00af00; text-decoration-color: #00af00\">224</span>)       │              <span style=\"color: #00af00; text-decoration-color: #00af00\">0</span> │ input_layer_1[<span style=\"color: #00af00; text-decoration-color: #00af00\">0</span>][<span style=\"color: #00af00; text-decoration-color: #00af00\">0</span>]    │\n",
       "├───────────────────────────┼────────────────────────┼────────────────┼────────────────────────┤\n",
       "│ get_item_2 (<span style=\"color: #0087ff; text-decoration-color: #0087ff\">GetItem</span>)      │ (<span style=\"color: #00d7ff; text-decoration-color: #00d7ff\">None</span>, <span style=\"color: #00af00; text-decoration-color: #00af00\">224</span>, <span style=\"color: #00af00; text-decoration-color: #00af00\">224</span>)       │              <span style=\"color: #00af00; text-decoration-color: #00af00\">0</span> │ input_layer_1[<span style=\"color: #00af00; text-decoration-color: #00af00\">0</span>][<span style=\"color: #00af00; text-decoration-color: #00af00\">0</span>]    │\n",
       "├───────────────────────────┼────────────────────────┼────────────────┼────────────────────────┤\n",
       "│ stack (<span style=\"color: #0087ff; text-decoration-color: #0087ff\">Stack</span>)             │ (<span style=\"color: #00d7ff; text-decoration-color: #00d7ff\">None</span>, <span style=\"color: #00af00; text-decoration-color: #00af00\">224</span>, <span style=\"color: #00af00; text-decoration-color: #00af00\">224</span>, <span style=\"color: #00af00; text-decoration-color: #00af00\">3</span>)    │              <span style=\"color: #00af00; text-decoration-color: #00af00\">0</span> │ get_item[<span style=\"color: #00af00; text-decoration-color: #00af00\">0</span>][<span style=\"color: #00af00; text-decoration-color: #00af00\">0</span>],        │\n",
       "│                           │                        │                │ get_item_1[<span style=\"color: #00af00; text-decoration-color: #00af00\">0</span>][<span style=\"color: #00af00; text-decoration-color: #00af00\">0</span>],      │\n",
       "│                           │                        │                │ get_item_2[<span style=\"color: #00af00; text-decoration-color: #00af00\">0</span>][<span style=\"color: #00af00; text-decoration-color: #00af00\">0</span>]       │\n",
       "├───────────────────────────┼────────────────────────┼────────────────┼────────────────────────┤\n",
       "│ add (<span style=\"color: #0087ff; text-decoration-color: #0087ff\">Add</span>)                 │ (<span style=\"color: #00d7ff; text-decoration-color: #00d7ff\">None</span>, <span style=\"color: #00af00; text-decoration-color: #00af00\">224</span>, <span style=\"color: #00af00; text-decoration-color: #00af00\">224</span>, <span style=\"color: #00af00; text-decoration-color: #00af00\">3</span>)    │              <span style=\"color: #00af00; text-decoration-color: #00af00\">0</span> │ stack[<span style=\"color: #00af00; text-decoration-color: #00af00\">0</span>][<span style=\"color: #00af00; text-decoration-color: #00af00\">0</span>]            │\n",
       "├───────────────────────────┼────────────────────────┼────────────────┼────────────────────────┤\n",
       "│ resnet50 (<span style=\"color: #0087ff; text-decoration-color: #0087ff\">Functional</span>)     │ (<span style=\"color: #00d7ff; text-decoration-color: #00d7ff\">None</span>, <span style=\"color: #00af00; text-decoration-color: #00af00\">7</span>, <span style=\"color: #00af00; text-decoration-color: #00af00\">7</span>, <span style=\"color: #00af00; text-decoration-color: #00af00\">2048</span>)     │     <span style=\"color: #00af00; text-decoration-color: #00af00\">23,587,712</span> │ add[<span style=\"color: #00af00; text-decoration-color: #00af00\">0</span>][<span style=\"color: #00af00; text-decoration-color: #00af00\">0</span>]              │\n",
       "├───────────────────────────┼────────────────────────┼────────────────┼────────────────────────┤\n",
       "│ global_average_pooling2d  │ (<span style=\"color: #00d7ff; text-decoration-color: #00d7ff\">None</span>, <span style=\"color: #00af00; text-decoration-color: #00af00\">2048</span>)           │              <span style=\"color: #00af00; text-decoration-color: #00af00\">0</span> │ resnet50[<span style=\"color: #00af00; text-decoration-color: #00af00\">0</span>][<span style=\"color: #00af00; text-decoration-color: #00af00\">0</span>]         │\n",
       "│ (<span style=\"color: #0087ff; text-decoration-color: #0087ff\">GlobalAveragePooling2D</span>)  │                        │                │                        │\n",
       "├───────────────────────────┼────────────────────────┼────────────────┼────────────────────────┤\n",
       "│ dense (<span style=\"color: #0087ff; text-decoration-color: #0087ff\">Dense</span>)             │ (<span style=\"color: #00d7ff; text-decoration-color: #00d7ff\">None</span>, <span style=\"color: #00af00; text-decoration-color: #00af00\">512</span>)            │      <span style=\"color: #00af00; text-decoration-color: #00af00\">1,049,088</span> │ global_average_poolin… │\n",
       "├───────────────────────────┼────────────────────────┼────────────────┼────────────────────────┤\n",
       "│ dropout (<span style=\"color: #0087ff; text-decoration-color: #0087ff\">Dropout</span>)         │ (<span style=\"color: #00d7ff; text-decoration-color: #00d7ff\">None</span>, <span style=\"color: #00af00; text-decoration-color: #00af00\">512</span>)            │              <span style=\"color: #00af00; text-decoration-color: #00af00\">0</span> │ dense[<span style=\"color: #00af00; text-decoration-color: #00af00\">0</span>][<span style=\"color: #00af00; text-decoration-color: #00af00\">0</span>]            │\n",
       "├───────────────────────────┼────────────────────────┼────────────────┼────────────────────────┤\n",
       "│ dense_1 (<span style=\"color: #0087ff; text-decoration-color: #0087ff\">Dense</span>)           │ (<span style=\"color: #00d7ff; text-decoration-color: #00d7ff\">None</span>, <span style=\"color: #00af00; text-decoration-color: #00af00\">1024</span>)           │        <span style=\"color: #00af00; text-decoration-color: #00af00\">525,312</span> │ dropout[<span style=\"color: #00af00; text-decoration-color: #00af00\">0</span>][<span style=\"color: #00af00; text-decoration-color: #00af00\">0</span>]          │\n",
       "├───────────────────────────┼────────────────────────┼────────────────┼────────────────────────┤\n",
       "│ dropout_1 (<span style=\"color: #0087ff; text-decoration-color: #0087ff\">Dropout</span>)       │ (<span style=\"color: #00d7ff; text-decoration-color: #00d7ff\">None</span>, <span style=\"color: #00af00; text-decoration-color: #00af00\">1024</span>)           │              <span style=\"color: #00af00; text-decoration-color: #00af00\">0</span> │ dense_1[<span style=\"color: #00af00; text-decoration-color: #00af00\">0</span>][<span style=\"color: #00af00; text-decoration-color: #00af00\">0</span>]          │\n",
       "├───────────────────────────┼────────────────────────┼────────────────┼────────────────────────┤\n",
       "│ dense_2 (<span style=\"color: #0087ff; text-decoration-color: #0087ff\">Dense</span>)           │ (<span style=\"color: #00d7ff; text-decoration-color: #00d7ff\">None</span>, <span style=\"color: #00af00; text-decoration-color: #00af00\">100</span>)            │        <span style=\"color: #00af00; text-decoration-color: #00af00\">102,500</span> │ dropout_1[<span style=\"color: #00af00; text-decoration-color: #00af00\">0</span>][<span style=\"color: #00af00; text-decoration-color: #00af00\">0</span>]        │\n",
       "└───────────────────────────┴────────────────────────┴────────────────┴────────────────────────┘\n",
       "</pre>\n"
      ],
      "text/plain": [
       "┏━━━━━━━━━━━━━━━━━━━━━━━━━━━┳━━━━━━━━━━━━━━━━━━━━━━━━┳━━━━━━━━━━━━━━━━┳━━━━━━━━━━━━━━━━━━━━━━━━┓\n",
       "┃\u001b[1m \u001b[0m\u001b[1mLayer (type)             \u001b[0m\u001b[1m \u001b[0m┃\u001b[1m \u001b[0m\u001b[1mOutput Shape          \u001b[0m\u001b[1m \u001b[0m┃\u001b[1m \u001b[0m\u001b[1m       Param #\u001b[0m\u001b[1m \u001b[0m┃\u001b[1m \u001b[0m\u001b[1mConnected to          \u001b[0m\u001b[1m \u001b[0m┃\n",
       "┡━━━━━━━━━━━━━━━━━━━━━━━━━━━╇━━━━━━━━━━━━━━━━━━━━━━━━╇━━━━━━━━━━━━━━━━╇━━━━━━━━━━━━━━━━━━━━━━━━┩\n",
       "│ input_layer_1             │ (\u001b[38;5;45mNone\u001b[0m, \u001b[38;5;34m224\u001b[0m, \u001b[38;5;34m224\u001b[0m, \u001b[38;5;34m3\u001b[0m)    │              \u001b[38;5;34m0\u001b[0m │ -                      │\n",
       "│ (\u001b[38;5;33mInputLayer\u001b[0m)              │                        │                │                        │\n",
       "├───────────────────────────┼────────────────────────┼────────────────┼────────────────────────┤\n",
       "│ get_item (\u001b[38;5;33mGetItem\u001b[0m)        │ (\u001b[38;5;45mNone\u001b[0m, \u001b[38;5;34m224\u001b[0m, \u001b[38;5;34m224\u001b[0m)       │              \u001b[38;5;34m0\u001b[0m │ input_layer_1[\u001b[38;5;34m0\u001b[0m][\u001b[38;5;34m0\u001b[0m]    │\n",
       "├───────────────────────────┼────────────────────────┼────────────────┼────────────────────────┤\n",
       "│ get_item_1 (\u001b[38;5;33mGetItem\u001b[0m)      │ (\u001b[38;5;45mNone\u001b[0m, \u001b[38;5;34m224\u001b[0m, \u001b[38;5;34m224\u001b[0m)       │              \u001b[38;5;34m0\u001b[0m │ input_layer_1[\u001b[38;5;34m0\u001b[0m][\u001b[38;5;34m0\u001b[0m]    │\n",
       "├───────────────────────────┼────────────────────────┼────────────────┼────────────────────────┤\n",
       "│ get_item_2 (\u001b[38;5;33mGetItem\u001b[0m)      │ (\u001b[38;5;45mNone\u001b[0m, \u001b[38;5;34m224\u001b[0m, \u001b[38;5;34m224\u001b[0m)       │              \u001b[38;5;34m0\u001b[0m │ input_layer_1[\u001b[38;5;34m0\u001b[0m][\u001b[38;5;34m0\u001b[0m]    │\n",
       "├───────────────────────────┼────────────────────────┼────────────────┼────────────────────────┤\n",
       "│ stack (\u001b[38;5;33mStack\u001b[0m)             │ (\u001b[38;5;45mNone\u001b[0m, \u001b[38;5;34m224\u001b[0m, \u001b[38;5;34m224\u001b[0m, \u001b[38;5;34m3\u001b[0m)    │              \u001b[38;5;34m0\u001b[0m │ get_item[\u001b[38;5;34m0\u001b[0m][\u001b[38;5;34m0\u001b[0m],        │\n",
       "│                           │                        │                │ get_item_1[\u001b[38;5;34m0\u001b[0m][\u001b[38;5;34m0\u001b[0m],      │\n",
       "│                           │                        │                │ get_item_2[\u001b[38;5;34m0\u001b[0m][\u001b[38;5;34m0\u001b[0m]       │\n",
       "├───────────────────────────┼────────────────────────┼────────────────┼────────────────────────┤\n",
       "│ add (\u001b[38;5;33mAdd\u001b[0m)                 │ (\u001b[38;5;45mNone\u001b[0m, \u001b[38;5;34m224\u001b[0m, \u001b[38;5;34m224\u001b[0m, \u001b[38;5;34m3\u001b[0m)    │              \u001b[38;5;34m0\u001b[0m │ stack[\u001b[38;5;34m0\u001b[0m][\u001b[38;5;34m0\u001b[0m]            │\n",
       "├───────────────────────────┼────────────────────────┼────────────────┼────────────────────────┤\n",
       "│ resnet50 (\u001b[38;5;33mFunctional\u001b[0m)     │ (\u001b[38;5;45mNone\u001b[0m, \u001b[38;5;34m7\u001b[0m, \u001b[38;5;34m7\u001b[0m, \u001b[38;5;34m2048\u001b[0m)     │     \u001b[38;5;34m23,587,712\u001b[0m │ add[\u001b[38;5;34m0\u001b[0m][\u001b[38;5;34m0\u001b[0m]              │\n",
       "├───────────────────────────┼────────────────────────┼────────────────┼────────────────────────┤\n",
       "│ global_average_pooling2d  │ (\u001b[38;5;45mNone\u001b[0m, \u001b[38;5;34m2048\u001b[0m)           │              \u001b[38;5;34m0\u001b[0m │ resnet50[\u001b[38;5;34m0\u001b[0m][\u001b[38;5;34m0\u001b[0m]         │\n",
       "│ (\u001b[38;5;33mGlobalAveragePooling2D\u001b[0m)  │                        │                │                        │\n",
       "├───────────────────────────┼────────────────────────┼────────────────┼────────────────────────┤\n",
       "│ dense (\u001b[38;5;33mDense\u001b[0m)             │ (\u001b[38;5;45mNone\u001b[0m, \u001b[38;5;34m512\u001b[0m)            │      \u001b[38;5;34m1,049,088\u001b[0m │ global_average_poolin… │\n",
       "├───────────────────────────┼────────────────────────┼────────────────┼────────────────────────┤\n",
       "│ dropout (\u001b[38;5;33mDropout\u001b[0m)         │ (\u001b[38;5;45mNone\u001b[0m, \u001b[38;5;34m512\u001b[0m)            │              \u001b[38;5;34m0\u001b[0m │ dense[\u001b[38;5;34m0\u001b[0m][\u001b[38;5;34m0\u001b[0m]            │\n",
       "├───────────────────────────┼────────────────────────┼────────────────┼────────────────────────┤\n",
       "│ dense_1 (\u001b[38;5;33mDense\u001b[0m)           │ (\u001b[38;5;45mNone\u001b[0m, \u001b[38;5;34m1024\u001b[0m)           │        \u001b[38;5;34m525,312\u001b[0m │ dropout[\u001b[38;5;34m0\u001b[0m][\u001b[38;5;34m0\u001b[0m]          │\n",
       "├───────────────────────────┼────────────────────────┼────────────────┼────────────────────────┤\n",
       "│ dropout_1 (\u001b[38;5;33mDropout\u001b[0m)       │ (\u001b[38;5;45mNone\u001b[0m, \u001b[38;5;34m1024\u001b[0m)           │              \u001b[38;5;34m0\u001b[0m │ dense_1[\u001b[38;5;34m0\u001b[0m][\u001b[38;5;34m0\u001b[0m]          │\n",
       "├───────────────────────────┼────────────────────────┼────────────────┼────────────────────────┤\n",
       "│ dense_2 (\u001b[38;5;33mDense\u001b[0m)           │ (\u001b[38;5;45mNone\u001b[0m, \u001b[38;5;34m100\u001b[0m)            │        \u001b[38;5;34m102,500\u001b[0m │ dropout_1[\u001b[38;5;34m0\u001b[0m][\u001b[38;5;34m0\u001b[0m]        │\n",
       "└───────────────────────────┴────────────────────────┴────────────────┴────────────────────────┘\n"
      ]
     },
     "metadata": {},
     "output_type": "display_data"
    },
    {
     "data": {
      "text/html": [
       "<pre style=\"white-space:pre;overflow-x:auto;line-height:normal;font-family:Menlo,'DejaVu Sans Mono',consolas,'Courier New',monospace\"><span style=\"font-weight: bold\"> Total params: </span><span style=\"color: #00af00; text-decoration-color: #00af00\">25,264,612</span> (96.38 MB)\n",
       "</pre>\n"
      ],
      "text/plain": [
       "\u001b[1m Total params: \u001b[0m\u001b[38;5;34m25,264,612\u001b[0m (96.38 MB)\n"
      ]
     },
     "metadata": {},
     "output_type": "display_data"
    },
    {
     "data": {
      "text/html": [
       "<pre style=\"white-space:pre;overflow-x:auto;line-height:normal;font-family:Menlo,'DejaVu Sans Mono',consolas,'Courier New',monospace\"><span style=\"font-weight: bold\"> Trainable params: </span><span style=\"color: #00af00; text-decoration-color: #00af00\">1,676,900</span> (6.40 MB)\n",
       "</pre>\n"
      ],
      "text/plain": [
       "\u001b[1m Trainable params: \u001b[0m\u001b[38;5;34m1,676,900\u001b[0m (6.40 MB)\n"
      ]
     },
     "metadata": {},
     "output_type": "display_data"
    },
    {
     "data": {
      "text/html": [
       "<pre style=\"white-space:pre;overflow-x:auto;line-height:normal;font-family:Menlo,'DejaVu Sans Mono',consolas,'Courier New',monospace\"><span style=\"font-weight: bold\"> Non-trainable params: </span><span style=\"color: #00af00; text-decoration-color: #00af00\">23,587,712</span> (89.98 MB)\n",
       "</pre>\n"
      ],
      "text/plain": [
       "\u001b[1m Non-trainable params: \u001b[0m\u001b[38;5;34m23,587,712\u001b[0m (89.98 MB)\n"
      ]
     },
     "metadata": {},
     "output_type": "display_data"
    }
   ],
   "source": [
    "## USING TRANSFER LEARNING RESNET50\n",
    "def classification_cnn_model():\n",
    "    base_model = tf.keras.applications.ResNet50(\n",
    "        input_shape=(IMG_SIZE, IMG_SIZE, CHANNELS),\n",
    "        include_top=False,\n",
    "    )\n",
    "    base_model.trainable = False\n",
    "    inputs = layers.Input(shape=(IMG_SIZE, IMG_SIZE, CHANNELS))\n",
    "    x = tf.keras.applications.resnet.preprocess_input(inputs)\n",
    "    x = base_model(x, training=False)\n",
    "    x = layers.GlobalAveragePooling2D()(x)\n",
    "    x = layers.Dense(512, activation=\"relu\", kernel_regularizer=tf.keras.regularizers.l2(1e-4))(x)\n",
    "    x = layers.Dropout(0.5)(x)\n",
    "    x = layers.Dense(EMBED_DIMS, activation=\"relu\", kernel_regularizer=tf.keras.regularizers.l2(1e-4))(x)\n",
    "    x = layers.Dropout(0.5)(x)\n",
    "    out = layers.Dense(CLASSES_REDUCED)(x)\n",
    "    model = Model(inputs, out)\n",
    "    return model\n",
    "classification_cnn_model().summary()"
   ]
  },
  {
   "cell_type": "markdown",
   "id": "aeec3e85",
   "metadata": {
    "papermill": {
     "duration": 0.009496,
     "end_time": "2025-06-07T17:21:53.848122",
     "exception": false,
     "start_time": "2025-06-07T17:21:53.838626",
     "status": "completed"
    },
    "tags": []
   },
   "source": [
    "## Model Training"
   ]
  },
  {
   "cell_type": "code",
   "execution_count": 14,
   "id": "91f721c4",
   "metadata": {
    "execution": {
     "iopub.execute_input": "2025-06-07T17:21:53.868737Z",
     "iopub.status.busy": "2025-06-07T17:21:53.868424Z",
     "iopub.status.idle": "2025-06-07T17:21:53.872085Z",
     "shell.execute_reply": "2025-06-07T17:21:53.871340Z"
    },
    "papermill": {
     "duration": 0.015399,
     "end_time": "2025-06-07T17:21:53.873308",
     "exception": false,
     "start_time": "2025-06-07T17:21:53.857909",
     "status": "completed"
    },
    "tags": []
   },
   "outputs": [],
   "source": [
    "# with strategy.scope():\n",
    "#     clf_model = classification_cnn_model()\n",
    "#     clf_model.compile(\n",
    "#         tf.keras.optimizers.Adam(1e-3, clipnorm=1.0),\n",
    "#         loss=tf.keras.losses.SparseCategoricalCrossentropy(from_logits=True),\n",
    "#         metrics=[\"accuracy\"]\n",
    "#     )\n",
    "\n",
    "# history = clf_model.fit(train_ds_clf, validation_data=val_ds_clf, epochs=10, callbacks=[early_stopping, reduce_lr])\n",
    "\n",
    "# plt.plot(history.history[\"accuracy\"])\n",
    "# plt.plot(history.history[\"val_accuracy\"])\n",
    "# plt.legend()\n",
    "# plt.show()"
   ]
  },
  {
   "cell_type": "markdown",
   "id": "4ecb5ae7",
   "metadata": {
    "papermill": {
     "duration": 0.009654,
     "end_time": "2025-06-07T17:21:53.892884",
     "exception": false,
     "start_time": "2025-06-07T17:21:53.883230",
     "status": "completed"
    },
    "tags": []
   },
   "source": [
    "# Finetuning Model"
   ]
  },
  {
   "cell_type": "code",
   "execution_count": 15,
   "id": "2954bb71",
   "metadata": {
    "execution": {
     "iopub.execute_input": "2025-06-07T17:21:53.914407Z",
     "iopub.status.busy": "2025-06-07T17:21:53.913786Z",
     "iopub.status.idle": "2025-06-07T17:21:53.917630Z",
     "shell.execute_reply": "2025-06-07T17:21:53.916843Z"
    },
    "papermill": {
     "duration": 0.015909,
     "end_time": "2025-06-07T17:21:53.918885",
     "exception": false,
     "start_time": "2025-06-07T17:21:53.902976",
     "status": "completed"
    },
    "tags": []
   },
   "outputs": [],
   "source": [
    "# with strategy.scope():\n",
    "#     base_model = clf_model.layers[1]\n",
    "#     resnet_layer_count = base_model.layers\n",
    "#     freeze_layers = int(len(resnet_layer_count) * 0.75)\n",
    "    \n",
    "#     for layer in base_model.layers[freeze_layers:]:\n",
    "#         layer.trainable = True\n",
    "\n",
    "#     clf_model.compile(\n",
    "#         tf.keras.optimizers.Adam(1e-5),\n",
    "#         loss=tf.keras.losses.SparseCategoricalCrossentropy(from_logits=True),\n",
    "#         metrics=[\"accuracy\"]\n",
    "#     )\n",
    "\n",
    "# history = clf_model.fit(train_ds_clf, validation_data=val_ds_clf, epochs=10, callbacks=[early_stopping, reduce_lr])\n",
    "\n",
    "# plt.plot(history.history[\"accuracy\"])\n",
    "# plt.plot(history.history[\"val_accuracy\"])\n",
    "# plt.legend()\n",
    "# plt.show()"
   ]
  },
  {
   "cell_type": "markdown",
   "id": "a6c15c04",
   "metadata": {
    "papermill": {
     "duration": 0.00983,
     "end_time": "2025-06-07T17:21:53.938671",
     "exception": false,
     "start_time": "2025-06-07T17:21:53.928841",
     "status": "completed"
    },
    "tags": []
   },
   "source": [
    "## Classification Model Evaluation"
   ]
  },
  {
   "cell_type": "code",
   "execution_count": 16,
   "id": "dfd04643",
   "metadata": {
    "execution": {
     "iopub.execute_input": "2025-06-07T17:21:53.960030Z",
     "iopub.status.busy": "2025-06-07T17:21:53.959244Z",
     "iopub.status.idle": "2025-06-07T17:21:53.962843Z",
     "shell.execute_reply": "2025-06-07T17:21:53.962116Z"
    },
    "papermill": {
     "duration": 0.015247,
     "end_time": "2025-06-07T17:21:53.963906",
     "exception": false,
     "start_time": "2025-06-07T17:21:53.948659",
     "status": "completed"
    },
    "tags": []
   },
   "outputs": [],
   "source": [
    "# tf.keras.backend.clear_session()\n",
    "# clf_eval_model = Model(inputs=clf_model.input, outputs=clf_model.layers[-2].output)\n",
    "# del clf_model"
   ]
  },
  {
   "cell_type": "code",
   "execution_count": 17,
   "id": "5af9cbbc",
   "metadata": {
    "execution": {
     "iopub.execute_input": "2025-06-07T17:21:53.984758Z",
     "iopub.status.busy": "2025-06-07T17:21:53.984468Z",
     "iopub.status.idle": "2025-06-07T17:21:53.987875Z",
     "shell.execute_reply": "2025-06-07T17:21:53.987245Z"
    },
    "papermill": {
     "duration": 0.01522,
     "end_time": "2025-06-07T17:21:53.988988",
     "exception": false,
     "start_time": "2025-06-07T17:21:53.973768",
     "status": "completed"
    },
    "tags": []
   },
   "outputs": [],
   "source": [
    "# clf_threshold = show_roc_auc(clf_eval_model, \"euclidean\")"
   ]
  },
  {
   "cell_type": "markdown",
   "id": "ce91e245",
   "metadata": {
    "papermill": {
     "duration": 0.009563,
     "end_time": "2025-06-07T17:21:54.008309",
     "exception": false,
     "start_time": "2025-06-07T17:21:53.998746",
     "status": "completed"
    },
    "tags": []
   },
   "source": [
    "# Metric Learning (Triplet Loss)"
   ]
  },
  {
   "cell_type": "markdown",
   "id": "abb9ed6a",
   "metadata": {
    "papermill": {
     "duration": 0.009578,
     "end_time": "2025-06-07T17:21:54.027375",
     "exception": false,
     "start_time": "2025-06-07T17:21:54.017797",
     "status": "completed"
    },
    "tags": []
   },
   "source": [
    "## Building Metric Learning Model"
   ]
  },
  {
   "cell_type": "code",
   "execution_count": 18,
   "id": "d7e10586",
   "metadata": {
    "execution": {
     "iopub.execute_input": "2025-06-07T17:21:54.047877Z",
     "iopub.status.busy": "2025-06-07T17:21:54.047278Z",
     "iopub.status.idle": "2025-06-07T17:21:55.130088Z",
     "shell.execute_reply": "2025-06-07T17:21:55.129508Z"
    },
    "papermill": {
     "duration": 1.094344,
     "end_time": "2025-06-07T17:21:55.131193",
     "exception": false,
     "start_time": "2025-06-07T17:21:54.036849",
     "status": "completed"
    },
    "tags": []
   },
   "outputs": [
    {
     "name": "stderr",
     "output_type": "stream",
     "text": [
      "/usr/local/lib/python3.11/dist-packages/keras/src/layers/core/lambda_layer.py:65: UserWarning: Do not pass an `input_shape`/`input_dim` argument to a layer. When using Sequential models, prefer using an `Input(shape)` object as the first layer in the model instead.\n",
      "  super().__init__(**kwargs)\n"
     ]
    },
    {
     "data": {
      "text/html": [
       "<pre style=\"white-space:pre;overflow-x:auto;line-height:normal;font-family:Menlo,'DejaVu Sans Mono',consolas,'Courier New',monospace\"><span style=\"font-weight: bold\">Model: \"functional_1\"</span>\n",
       "</pre>\n"
      ],
      "text/plain": [
       "\u001b[1mModel: \"functional_1\"\u001b[0m\n"
      ]
     },
     "metadata": {},
     "output_type": "display_data"
    },
    {
     "data": {
      "text/html": [
       "<pre style=\"white-space:pre;overflow-x:auto;line-height:normal;font-family:Menlo,'DejaVu Sans Mono',consolas,'Courier New',monospace\">┏━━━━━━━━━━━━━━━━━━━━━━━━━━━┳━━━━━━━━━━━━━━━━━━━━━━━━┳━━━━━━━━━━━━━━━━┳━━━━━━━━━━━━━━━━━━━━━━━━┓\n",
       "┃<span style=\"font-weight: bold\"> Layer (type)              </span>┃<span style=\"font-weight: bold\"> Output Shape           </span>┃<span style=\"font-weight: bold\">        Param # </span>┃<span style=\"font-weight: bold\"> Connected to           </span>┃\n",
       "┡━━━━━━━━━━━━━━━━━━━━━━━━━━━╇━━━━━━━━━━━━━━━━━━━━━━━━╇━━━━━━━━━━━━━━━━╇━━━━━━━━━━━━━━━━━━━━━━━━┩\n",
       "│ input_layer_3             │ (<span style=\"color: #00d7ff; text-decoration-color: #00d7ff\">None</span>, <span style=\"color: #00af00; text-decoration-color: #00af00\">224</span>, <span style=\"color: #00af00; text-decoration-color: #00af00\">224</span>, <span style=\"color: #00af00; text-decoration-color: #00af00\">3</span>)    │              <span style=\"color: #00af00; text-decoration-color: #00af00\">0</span> │ -                      │\n",
       "│ (<span style=\"color: #0087ff; text-decoration-color: #0087ff\">InputLayer</span>)              │                        │                │                        │\n",
       "├───────────────────────────┼────────────────────────┼────────────────┼────────────────────────┤\n",
       "│ get_item_3 (<span style=\"color: #0087ff; text-decoration-color: #0087ff\">GetItem</span>)      │ (<span style=\"color: #00d7ff; text-decoration-color: #00d7ff\">None</span>, <span style=\"color: #00af00; text-decoration-color: #00af00\">224</span>, <span style=\"color: #00af00; text-decoration-color: #00af00\">224</span>)       │              <span style=\"color: #00af00; text-decoration-color: #00af00\">0</span> │ input_layer_3[<span style=\"color: #00af00; text-decoration-color: #00af00\">0</span>][<span style=\"color: #00af00; text-decoration-color: #00af00\">0</span>]    │\n",
       "├───────────────────────────┼────────────────────────┼────────────────┼────────────────────────┤\n",
       "│ get_item_4 (<span style=\"color: #0087ff; text-decoration-color: #0087ff\">GetItem</span>)      │ (<span style=\"color: #00d7ff; text-decoration-color: #00d7ff\">None</span>, <span style=\"color: #00af00; text-decoration-color: #00af00\">224</span>, <span style=\"color: #00af00; text-decoration-color: #00af00\">224</span>)       │              <span style=\"color: #00af00; text-decoration-color: #00af00\">0</span> │ input_layer_3[<span style=\"color: #00af00; text-decoration-color: #00af00\">0</span>][<span style=\"color: #00af00; text-decoration-color: #00af00\">0</span>]    │\n",
       "├───────────────────────────┼────────────────────────┼────────────────┼────────────────────────┤\n",
       "│ get_item_5 (<span style=\"color: #0087ff; text-decoration-color: #0087ff\">GetItem</span>)      │ (<span style=\"color: #00d7ff; text-decoration-color: #00d7ff\">None</span>, <span style=\"color: #00af00; text-decoration-color: #00af00\">224</span>, <span style=\"color: #00af00; text-decoration-color: #00af00\">224</span>)       │              <span style=\"color: #00af00; text-decoration-color: #00af00\">0</span> │ input_layer_3[<span style=\"color: #00af00; text-decoration-color: #00af00\">0</span>][<span style=\"color: #00af00; text-decoration-color: #00af00\">0</span>]    │\n",
       "├───────────────────────────┼────────────────────────┼────────────────┼────────────────────────┤\n",
       "│ stack_1 (<span style=\"color: #0087ff; text-decoration-color: #0087ff\">Stack</span>)           │ (<span style=\"color: #00d7ff; text-decoration-color: #00d7ff\">None</span>, <span style=\"color: #00af00; text-decoration-color: #00af00\">224</span>, <span style=\"color: #00af00; text-decoration-color: #00af00\">224</span>, <span style=\"color: #00af00; text-decoration-color: #00af00\">3</span>)    │              <span style=\"color: #00af00; text-decoration-color: #00af00\">0</span> │ get_item_3[<span style=\"color: #00af00; text-decoration-color: #00af00\">0</span>][<span style=\"color: #00af00; text-decoration-color: #00af00\">0</span>],      │\n",
       "│                           │                        │                │ get_item_4[<span style=\"color: #00af00; text-decoration-color: #00af00\">0</span>][<span style=\"color: #00af00; text-decoration-color: #00af00\">0</span>],      │\n",
       "│                           │                        │                │ get_item_5[<span style=\"color: #00af00; text-decoration-color: #00af00\">0</span>][<span style=\"color: #00af00; text-decoration-color: #00af00\">0</span>]       │\n",
       "├───────────────────────────┼────────────────────────┼────────────────┼────────────────────────┤\n",
       "│ add_1 (<span style=\"color: #0087ff; text-decoration-color: #0087ff\">Add</span>)               │ (<span style=\"color: #00d7ff; text-decoration-color: #00d7ff\">None</span>, <span style=\"color: #00af00; text-decoration-color: #00af00\">224</span>, <span style=\"color: #00af00; text-decoration-color: #00af00\">224</span>, <span style=\"color: #00af00; text-decoration-color: #00af00\">3</span>)    │              <span style=\"color: #00af00; text-decoration-color: #00af00\">0</span> │ stack_1[<span style=\"color: #00af00; text-decoration-color: #00af00\">0</span>][<span style=\"color: #00af00; text-decoration-color: #00af00\">0</span>]          │\n",
       "├───────────────────────────┼────────────────────────┼────────────────┼────────────────────────┤\n",
       "│ resnet50 (<span style=\"color: #0087ff; text-decoration-color: #0087ff\">Functional</span>)     │ (<span style=\"color: #00d7ff; text-decoration-color: #00d7ff\">None</span>, <span style=\"color: #00af00; text-decoration-color: #00af00\">7</span>, <span style=\"color: #00af00; text-decoration-color: #00af00\">7</span>, <span style=\"color: #00af00; text-decoration-color: #00af00\">2048</span>)     │     <span style=\"color: #00af00; text-decoration-color: #00af00\">23,587,712</span> │ add_1[<span style=\"color: #00af00; text-decoration-color: #00af00\">0</span>][<span style=\"color: #00af00; text-decoration-color: #00af00\">0</span>]            │\n",
       "├───────────────────────────┼────────────────────────┼────────────────┼────────────────────────┤\n",
       "│ global_average_pooling2d… │ (<span style=\"color: #00d7ff; text-decoration-color: #00d7ff\">None</span>, <span style=\"color: #00af00; text-decoration-color: #00af00\">2048</span>)           │              <span style=\"color: #00af00; text-decoration-color: #00af00\">0</span> │ resnet50[<span style=\"color: #00af00; text-decoration-color: #00af00\">0</span>][<span style=\"color: #00af00; text-decoration-color: #00af00\">0</span>]         │\n",
       "│ (<span style=\"color: #0087ff; text-decoration-color: #0087ff\">GlobalAveragePooling2D</span>)  │                        │                │                        │\n",
       "├───────────────────────────┼────────────────────────┼────────────────┼────────────────────────┤\n",
       "│ dense_3 (<span style=\"color: #0087ff; text-decoration-color: #0087ff\">Dense</span>)           │ (<span style=\"color: #00d7ff; text-decoration-color: #00d7ff\">None</span>, <span style=\"color: #00af00; text-decoration-color: #00af00\">1024</span>)           │      <span style=\"color: #00af00; text-decoration-color: #00af00\">2,098,176</span> │ global_average_poolin… │\n",
       "├───────────────────────────┼────────────────────────┼────────────────┼────────────────────────┤\n",
       "│ lambda (<span style=\"color: #0087ff; text-decoration-color: #0087ff\">Lambda</span>)           │ (<span style=\"color: #00d7ff; text-decoration-color: #00d7ff\">None</span>, <span style=\"color: #00af00; text-decoration-color: #00af00\">1024</span>)           │              <span style=\"color: #00af00; text-decoration-color: #00af00\">0</span> │ dense_3[<span style=\"color: #00af00; text-decoration-color: #00af00\">0</span>][<span style=\"color: #00af00; text-decoration-color: #00af00\">0</span>]          │\n",
       "└───────────────────────────┴────────────────────────┴────────────────┴────────────────────────┘\n",
       "</pre>\n"
      ],
      "text/plain": [
       "┏━━━━━━━━━━━━━━━━━━━━━━━━━━━┳━━━━━━━━━━━━━━━━━━━━━━━━┳━━━━━━━━━━━━━━━━┳━━━━━━━━━━━━━━━━━━━━━━━━┓\n",
       "┃\u001b[1m \u001b[0m\u001b[1mLayer (type)             \u001b[0m\u001b[1m \u001b[0m┃\u001b[1m \u001b[0m\u001b[1mOutput Shape          \u001b[0m\u001b[1m \u001b[0m┃\u001b[1m \u001b[0m\u001b[1m       Param #\u001b[0m\u001b[1m \u001b[0m┃\u001b[1m \u001b[0m\u001b[1mConnected to          \u001b[0m\u001b[1m \u001b[0m┃\n",
       "┡━━━━━━━━━━━━━━━━━━━━━━━━━━━╇━━━━━━━━━━━━━━━━━━━━━━━━╇━━━━━━━━━━━━━━━━╇━━━━━━━━━━━━━━━━━━━━━━━━┩\n",
       "│ input_layer_3             │ (\u001b[38;5;45mNone\u001b[0m, \u001b[38;5;34m224\u001b[0m, \u001b[38;5;34m224\u001b[0m, \u001b[38;5;34m3\u001b[0m)    │              \u001b[38;5;34m0\u001b[0m │ -                      │\n",
       "│ (\u001b[38;5;33mInputLayer\u001b[0m)              │                        │                │                        │\n",
       "├───────────────────────────┼────────────────────────┼────────────────┼────────────────────────┤\n",
       "│ get_item_3 (\u001b[38;5;33mGetItem\u001b[0m)      │ (\u001b[38;5;45mNone\u001b[0m, \u001b[38;5;34m224\u001b[0m, \u001b[38;5;34m224\u001b[0m)       │              \u001b[38;5;34m0\u001b[0m │ input_layer_3[\u001b[38;5;34m0\u001b[0m][\u001b[38;5;34m0\u001b[0m]    │\n",
       "├───────────────────────────┼────────────────────────┼────────────────┼────────────────────────┤\n",
       "│ get_item_4 (\u001b[38;5;33mGetItem\u001b[0m)      │ (\u001b[38;5;45mNone\u001b[0m, \u001b[38;5;34m224\u001b[0m, \u001b[38;5;34m224\u001b[0m)       │              \u001b[38;5;34m0\u001b[0m │ input_layer_3[\u001b[38;5;34m0\u001b[0m][\u001b[38;5;34m0\u001b[0m]    │\n",
       "├───────────────────────────┼────────────────────────┼────────────────┼────────────────────────┤\n",
       "│ get_item_5 (\u001b[38;5;33mGetItem\u001b[0m)      │ (\u001b[38;5;45mNone\u001b[0m, \u001b[38;5;34m224\u001b[0m, \u001b[38;5;34m224\u001b[0m)       │              \u001b[38;5;34m0\u001b[0m │ input_layer_3[\u001b[38;5;34m0\u001b[0m][\u001b[38;5;34m0\u001b[0m]    │\n",
       "├───────────────────────────┼────────────────────────┼────────────────┼────────────────────────┤\n",
       "│ stack_1 (\u001b[38;5;33mStack\u001b[0m)           │ (\u001b[38;5;45mNone\u001b[0m, \u001b[38;5;34m224\u001b[0m, \u001b[38;5;34m224\u001b[0m, \u001b[38;5;34m3\u001b[0m)    │              \u001b[38;5;34m0\u001b[0m │ get_item_3[\u001b[38;5;34m0\u001b[0m][\u001b[38;5;34m0\u001b[0m],      │\n",
       "│                           │                        │                │ get_item_4[\u001b[38;5;34m0\u001b[0m][\u001b[38;5;34m0\u001b[0m],      │\n",
       "│                           │                        │                │ get_item_5[\u001b[38;5;34m0\u001b[0m][\u001b[38;5;34m0\u001b[0m]       │\n",
       "├───────────────────────────┼────────────────────────┼────────────────┼────────────────────────┤\n",
       "│ add_1 (\u001b[38;5;33mAdd\u001b[0m)               │ (\u001b[38;5;45mNone\u001b[0m, \u001b[38;5;34m224\u001b[0m, \u001b[38;5;34m224\u001b[0m, \u001b[38;5;34m3\u001b[0m)    │              \u001b[38;5;34m0\u001b[0m │ stack_1[\u001b[38;5;34m0\u001b[0m][\u001b[38;5;34m0\u001b[0m]          │\n",
       "├───────────────────────────┼────────────────────────┼────────────────┼────────────────────────┤\n",
       "│ resnet50 (\u001b[38;5;33mFunctional\u001b[0m)     │ (\u001b[38;5;45mNone\u001b[0m, \u001b[38;5;34m7\u001b[0m, \u001b[38;5;34m7\u001b[0m, \u001b[38;5;34m2048\u001b[0m)     │     \u001b[38;5;34m23,587,712\u001b[0m │ add_1[\u001b[38;5;34m0\u001b[0m][\u001b[38;5;34m0\u001b[0m]            │\n",
       "├───────────────────────────┼────────────────────────┼────────────────┼────────────────────────┤\n",
       "│ global_average_pooling2d… │ (\u001b[38;5;45mNone\u001b[0m, \u001b[38;5;34m2048\u001b[0m)           │              \u001b[38;5;34m0\u001b[0m │ resnet50[\u001b[38;5;34m0\u001b[0m][\u001b[38;5;34m0\u001b[0m]         │\n",
       "│ (\u001b[38;5;33mGlobalAveragePooling2D\u001b[0m)  │                        │                │                        │\n",
       "├───────────────────────────┼────────────────────────┼────────────────┼────────────────────────┤\n",
       "│ dense_3 (\u001b[38;5;33mDense\u001b[0m)           │ (\u001b[38;5;45mNone\u001b[0m, \u001b[38;5;34m1024\u001b[0m)           │      \u001b[38;5;34m2,098,176\u001b[0m │ global_average_poolin… │\n",
       "├───────────────────────────┼────────────────────────┼────────────────┼────────────────────────┤\n",
       "│ lambda (\u001b[38;5;33mLambda\u001b[0m)           │ (\u001b[38;5;45mNone\u001b[0m, \u001b[38;5;34m1024\u001b[0m)           │              \u001b[38;5;34m0\u001b[0m │ dense_3[\u001b[38;5;34m0\u001b[0m][\u001b[38;5;34m0\u001b[0m]          │\n",
       "└───────────────────────────┴────────────────────────┴────────────────┴────────────────────────┘\n"
      ]
     },
     "metadata": {},
     "output_type": "display_data"
    },
    {
     "data": {
      "text/html": [
       "<pre style=\"white-space:pre;overflow-x:auto;line-height:normal;font-family:Menlo,'DejaVu Sans Mono',consolas,'Courier New',monospace\"><span style=\"font-weight: bold\"> Total params: </span><span style=\"color: #00af00; text-decoration-color: #00af00\">25,685,888</span> (97.98 MB)\n",
       "</pre>\n"
      ],
      "text/plain": [
       "\u001b[1m Total params: \u001b[0m\u001b[38;5;34m25,685,888\u001b[0m (97.98 MB)\n"
      ]
     },
     "metadata": {},
     "output_type": "display_data"
    },
    {
     "data": {
      "text/html": [
       "<pre style=\"white-space:pre;overflow-x:auto;line-height:normal;font-family:Menlo,'DejaVu Sans Mono',consolas,'Courier New',monospace\"><span style=\"font-weight: bold\"> Trainable params: </span><span style=\"color: #00af00; text-decoration-color: #00af00\">2,098,176</span> (8.00 MB)\n",
       "</pre>\n"
      ],
      "text/plain": [
       "\u001b[1m Trainable params: \u001b[0m\u001b[38;5;34m2,098,176\u001b[0m (8.00 MB)\n"
      ]
     },
     "metadata": {},
     "output_type": "display_data"
    },
    {
     "data": {
      "text/html": [
       "<pre style=\"white-space:pre;overflow-x:auto;line-height:normal;font-family:Menlo,'DejaVu Sans Mono',consolas,'Courier New',monospace\"><span style=\"font-weight: bold\"> Non-trainable params: </span><span style=\"color: #00af00; text-decoration-color: #00af00\">23,587,712</span> (89.98 MB)\n",
       "</pre>\n"
      ],
      "text/plain": [
       "\u001b[1m Non-trainable params: \u001b[0m\u001b[38;5;34m23,587,712\u001b[0m (89.98 MB)\n"
      ]
     },
     "metadata": {},
     "output_type": "display_data"
    }
   ],
   "source": [
    "def l2_norm(x):\n",
    "    return tf.math.l2_normalize(x, axis=-1)\n",
    "\n",
    "def metric_learning_model():\n",
    "    base_model = tf.keras.applications.ResNet50(\n",
    "        input_shape=(IMG_SIZE, IMG_SIZE, CHANNELS),\n",
    "        include_top=False,\n",
    "    )\n",
    "    base_model.trainable = False\n",
    "    inputs = layers.Input(shape=(IMG_SIZE, IMG_SIZE, CHANNELS))\n",
    "    x = tf.keras.applications.resnet.preprocess_input(inputs)\n",
    "    x = base_model(x, training=False)\n",
    "    x = layers.GlobalAveragePooling2D()(x)\n",
    "    x = layers.Dense(EMBED_DIMS, kernel_regularizer=tf.keras.regularizers.l2(1e-4))(x)\n",
    "    out = tf.keras.layers.Lambda(l2_norm, input_shape=(EMBED_DIMS,), output_shape=(EMBED_DIMS,))(x)\n",
    "    model = Model(inputs, out)\n",
    "    return model\n",
    "\n",
    "metric_learning_model().summary()"
   ]
  },
  {
   "cell_type": "markdown",
   "id": "cbecd3ee",
   "metadata": {
    "papermill": {
     "duration": 0.009881,
     "end_time": "2025-06-07T17:21:55.152229",
     "exception": false,
     "start_time": "2025-06-07T17:21:55.142348",
     "status": "completed"
    },
    "tags": []
   },
   "source": [
    "## Triplet Mask For Validating Triplets"
   ]
  },
  {
   "cell_type": "markdown",
   "id": "a69365b4",
   "metadata": {
    "papermill": {
     "duration": 0.009906,
     "end_time": "2025-06-07T17:21:55.172281",
     "exception": false,
     "start_time": "2025-06-07T17:21:55.162375",
     "status": "completed"
    },
    "tags": []
   },
   "source": [
    "To get the positive mask, we want to build a 2D tensor with shape of (BATCH_SIZE, BATCH_SIZE)\n",
    "\n",
    "The row and column is comprised of the \"labels\" vector. \n",
    "\n",
    "Given $i$ (row) and $j$ (column), mask$_{ij}$ is $true$ if label$_i$ == label$_j$\n",
    "\n",
    "In addition to the above condition, it should also only be $true$ if $i$ and $i$ is NOT the same (Can't have the same image as both anchor and positive)\n",
    "\n",
    "<br>\n",
    "To get the negative mask,  mask$_{ij}$ is $true$ if label$_i$ != label$_j$ (Condition flipped from the positive mask)\n",
    "\n",
    "The same condition of $i$ and $j$ not being the same is still valid"
   ]
  },
  {
   "cell_type": "code",
   "execution_count": 19,
   "id": "65b3e7ea",
   "metadata": {
    "execution": {
     "iopub.execute_input": "2025-06-07T17:21:55.194396Z",
     "iopub.status.busy": "2025-06-07T17:21:55.193780Z",
     "iopub.status.idle": "2025-06-07T17:21:55.199051Z",
     "shell.execute_reply": "2025-06-07T17:21:55.198467Z"
    },
    "papermill": {
     "duration": 0.017712,
     "end_time": "2025-06-07T17:21:55.200117",
     "exception": false,
     "start_time": "2025-06-07T17:21:55.182405",
     "status": "completed"
    },
    "tags": []
   },
   "outputs": [],
   "source": [
    "def get_triplet_mask(labels):\n",
    "    '''\n",
    "        Args:\n",
    "            labels: Tensor of labels. Shape of (N,)\n",
    "        Return:\n",
    "            (positive_mask, negative_mask): A tuple of positive mask (N, N) and negative mask (N, N)\n",
    "    '''\n",
    "    # Reshape labels to (N, 1)\n",
    "    labels = tf.reshape(labels, (-1 , 1))\n",
    "    labels_are_the_same = tf.equal(labels, tf.transpose(labels))\n",
    "    labels_are_not_the_same = ~labels_are_the_same\n",
    "    # Get identity matrix of N range. Flip the identity matrix boolean so that if i == j = false\n",
    "    indices_are_not_the_same = tf.logical_not(tf.eye(tf.shape(labels)[0], dtype=tf.bool))\n",
    "\n",
    "    # Get labels that has same labels (same person) as positive mask\n",
    "    positive_mask = tf.logical_and(indices_are_not_the_same, labels_are_the_same)\n",
    "    positive_mask = tf.cast(positive_mask, dtype=tf.float16)\n",
    "\n",
    "    # Get labels that has different labels (different person) as negative mask\n",
    "    negative_mask = tf.logical_and(indices_are_not_the_same, labels_are_not_the_same)\n",
    "    negative_mask = tf.cast(negative_mask, dtype=tf.float16)\n",
    "    \n",
    "    return (positive_mask, negative_mask)"
   ]
  },
  {
   "cell_type": "markdown",
   "id": "a5167e1e",
   "metadata": {
    "papermill": {
     "duration": 0.010146,
     "end_time": "2025-06-07T17:21:55.220970",
     "exception": false,
     "start_time": "2025-06-07T17:21:55.210824",
     "status": "completed"
    },
    "tags": []
   },
   "source": [
    "## Euclidian Distance Matrix Function"
   ]
  },
  {
   "cell_type": "markdown",
   "id": "5973932e",
   "metadata": {
    "papermill": {
     "duration": 0.009761,
     "end_time": "2025-06-07T17:21:55.240915",
     "exception": false,
     "start_time": "2025-06-07T17:21:55.231154",
     "status": "completed"
    },
    "tags": []
   },
   "source": [
    "Uses the euclidian distance matrix trick (https://samuelalbanie.com/files/Euclidean_distance_trick.pdf)\n",
    "\n",
    "Computes the euclidian distance\n",
    "    $$(X_i - X_j) . (X_i - X_j)^T$$\n",
    "As the following equation\n",
    "    $$||X_i||_2^2 - 2Xi^TX_j + ||X_j||_2^2$$ \n",
    "\n",
    "To do the computation, we need to get the value of:\n",
    "\n",
    "$||X_i||_2^2$ : Squared L2 norm of X_i\n",
    "\n",
    "$X_i^TX_j$ : Dot product of X_i and X_j\n",
    "\n",
    "$||X_i||_2^2$ : Squared L2 norm of X_j\n",
    "\n",
    "All of the variables above can be taken from the dot product of $<X_i,X_j>$"
   ]
  },
  {
   "cell_type": "code",
   "execution_count": 20,
   "id": "94a9f017",
   "metadata": {
    "execution": {
     "iopub.execute_input": "2025-06-07T17:21:55.262637Z",
     "iopub.status.busy": "2025-06-07T17:21:55.262123Z",
     "iopub.status.idle": "2025-06-07T17:21:55.266867Z",
     "shell.execute_reply": "2025-06-07T17:21:55.266227Z"
    },
    "papermill": {
     "duration": 0.016956,
     "end_time": "2025-06-07T17:21:55.267988",
     "exception": false,
     "start_time": "2025-06-07T17:21:55.251032",
     "status": "completed"
    },
    "tags": []
   },
   "outputs": [],
   "source": [
    "def compute_pairwise_euclidian_distance(embeddings):\n",
    "    '''\n",
    "        Args:\n",
    "            embeddings: Tensors. A batch of embeddings. (BATCH_SIZE, EMBED_DIMS)\n",
    "        Return:\n",
    "            euclidian_distances: Tensors. Euclidian distance of each embeddings to each of the other embeddings. (BATCH_SIZE, BATCH_SIZE)\n",
    "    '''\n",
    "\n",
    "    # Dot product of <xi, xj>. Outputs shape of (BATCH_SIZE, BATCH_SIZE)\n",
    "    dot_product = tf.matmul(embeddings, tf.transpose(embeddings))\n",
    "        \n",
    "    \n",
    "    # Squared L2 norm of the dot product. Outputs shape of (BATCH_SIZE,)\n",
    "    squared_l2_norm = tf.linalg.diag_part(dot_product)\n",
    "    # Squared L2 norm of xi. Outputs shape of (1, BATCH_SIZE)\n",
    "    squared_l2_xi = tf.expand_dims(squared_l2_norm, 0)\n",
    "    # Squared L2 norm of xj. Outputs shape of (BATCH_SIZE, 1)\n",
    "    squared_l2_xj = tf.expand_dims(squared_l2_norm, 1)\n",
    "\n",
    "    # Computing euclidian distance matrix. Formula used is \n",
    "    distance = squared_l2_xi - (2*dot_product) + squared_l2_xj\n",
    "    # For computing errors\n",
    "    distance = tf.maximum(distance, 0)\n",
    "    \n",
    "    return distance"
   ]
  },
  {
   "cell_type": "markdown",
   "id": "19db8301",
   "metadata": {
    "papermill": {
     "duration": 0.010081,
     "end_time": "2025-06-07T17:21:55.288482",
     "exception": false,
     "start_time": "2025-06-07T17:21:55.278401",
     "status": "completed"
    },
    "tags": []
   },
   "source": [
    "## Triplet Loss Function"
   ]
  },
  {
   "cell_type": "markdown",
   "id": "c49eaec3",
   "metadata": {
    "papermill": {
     "duration": 0.010014,
     "end_time": "2025-06-07T17:21:55.308798",
     "exception": false,
     "start_time": "2025-06-07T17:21:55.298784",
     "status": "completed"
    },
    "tags": []
   },
   "source": [
    "This function uses only the hardest triplet for each anchor in the batch. The formula used for the triplet loss is \n",
    "$$L = max((f(x_a) - f(x_p)) - (f(x_a) - f(x_n)) + \\alpha, 0)$$"
   ]
  },
  {
   "cell_type": "code",
   "execution_count": 21,
   "id": "cc8bd417",
   "metadata": {
    "execution": {
     "iopub.execute_input": "2025-06-07T17:21:55.331499Z",
     "iopub.status.busy": "2025-06-07T17:21:55.330709Z",
     "iopub.status.idle": "2025-06-07T17:21:55.336324Z",
     "shell.execute_reply": "2025-06-07T17:21:55.335763Z"
    },
    "papermill": {
     "duration": 0.018104,
     "end_time": "2025-06-07T17:21:55.337478",
     "exception": false,
     "start_time": "2025-06-07T17:21:55.319374",
     "status": "completed"
    },
    "tags": []
   },
   "outputs": [],
   "source": [
    "# with strategy.scope():\n",
    "def triplet_loss(embeddings, labels, margin):\n",
    "    '''\n",
    "        Args:\n",
    "            embeddings: Tensors of embeddings output from the model. Shape of (BATCH_SIZE, EMBED_DIM)\n",
    "            labels: Tensors of labels for each embeddings. Shape of (BATCH_SIZE,)\n",
    "            margin: Margin for the triplet loss formula. The bigger the margin, the farther apart different faces are from each other\n",
    "        Return:\n",
    "            triplet_loss: Loss computed\n",
    "    '''\n",
    "    # Get pairwise Euclidean distance\n",
    "    pairwise_distance = compute_pairwise_euclidian_distance(embeddings)\n",
    "\n",
    "    # Get masks to filter out invalid pairs\n",
    "    masks = get_triplet_mask(labels)\n",
    "    positive_mask = masks[0]\n",
    "    negative_mask = masks[1]\n",
    "\n",
    "    # Get valid anchors positive pairs\n",
    "    valid_anchor_positive_pairs = tf.multiply(pairwise_distance, positive_mask)\n",
    "    # Get only hardest positive pairs by getting the longest distance pairs\n",
    "    # Since we want the positive pairs to have a close distance to the anchor, the hardest pair will be the one that's really far\n",
    "    hardest_anchor_positive_pairs = tf.reduce_max(valid_anchor_positive_pairs, axis=1, keepdims=True)\n",
    "\n",
    "    # Get valid anchor negative pairs\n",
    "    # Can't just do reduce_min since if we filter out invalid values by the mask (that is, zeroing them out), then reduce_min is going to pickup those 0 values\n",
    "    max_anchor_negative_pairs = tf.reduce_max(pairwise_distance, axis=1, keepdims=True)\n",
    "    # To avoid the above issue, a really large value (in this case the maximum value on each anchor pairs) is added to each invalid pairs\n",
    "    # Essentially removing invalid values by giving them a really large value\n",
    "    valid_anchor_negative_pairs = pairwise_distance + max_anchor_negative_pairs * (1.0 - negative_mask)\n",
    "    # Then get the hardest negative pairs by getting the closest distance pairs\n",
    "    # Since we want the negative pairs to be far away from the anchor, the hardest pair will be the one that's really close to the anchor\n",
    "    hardest_anchor_negative_pairs = tf.reduce_min(valid_anchor_negative_pairs, axis=1, keepdims=True)\n",
    "\n",
    "    # Calculate triplet loss\n",
    "    triplet_loss = tf.maximum(hardest_anchor_positive_pairs - hardest_anchor_negative_pairs + margin, 0.0)\n",
    "    triplet_loss = tf.reduce_mean(triplet_loss)\n",
    "\n",
    "    return triplet_loss"
   ]
  },
  {
   "cell_type": "markdown",
   "id": "f601f0af",
   "metadata": {
    "papermill": {
     "duration": 0.0099,
     "end_time": "2025-06-07T17:21:55.357860",
     "exception": false,
     "start_time": "2025-06-07T17:21:55.347960",
     "status": "completed"
    },
    "tags": []
   },
   "source": [
    "## Model Training"
   ]
  },
  {
   "cell_type": "markdown",
   "id": "de632398",
   "metadata": {
    "papermill": {
     "duration": 0.009933,
     "end_time": "2025-06-07T17:21:55.377938",
     "exception": false,
     "start_time": "2025-06-07T17:21:55.368005",
     "status": "completed"
    },
    "tags": []
   },
   "source": [
    "### Train Step Function"
   ]
  },
  {
   "cell_type": "code",
   "execution_count": 22,
   "id": "8e5c2751",
   "metadata": {
    "execution": {
     "iopub.execute_input": "2025-06-07T17:21:55.399446Z",
     "iopub.status.busy": "2025-06-07T17:21:55.398842Z",
     "iopub.status.idle": "2025-06-07T17:21:55.403426Z",
     "shell.execute_reply": "2025-06-07T17:21:55.402788Z"
    },
    "papermill": {
     "duration": 0.016473,
     "end_time": "2025-06-07T17:21:55.404465",
     "exception": false,
     "start_time": "2025-06-07T17:21:55.387992",
     "status": "completed"
    },
    "tags": []
   },
   "outputs": [],
   "source": [
    "@tf.function\n",
    "def train_step(batch):\n",
    "    # Get images and labels\n",
    "    images = batch[0]\n",
    "    labels = batch[1]\n",
    "\n",
    "    with tf.GradientTape() as tape:\n",
    "        # Produce embeddings\n",
    "        embeddings = metric_model(images)\n",
    "        # Get loss\n",
    "        loss = triplet_loss(embeddings, labels, 0.2)\n",
    "        # Get gradients\n",
    "        grads = tape.gradient(loss, metric_model.trainable_variables)\n",
    "    # Apply gradients\n",
    "    optimizer.apply_gradients(zip(grads, metric_model.trainable_variables))\n",
    "    return loss"
   ]
  },
  {
   "cell_type": "markdown",
   "id": "2a519da7",
   "metadata": {
    "papermill": {
     "duration": 0.009993,
     "end_time": "2025-06-07T17:21:55.424838",
     "exception": false,
     "start_time": "2025-06-07T17:21:55.414845",
     "status": "completed"
    },
    "tags": []
   },
   "source": [
    "### Training Loop"
   ]
  },
  {
   "cell_type": "code",
   "execution_count": 23,
   "id": "d7a094fb",
   "metadata": {
    "execution": {
     "iopub.execute_input": "2025-06-07T17:21:55.447508Z",
     "iopub.status.busy": "2025-06-07T17:21:55.446784Z",
     "iopub.status.idle": "2025-06-08T04:25:14.252649Z",
     "shell.execute_reply": "2025-06-08T04:25:14.251826Z"
    },
    "papermill": {
     "duration": 39798.818777,
     "end_time": "2025-06-08T04:25:14.253821",
     "exception": false,
     "start_time": "2025-06-07T17:21:55.435044",
     "status": "completed"
    },
    "tags": []
   },
   "outputs": [
    {
     "name": "stderr",
     "output_type": "stream",
     "text": [
      "Epoch: 0:   0%|          | 0/2974 [00:00<?, ?it/s]I0000 00:00:1749316936.957194      58 cuda_dnn.cc:529] Loaded cuDNN version 90300\n",
      "Epoch: 0: 100%|██████████| 2974/2974 [13:38<00:00,  3.63it/s]\n"
     ]
    },
    {
     "name": "stdout",
     "output_type": "stream",
     "text": [
      "Epoch 0 loss: 0.01099395751953125\n"
     ]
    },
    {
     "name": "stderr",
     "output_type": "stream",
     "text": [
      "Epoch: 1: 100%|██████████| 2974/2974 [13:14<00:00,  3.74it/s]\n"
     ]
    },
    {
     "name": "stdout",
     "output_type": "stream",
     "text": [
      "Epoch 1 loss: 0.010589599609375\n"
     ]
    },
    {
     "name": "stderr",
     "output_type": "stream",
     "text": [
      "Epoch: 2: 100%|██████████| 2974/2974 [13:14<00:00,  3.74it/s]\n"
     ]
    },
    {
     "name": "stdout",
     "output_type": "stream",
     "text": [
      "Epoch 2 loss: 0.0131988525390625\n"
     ]
    },
    {
     "name": "stderr",
     "output_type": "stream",
     "text": [
      "Epoch: 3: 100%|██████████| 2974/2974 [13:15<00:00,  3.74it/s]\n"
     ]
    },
    {
     "name": "stdout",
     "output_type": "stream",
     "text": [
      "Epoch 3 loss: 0.057464599609375\n"
     ]
    },
    {
     "name": "stderr",
     "output_type": "stream",
     "text": [
      "Epoch: 4: 100%|██████████| 2974/2974 [13:14<00:00,  3.75it/s]\n"
     ]
    },
    {
     "name": "stdout",
     "output_type": "stream",
     "text": [
      "Epoch 4 loss: 0.0687255859375\n"
     ]
    },
    {
     "name": "stderr",
     "output_type": "stream",
     "text": [
      "Epoch: 5: 100%|██████████| 2974/2974 [13:15<00:00,  3.74it/s]\n"
     ]
    },
    {
     "name": "stdout",
     "output_type": "stream",
     "text": [
      "Epoch 5 loss: 0.05145263671875\n"
     ]
    },
    {
     "name": "stderr",
     "output_type": "stream",
     "text": [
      "Epoch: 6: 100%|██████████| 2974/2974 [13:16<00:00,  3.73it/s]\n"
     ]
    },
    {
     "name": "stdout",
     "output_type": "stream",
     "text": [
      "Epoch 6 loss: 0.051544189453125\n"
     ]
    },
    {
     "name": "stderr",
     "output_type": "stream",
     "text": [
      "Epoch: 7: 100%|██████████| 2974/2974 [13:15<00:00,  3.74it/s]\n"
     ]
    },
    {
     "name": "stdout",
     "output_type": "stream",
     "text": [
      "Epoch 7 loss: 0.046875\n"
     ]
    },
    {
     "name": "stderr",
     "output_type": "stream",
     "text": [
      "Epoch: 8: 100%|██████████| 2974/2974 [13:46<00:00,  3.60it/s]\n"
     ]
    },
    {
     "name": "stdout",
     "output_type": "stream",
     "text": [
      "Epoch 8 loss: 0.04681396484375\n"
     ]
    },
    {
     "name": "stderr",
     "output_type": "stream",
     "text": [
      "Epoch: 9: 100%|██████████| 2974/2974 [13:14<00:00,  3.74it/s]\n"
     ]
    },
    {
     "name": "stdout",
     "output_type": "stream",
     "text": [
      "Epoch 9 loss: 0.047210693359375\n"
     ]
    },
    {
     "name": "stderr",
     "output_type": "stream",
     "text": [
      "Epoch: 10: 100%|██████████| 2974/2974 [13:15<00:00,  3.74it/s]\n"
     ]
    },
    {
     "name": "stdout",
     "output_type": "stream",
     "text": [
      "Epoch 10 loss: 0.0462646484375\n"
     ]
    },
    {
     "name": "stderr",
     "output_type": "stream",
     "text": [
      "Epoch: 11: 100%|██████████| 2974/2974 [13:15<00:00,  3.74it/s]\n"
     ]
    },
    {
     "name": "stdout",
     "output_type": "stream",
     "text": [
      "Epoch 11 loss: 0.0498046875\n"
     ]
    },
    {
     "name": "stderr",
     "output_type": "stream",
     "text": [
      "Epoch: 12: 100%|██████████| 2974/2974 [13:15<00:00,  3.74it/s]\n"
     ]
    },
    {
     "name": "stdout",
     "output_type": "stream",
     "text": [
      "Epoch 12 loss: 0.045013427734375\n"
     ]
    },
    {
     "name": "stderr",
     "output_type": "stream",
     "text": [
      "Epoch: 13: 100%|██████████| 2974/2974 [13:15<00:00,  3.74it/s]\n"
     ]
    },
    {
     "name": "stdout",
     "output_type": "stream",
     "text": [
      "Epoch 13 loss: 0.04388427734375\n"
     ]
    },
    {
     "name": "stderr",
     "output_type": "stream",
     "text": [
      "Epoch: 14: 100%|██████████| 2974/2974 [13:14<00:00,  3.74it/s]\n"
     ]
    },
    {
     "name": "stdout",
     "output_type": "stream",
     "text": [
      "Epoch 14 loss: 0.045989990234375\n"
     ]
    },
    {
     "name": "stderr",
     "output_type": "stream",
     "text": [
      "Epoch: 15: 100%|██████████| 2974/2974 [13:14<00:00,  3.74it/s]\n"
     ]
    },
    {
     "name": "stdout",
     "output_type": "stream",
     "text": [
      "Epoch 15 loss: 0.04412841796875\n"
     ]
    },
    {
     "name": "stderr",
     "output_type": "stream",
     "text": [
      "Epoch: 16: 100%|██████████| 2974/2974 [13:14<00:00,  3.74it/s]\n"
     ]
    },
    {
     "name": "stdout",
     "output_type": "stream",
     "text": [
      "Epoch 16 loss: 0.044586181640625\n"
     ]
    },
    {
     "name": "stderr",
     "output_type": "stream",
     "text": [
      "Epoch: 17: 100%|██████████| 2974/2974 [13:13<00:00,  3.75it/s]\n"
     ]
    },
    {
     "name": "stdout",
     "output_type": "stream",
     "text": [
      "Epoch 17 loss: 0.043701171875\n"
     ]
    },
    {
     "name": "stderr",
     "output_type": "stream",
     "text": [
      "Epoch: 18: 100%|██████████| 2974/2974 [13:13<00:00,  3.75it/s]\n"
     ]
    },
    {
     "name": "stdout",
     "output_type": "stream",
     "text": [
      "Epoch 18 loss: 0.044464111328125\n"
     ]
    },
    {
     "name": "stderr",
     "output_type": "stream",
     "text": [
      "Epoch: 19: 100%|██████████| 2974/2974 [13:15<00:00,  3.74it/s]\n"
     ]
    },
    {
     "name": "stdout",
     "output_type": "stream",
     "text": [
      "Epoch 19 loss: 0.0450439453125\n"
     ]
    },
    {
     "name": "stderr",
     "output_type": "stream",
     "text": [
      "Epoch: 20: 100%|██████████| 2974/2974 [13:15<00:00,  3.74it/s]\n"
     ]
    },
    {
     "name": "stdout",
     "output_type": "stream",
     "text": [
      "Epoch 20 loss: 0.044036865234375\n"
     ]
    },
    {
     "name": "stderr",
     "output_type": "stream",
     "text": [
      "Epoch: 21: 100%|██████████| 2974/2974 [13:16<00:00,  3.73it/s]\n"
     ]
    },
    {
     "name": "stdout",
     "output_type": "stream",
     "text": [
      "Epoch 21 loss: 0.04315185546875\n"
     ]
    },
    {
     "name": "stderr",
     "output_type": "stream",
     "text": [
      "Epoch: 22: 100%|██████████| 2974/2974 [13:15<00:00,  3.74it/s]\n"
     ]
    },
    {
     "name": "stdout",
     "output_type": "stream",
     "text": [
      "Epoch 22 loss: 0.043121337890625\n"
     ]
    },
    {
     "name": "stderr",
     "output_type": "stream",
     "text": [
      "Epoch: 23: 100%|██████████| 2974/2974 [13:15<00:00,  3.74it/s]\n"
     ]
    },
    {
     "name": "stdout",
     "output_type": "stream",
     "text": [
      "Epoch 23 loss: 0.041748046875\n"
     ]
    },
    {
     "name": "stderr",
     "output_type": "stream",
     "text": [
      "Epoch: 24: 100%|██████████| 2974/2974 [13:13<00:00,  3.75it/s]\n"
     ]
    },
    {
     "name": "stdout",
     "output_type": "stream",
     "text": [
      "Epoch 24 loss: 0.04315185546875\n"
     ]
    },
    {
     "name": "stderr",
     "output_type": "stream",
     "text": [
      "Epoch: 25: 100%|██████████| 2974/2974 [13:13<00:00,  3.75it/s]\n"
     ]
    },
    {
     "name": "stdout",
     "output_type": "stream",
     "text": [
      "Epoch 25 loss: 0.043121337890625\n"
     ]
    },
    {
     "name": "stderr",
     "output_type": "stream",
     "text": [
      "Epoch: 26: 100%|██████████| 2974/2974 [13:13<00:00,  3.75it/s]\n"
     ]
    },
    {
     "name": "stdout",
     "output_type": "stream",
     "text": [
      "Epoch 26 loss: 0.04443359375\n"
     ]
    },
    {
     "name": "stderr",
     "output_type": "stream",
     "text": [
      "Epoch: 27: 100%|██████████| 2974/2974 [13:14<00:00,  3.75it/s]\n"
     ]
    },
    {
     "name": "stdout",
     "output_type": "stream",
     "text": [
      "Epoch 27 loss: 0.039581298828125\n"
     ]
    },
    {
     "name": "stderr",
     "output_type": "stream",
     "text": [
      "Epoch: 28: 100%|██████████| 2974/2974 [13:14<00:00,  3.74it/s]\n"
     ]
    },
    {
     "name": "stdout",
     "output_type": "stream",
     "text": [
      "Epoch 28 loss: 0.04364013671875\n"
     ]
    },
    {
     "name": "stderr",
     "output_type": "stream",
     "text": [
      "Epoch: 29: 100%|██████████| 2974/2974 [13:13<00:00,  3.75it/s]\n"
     ]
    },
    {
     "name": "stdout",
     "output_type": "stream",
     "text": [
      "Epoch 29 loss: 0.0411376953125\n"
     ]
    },
    {
     "name": "stderr",
     "output_type": "stream",
     "text": [
      "Epoch: 30: 100%|██████████| 2974/2974 [13:14<00:00,  3.75it/s]\n"
     ]
    },
    {
     "name": "stdout",
     "output_type": "stream",
     "text": [
      "Epoch 30 loss: 0.043670654296875\n"
     ]
    },
    {
     "name": "stderr",
     "output_type": "stream",
     "text": [
      "Epoch: 31: 100%|██████████| 2974/2974 [13:14<00:00,  3.74it/s]\n"
     ]
    },
    {
     "name": "stdout",
     "output_type": "stream",
     "text": [
      "Epoch 31 loss: 0.039642333984375\n"
     ]
    },
    {
     "name": "stderr",
     "output_type": "stream",
     "text": [
      "Epoch: 32: 100%|██████████| 2974/2974 [13:15<00:00,  3.74it/s]\n"
     ]
    },
    {
     "name": "stdout",
     "output_type": "stream",
     "text": [
      "Epoch 32 loss: 0.04345703125\n"
     ]
    },
    {
     "name": "stderr",
     "output_type": "stream",
     "text": [
      "Epoch: 33: 100%|██████████| 2974/2974 [13:13<00:00,  3.75it/s]\n"
     ]
    },
    {
     "name": "stdout",
     "output_type": "stream",
     "text": [
      "Epoch 33 loss: 0.043304443359375\n"
     ]
    },
    {
     "name": "stderr",
     "output_type": "stream",
     "text": [
      "Epoch: 34: 100%|██████████| 2974/2974 [13:13<00:00,  3.75it/s]\n"
     ]
    },
    {
     "name": "stdout",
     "output_type": "stream",
     "text": [
      "Epoch 34 loss: 0.0423583984375\n"
     ]
    },
    {
     "name": "stderr",
     "output_type": "stream",
     "text": [
      "Epoch: 35: 100%|██████████| 2974/2974 [13:14<00:00,  3.74it/s]\n"
     ]
    },
    {
     "name": "stdout",
     "output_type": "stream",
     "text": [
      "Epoch 35 loss: 0.043121337890625\n"
     ]
    },
    {
     "name": "stderr",
     "output_type": "stream",
     "text": [
      "Epoch: 36: 100%|██████████| 2974/2974 [13:14<00:00,  3.74it/s]\n"
     ]
    },
    {
     "name": "stdout",
     "output_type": "stream",
     "text": [
      "Epoch 36 loss: 0.043670654296875\n"
     ]
    },
    {
     "name": "stderr",
     "output_type": "stream",
     "text": [
      "Epoch: 37: 100%|██████████| 2974/2974 [13:14<00:00,  3.75it/s]\n"
     ]
    },
    {
     "name": "stdout",
     "output_type": "stream",
     "text": [
      "Epoch 37 loss: 0.040863037109375\n"
     ]
    },
    {
     "name": "stderr",
     "output_type": "stream",
     "text": [
      "Epoch: 38: 100%|██████████| 2974/2974 [13:14<00:00,  3.74it/s]\n"
     ]
    },
    {
     "name": "stdout",
     "output_type": "stream",
     "text": [
      "Epoch 38 loss: 0.04150390625\n"
     ]
    },
    {
     "name": "stderr",
     "output_type": "stream",
     "text": [
      "Epoch: 39: 100%|██████████| 2974/2974 [13:14<00:00,  3.74it/s]\n"
     ]
    },
    {
     "name": "stdout",
     "output_type": "stream",
     "text": [
      "Epoch 39 loss: 0.044189453125\n"
     ]
    },
    {
     "name": "stderr",
     "output_type": "stream",
     "text": [
      "Epoch: 40: 100%|██████████| 2974/2974 [13:13<00:00,  3.75it/s]\n"
     ]
    },
    {
     "name": "stdout",
     "output_type": "stream",
     "text": [
      "Epoch 40 loss: 0.0394287109375\n"
     ]
    },
    {
     "name": "stderr",
     "output_type": "stream",
     "text": [
      "Epoch: 41: 100%|██████████| 2974/2974 [13:13<00:00,  3.75it/s]\n"
     ]
    },
    {
     "name": "stdout",
     "output_type": "stream",
     "text": [
      "Epoch 41 loss: 0.040130615234375\n"
     ]
    },
    {
     "name": "stderr",
     "output_type": "stream",
     "text": [
      "Epoch: 42: 100%|██████████| 2974/2974 [13:17<00:00,  3.73it/s]\n"
     ]
    },
    {
     "name": "stdout",
     "output_type": "stream",
     "text": [
      "Epoch 42 loss: 0.04150390625\n"
     ]
    },
    {
     "name": "stderr",
     "output_type": "stream",
     "text": [
      "Epoch: 43: 100%|██████████| 2974/2974 [13:14<00:00,  3.74it/s]\n"
     ]
    },
    {
     "name": "stdout",
     "output_type": "stream",
     "text": [
      "Epoch 43 loss: 0.043243408203125\n"
     ]
    },
    {
     "name": "stderr",
     "output_type": "stream",
     "text": [
      "Epoch: 44: 100%|██████████| 2974/2974 [13:13<00:00,  3.75it/s]\n"
     ]
    },
    {
     "name": "stdout",
     "output_type": "stream",
     "text": [
      "Epoch 44 loss: 0.0430908203125\n"
     ]
    },
    {
     "name": "stderr",
     "output_type": "stream",
     "text": [
      "Epoch: 45: 100%|██████████| 2974/2974 [13:14<00:00,  3.74it/s]\n"
     ]
    },
    {
     "name": "stdout",
     "output_type": "stream",
     "text": [
      "Epoch 45 loss: 0.039520263671875\n"
     ]
    },
    {
     "name": "stderr",
     "output_type": "stream",
     "text": [
      "Epoch: 46: 100%|██████████| 2974/2974 [13:13<00:00,  3.75it/s]\n"
     ]
    },
    {
     "name": "stdout",
     "output_type": "stream",
     "text": [
      "Epoch 46 loss: 0.042022705078125\n"
     ]
    },
    {
     "name": "stderr",
     "output_type": "stream",
     "text": [
      "Epoch: 47: 100%|██████████| 2974/2974 [13:14<00:00,  3.74it/s]\n"
     ]
    },
    {
     "name": "stdout",
     "output_type": "stream",
     "text": [
      "Epoch 47 loss: 0.042694091796875\n"
     ]
    },
    {
     "name": "stderr",
     "output_type": "stream",
     "text": [
      "Epoch: 48: 100%|██████████| 2974/2974 [13:14<00:00,  3.74it/s]\n"
     ]
    },
    {
     "name": "stdout",
     "output_type": "stream",
     "text": [
      "Epoch 48 loss: 0.0389404296875\n"
     ]
    },
    {
     "name": "stderr",
     "output_type": "stream",
     "text": [
      "Epoch: 49: 100%|██████████| 2974/2974 [13:13<00:00,  3.75it/s]\n"
     ]
    },
    {
     "name": "stdout",
     "output_type": "stream",
     "text": [
      "Epoch 49 loss: 0.043304443359375\n"
     ]
    }
   ],
   "source": [
    "loss_history = []\n",
    "\n",
    "initial_lr = 1e-3\n",
    "lr_schedule = tf.keras.optimizers.schedules.ExponentialDecay(\n",
    "    initial_learning_rate=initial_lr,\n",
    "    decay_steps=3000,\n",
    "    decay_rate=0.95,\n",
    "    staircase=True\n",
    ")\n",
    "\n",
    "metric_model = metric_learning_model()\n",
    "optimizer = tf.keras.optimizers.Adam(lr_schedule)\n",
    "\n",
    "for epoch in range(50):\n",
    "    tmp_loss = []\n",
    "    for batch in tqdm(train_ds, desc=f\"Epoch: {epoch}\"):\n",
    "        loss = train_step(batch)\n",
    "        tmp_loss.append(loss)\n",
    "    current_loss = sum(tmp_loss) / len(tmp_loss)\n",
    "    print(f\"Epoch {epoch} loss: {current_loss}\")\n",
    "    loss_history.append(current_loss)"
   ]
  },
  {
   "cell_type": "code",
   "execution_count": 24,
   "id": "2b9e02c4",
   "metadata": {
    "execution": {
     "iopub.execute_input": "2025-06-08T04:25:27.179997Z",
     "iopub.status.busy": "2025-06-08T04:25:27.179718Z",
     "iopub.status.idle": "2025-06-08T04:25:27.370581Z",
     "shell.execute_reply": "2025-06-08T04:25:27.369818Z"
    },
    "papermill": {
     "duration": 6.378883,
     "end_time": "2025-06-08T04:25:27.371658",
     "exception": false,
     "start_time": "2025-06-08T04:25:20.992775",
     "status": "completed"
    },
    "tags": []
   },
   "outputs": [
    {
     "data": {
      "image/png": "[encoded data removed]",
      "text/plain": [
       "<Figure size 640x480 with 1 Axes>"
      ]
     },
     "metadata": {},
     "output_type": "display_data"
    }
   ],
   "source": [
    "plt.plot(loss_history)\n",
    "plt.show()"
   ]
  },
  {
   "cell_type": "markdown",
   "id": "06cdb16c",
   "metadata": {
    "papermill": {
     "duration": 6.538006,
     "end_time": "2025-06-08T04:25:40.361267",
     "exception": false,
     "start_time": "2025-06-08T04:25:33.823261",
     "status": "completed"
    },
    "tags": []
   },
   "source": [
    "## Metric Learning Model Evaluation"
   ]
  },
  {
   "cell_type": "code",
   "execution_count": 25,
   "id": "fee5fa64",
   "metadata": {
    "execution": {
     "iopub.execute_input": "2025-06-08T04:25:53.018338Z",
     "iopub.status.busy": "2025-06-08T04:25:53.018029Z",
     "iopub.status.idle": "2025-06-08T04:59:56.849551Z",
     "shell.execute_reply": "2025-06-08T04:59:56.848747Z"
    },
    "papermill": {
     "duration": 2050.302471,
     "end_time": "2025-06-08T04:59:56.850716",
     "exception": false,
     "start_time": "2025-06-08T04:25:46.548245",
     "status": "completed"
    },
    "tags": []
   },
   "outputs": [
    {
     "name": "stderr",
     "output_type": "stream",
     "text": [
      "Processing validation: 100%|██████████| 8805/8805 [34:03<00:00,  4.31it/s]\n"
     ]
    },
    {
     "data": {
      "image/png": "[encoded data removed]",
      "text/plain": [
       "<Figure size 640x480 with 1 Axes>"
      ]
     },
     "metadata": {},
     "output_type": "display_data"
    }
   ],
   "source": [
    "tf.keras.backend.clear_session()\n",
    "metric_threshold = show_roc_auc(metric_model, \"euclidean\")"
   ]
  },
  {
   "cell_type": "markdown",
   "id": "257d6615",
   "metadata": {
    "papermill": {
     "duration": 6.561115,
     "end_time": "2025-06-08T05:00:10.274865",
     "exception": false,
     "start_time": "2025-06-08T05:00:03.713750",
     "status": "completed"
    },
    "tags": []
   },
   "source": [
    "## Saving Metric Learning Model and Threshold"
   ]
  },
  {
   "cell_type": "code",
   "execution_count": 26,
   "id": "8e0c3a5d",
   "metadata": {
    "execution": {
     "iopub.execute_input": "2025-06-08T05:00:23.694966Z",
     "iopub.status.busy": "2025-06-08T05:00:23.694695Z",
     "iopub.status.idle": "2025-06-08T05:00:24.413447Z",
     "shell.execute_reply": "2025-06-08T05:00:24.412830Z"
    },
    "papermill": {
     "duration": 7.308679,
     "end_time": "2025-06-08T05:00:24.414806",
     "exception": false,
     "start_time": "2025-06-08T05:00:17.106127",
     "status": "completed"
    },
    "tags": []
   },
   "outputs": [],
   "source": [
    "metric_model.save(\"metric_learning_model.keras\")\n",
    "\n",
    "with open(\"threshold.txt\", \"w\") as f:\n",
    "    f.write(str(metric_threshold))"
   ]
  }
 ],
 "metadata": {
  "kaggle": {
   "accelerator": "gpu",
   "dataSources": [
    {
     "databundleVersionId": 1552852,
     "sourceId": 22881,
     "sourceType": "competition"
    }
   ],
   "dockerImageVersionId": 31040,
   "isGpuEnabled": true,
   "isInternetEnabled": true,
   "language": "python",
   "sourceType": "notebook"
  },
  "kernelspec": {
   "display_name": "Python 3",
   "language": "python",
   "name": "python3"
  },
  "language_info": {
   "codemirror_mode": {
    "name": "ipython",
    "version": 3
   },
   "file_extension": ".py",
   "mimetype": "text/x-python",
   "name": "python",
   "nbconvert_exporter": "python",
   "pygments_lexer": "ipython3",
   "version": "3.11.11"
  },
  "papermill": {
   "default_parameters": {},
   "duration": 42053.346435,
   "end_time": "2025-06-08T05:00:35.124443",
   "environment_variables": {},
   "exception": null,
   "input_path": "__notebook__.ipynb",
   "output_path": "__notebook__.ipynb",
   "parameters": {},
   "start_time": "2025-06-07T17:19:41.778008",
   "version": "2.6.0"
  }
 },
 "nbformat": 4,
 "nbformat_minor": 5
}
