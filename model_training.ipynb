{
 "cells": [
  {
   "cell_type": "code",
   "execution_count": 1,
   "id": "6ccc9039",
   "metadata": {
    "execution": {
     "iopub.execute_input": "2025-06-16T12:09:42.187373Z",
     "iopub.status.busy": "2025-06-16T12:09:42.187108Z",
     "iopub.status.idle": "2025-06-16T12:09:57.915933Z",
     "shell.execute_reply": "2025-06-16T12:09:57.915091Z"
    },
    "papermill": {
     "duration": 15.738624,
     "end_time": "2025-06-16T12:09:57.917469",
     "exception": false,
     "start_time": "2025-06-16T12:09:42.178845",
     "status": "completed"
    },
    "tags": []
   },
   "outputs": [
    {
     "name": "stderr",
     "output_type": "stream",
     "text": [
      "2025-06-16 12:09:43.820363: E external/local_xla/xla/stream_executor/cuda/cuda_fft.cc:477] Unable to register cuFFT factory: Attempting to register factory for plugin cuFFT when one has already been registered\n",
      "WARNING: All log messages before absl::InitializeLog() is called are written to STDERR\n",
      "E0000 00:00:1750075784.022792      19 cuda_dnn.cc:8310] Unable to register cuDNN factory: Attempting to register factory for plugin cuDNN when one has already been registered\n",
      "E0000 00:00:1750075784.090104      19 cuda_blas.cc:1418] Unable to register cuBLAS factory: Attempting to register factory for plugin cuBLAS when one has already been registered\n"
     ]
    }
   ],
   "source": [
    "import tensorflow as tf\n",
    "import matplotlib.pyplot as plt\n",
    "import numpy as np\n",
    "import os\n",
    "import shutil\n",
    "from tensorflow.keras import layers, Model, losses, optimizers, mixed_precision\n",
    "from sklearn.metrics import roc_auc_score, roc_curve\n",
    "from tqdm import tqdm"
   ]
  },
  {
   "cell_type": "markdown",
   "id": "5c5ebdb1",
   "metadata": {
    "papermill": {
     "duration": 0.005822,
     "end_time": "2025-06-16T12:09:57.930074",
     "exception": false,
     "start_time": "2025-06-16T12:09:57.924252",
     "status": "completed"
    },
    "tags": []
   },
   "source": [
    "# Globals"
   ]
  },
  {
   "cell_type": "code",
   "execution_count": 2,
   "id": "f1b01bbf",
   "metadata": {
    "execution": {
     "iopub.execute_input": "2025-06-16T12:09:57.943121Z",
     "iopub.status.busy": "2025-06-16T12:09:57.942628Z",
     "iopub.status.idle": "2025-06-16T12:09:57.947358Z",
     "shell.execute_reply": "2025-06-16T12:09:57.946467Z"
    },
    "papermill": {
     "duration": 0.012485,
     "end_time": "2025-06-16T12:09:57.948493",
     "exception": false,
     "start_time": "2025-06-16T12:09:57.936008",
     "status": "completed"
    },
    "tags": []
   },
   "outputs": [
    {
     "name": "stdout",
     "output_type": "stream",
     "text": [
      "float16\n"
     ]
    }
   ],
   "source": [
    "# Use mixed precision for faster training time\n",
    "policy = mixed_precision.Policy('mixed_float16')\n",
    "mixed_precision.set_global_policy(policy)\n",
    "print(policy.compute_dtype)"
   ]
  },
  {
   "cell_type": "code",
   "execution_count": 3,
   "id": "83eb52f3",
   "metadata": {
    "execution": {
     "iopub.execute_input": "2025-06-16T12:09:57.961700Z",
     "iopub.status.busy": "2025-06-16T12:09:57.961512Z",
     "iopub.status.idle": "2025-06-16T12:09:58.002318Z",
     "shell.execute_reply": "2025-06-16T12:09:58.001800Z"
    },
    "papermill": {
     "duration": 0.048691,
     "end_time": "2025-06-16T12:09:58.003377",
     "exception": false,
     "start_time": "2025-06-16T12:09:57.954686",
     "status": "completed"
    },
    "tags": []
   },
   "outputs": [],
   "source": [
    "ROOT_DATASET = \"/kaggle/input/11-785-fall-20-homework-2-part-2\"\n",
    "TRAIN_DS_PATH = os.path.join(ROOT_DATASET, \"classification_data\", \"train_data\")\n",
    "TRAIN_DS_PATH_CLF = \"/kaggle/working/train_data\"\n",
    "VAL_DS_PATH = os.path.join(ROOT_DATASET, \"classification_data\", \"val_data\")\n",
    "VAL_DS_PATH_CLF = \"/kaggle/working/val_data\"\n",
    "TEST_DS_PATH = os.path.join(ROOT_DATASET, \"classification_data\", \"test_data\")\n",
    "TEST_DS_PATH_CLF = \"/kaggle/working/test_data\"\n",
    "VERIFICATION_TXT = os.path.join(ROOT_DATASET, \"verification_pairs_val.txt\")\n",
    "VERIFICATION_FOLDER = os.path.join(ROOT_DATASET, \"verification_data\")\n",
    "\n",
    "IMG_SIZE = 224\n",
    "CHANNELS = 3\n",
    "CLASSES = len(os.listdir(TRAIN_DS_PATH))\n",
    "CLASSES_REDUCED = 100\n",
    "BATCH_SIZE = 64\n",
    "GLOBAL_BATCH_SIZE = 128\n",
    "# GLOBAL_BATCH_SIZE = BATCH_SIZE * strategy.num_replicas_in_sync\n",
    "EMBED_DIMS = 1024"
   ]
  },
  {
   "cell_type": "markdown",
   "id": "2eff31f5",
   "metadata": {
    "papermill": {
     "duration": 0.006261,
     "end_time": "2025-06-16T12:09:58.015752",
     "exception": false,
     "start_time": "2025-06-16T12:09:58.009491",
     "status": "completed"
    },
    "tags": []
   },
   "source": [
    "# Prune training dataset"
   ]
  },
  {
   "cell_type": "markdown",
   "id": "6d94e0f8",
   "metadata": {
    "papermill": {
     "duration": 0.005705,
     "end_time": "2025-06-16T12:09:58.027439",
     "exception": false,
     "start_time": "2025-06-16T12:09:58.021734",
     "status": "completed"
    },
    "tags": []
   },
   "source": [
    "Reduce training set to 100 classes. Only 100 faces per person will be kept. Skip that person if they don't have enough images"
   ]
  },
  {
   "cell_type": "code",
   "execution_count": 4,
   "id": "65a9ab39",
   "metadata": {
    "execution": {
     "iopub.execute_input": "2025-06-16T12:09:58.039819Z",
     "iopub.status.busy": "2025-06-16T12:09:58.039627Z",
     "iopub.status.idle": "2025-06-16T12:11:05.520551Z",
     "shell.execute_reply": "2025-06-16T12:11:05.519696Z"
    },
    "papermill": {
     "duration": 67.48886,
     "end_time": "2025-06-16T12:11:05.522096",
     "exception": false,
     "start_time": "2025-06-16T12:09:58.033236",
     "status": "completed"
    },
    "tags": []
   },
   "outputs": [],
   "source": [
    "count = 0\n",
    "\n",
    "for faces_dir in os.listdir(TRAIN_DS_PATH):\n",
    "    orig_dir = os.path.join(TRAIN_DS_PATH, faces_dir)\n",
    "    dest_dir = os.path.join(TRAIN_DS_PATH_CLF, faces_dir)\n",
    "    images = os.listdir(orig_dir)\n",
    "    images_count = len(images)\n",
    "    if images_count <= 100:\n",
    "        continue\n",
    "    if count >= CLASSES_REDUCED:\n",
    "        break\n",
    "\n",
    "    shutil.copytree(orig_dir, dest_dir)\n",
    "    shutil.copytree(os.path.join(VAL_DS_PATH, faces_dir), os.path.join(VAL_DS_PATH_CLF, faces_dir))\n",
    "    shutil.copytree(os.path.join(TEST_DS_PATH, faces_dir), os.path.join(TEST_DS_PATH_CLF, faces_dir))\n",
    "    images = os.listdir(dest_dir)\n",
    "    for image in images[100:]:\n",
    "        os.remove(os.path.join(dest_dir, image))\n",
    "    count += 1\n",
    "assert count == CLASSES_REDUCED"
   ]
  },
  {
   "cell_type": "markdown",
   "id": "145f5f58",
   "metadata": {
    "papermill": {
     "duration": 0.005938,
     "end_time": "2025-06-16T12:11:05.534515",
     "exception": false,
     "start_time": "2025-06-16T12:11:05.528577",
     "status": "completed"
    },
    "tags": []
   },
   "source": [
    "# Create lookup table for labels"
   ]
  },
  {
   "cell_type": "code",
   "execution_count": 5,
   "id": "95d5d6f9",
   "metadata": {
    "execution": {
     "iopub.execute_input": "2025-06-16T12:11:05.547620Z",
     "iopub.status.busy": "2025-06-16T12:11:05.547345Z",
     "iopub.status.idle": "2025-06-16T12:11:06.719183Z",
     "shell.execute_reply": "2025-06-16T12:11:06.718326Z"
    },
    "papermill": {
     "duration": 1.17992,
     "end_time": "2025-06-16T12:11:06.720457",
     "exception": false,
     "start_time": "2025-06-16T12:11:05.540537",
     "status": "completed"
    },
    "tags": []
   },
   "outputs": [
    {
     "name": "stderr",
     "output_type": "stream",
     "text": [
      "I0000 00:00:1750075866.677821      19 gpu_device.cc:2022] Created device /job:localhost/replica:0/task:0/device:GPU:0 with 15513 MB memory:  -> device: 0, name: Tesla P100-PCIE-16GB, pci bus id: 0000:00:04.0, compute capability: 6.0\n"
     ]
    }
   ],
   "source": [
    "# List all folder labels\n",
    "label_names = [d for d in os.listdir(TRAIN_DS_PATH)]\n",
    "\n",
    "# Keys from labels\n",
    "keys = tf.constant(label_names)\n",
    "# Values from a range of [0,n-1] with n being classes length\n",
    "values = tf.constant(range(len(label_names)), dtype=tf.int64)\n",
    "\n",
    "# Create lookup table\n",
    "table = tf.lookup.StaticHashTable(\n",
    "    initializer=tf.lookup.KeyValueTensorInitializer(keys, values),\n",
    "    default_value=-1\n",
    ")\n",
    "\n",
    "\n",
    "# Repeat the same but for 100 class dataset\n",
    "label_names_clf = [d for d in os.listdir(TRAIN_DS_PATH_CLF)]\n",
    "\n",
    "keys_clf = tf.constant(label_names_clf)\n",
    "values_clf = tf.constant(range(len(label_names_clf)), dtype=tf.int64)\n",
    "\n",
    "table_clf = tf.lookup.StaticHashTable(\n",
    "    initializer=tf.lookup.KeyValueTensorInitializer(keys_clf, values_clf),\n",
    "    default_value=-1    \n",
    ")"
   ]
  },
  {
   "cell_type": "markdown",
   "id": "4cd736a2",
   "metadata": {
    "papermill": {
     "duration": 0.00605,
     "end_time": "2025-06-16T12:11:06.733195",
     "exception": false,
     "start_time": "2025-06-16T12:11:06.727145",
     "status": "completed"
    },
    "tags": []
   },
   "source": [
    "# Data Preparation"
   ]
  },
  {
   "cell_type": "markdown",
   "id": "034034a2",
   "metadata": {
    "papermill": {
     "duration": 0.005897,
     "end_time": "2025-06-16T12:11:06.745094",
     "exception": false,
     "start_time": "2025-06-16T12:11:06.739197",
     "status": "completed"
    },
    "tags": []
   },
   "source": [
    "## Preprocessing Functions"
   ]
  },
  {
   "cell_type": "code",
   "execution_count": 6,
   "id": "11750b96",
   "metadata": {
    "execution": {
     "iopub.execute_input": "2025-06-16T12:11:06.758512Z",
     "iopub.status.busy": "2025-06-16T12:11:06.757817Z",
     "iopub.status.idle": "2025-06-16T12:11:06.764299Z",
     "shell.execute_reply": "2025-06-16T12:11:06.763744Z"
    },
    "papermill": {
     "duration": 0.014248,
     "end_time": "2025-06-16T12:11:06.765322",
     "exception": false,
     "start_time": "2025-06-16T12:11:06.751074",
     "status": "completed"
    },
    "tags": []
   },
   "outputs": [],
   "source": [
    "def process_path(path):\n",
    "    # Get label\n",
    "    splitted = tf.strings.split(path, os.path.sep)\n",
    "    label = splitted[-2]\n",
    "    label = table.lookup(label)\n",
    "    # Get processed image\n",
    "    img = get_img(path)\n",
    "    return img, label\n",
    "\n",
    "def get_img(path):\n",
    "    img = tf.io.read_file(path)\n",
    "    # Get image as tensor data\n",
    "    img = tf.io.decode_jpeg(img, channels=3)\n",
    "    # Resize image. Currently will be resized to (224, 224)\n",
    "    img = tf.image.resize(img, [IMG_SIZE, IMG_SIZE])\n",
    "    img.set_shape([IMG_SIZE, IMG_SIZE, CHANNELS]) \n",
    "    return img\n",
    "\n",
    "def process_path_clf(path):\n",
    "    # Get label\n",
    "    splitted = tf.strings.split(path, os.path.sep)\n",
    "    label = splitted[-2]\n",
    "    label = table_clf.lookup(label)\n",
    "    # Get processed image\n",
    "    img = get_img(path)\n",
    "    return img, label\n",
    "\n",
    "def process_verification(line):\n",
    "    # Preprocess the file line\n",
    "    line = tf.strings.strip(line)\n",
    "    splitted = tf.strings.split(line, \" \")\n",
    "    # Get first image path\n",
    "    img_path1 = splitted[0]\n",
    "    # Get second image path\n",
    "    img_path2 = splitted[1]\n",
    "    # Get label\n",
    "    label = splitted[2]\n",
    "\n",
    "    # Get both images\n",
    "    img1 = get_img(tf.strings.join([ROOT_DATASET, img_path1], separator=os.path.sep))\n",
    "    img2 = get_img(tf.strings.join([ROOT_DATASET, img_path2], separator=os.path.sep))\n",
    "\n",
    "    return img1, img2, label"
   ]
  },
  {
   "cell_type": "markdown",
   "id": "d192885f",
   "metadata": {
    "papermill": {
     "duration": 0.005901,
     "end_time": "2025-06-16T12:11:06.777233",
     "exception": false,
     "start_time": "2025-06-16T12:11:06.771332",
     "status": "completed"
    },
    "tags": []
   },
   "source": [
    "## Loading Dataset"
   ]
  },
  {
   "cell_type": "markdown",
   "id": "bd1bc4b1",
   "metadata": {
    "papermill": {
     "duration": 0.00576,
     "end_time": "2025-06-16T12:11:06.788918",
     "exception": false,
     "start_time": "2025-06-16T12:11:06.783158",
     "status": "completed"
    },
    "tags": []
   },
   "source": [
    "In this notebook, I will load the data with tf.data.Dataset for more granular control "
   ]
  },
  {
   "cell_type": "code",
   "execution_count": 7,
   "id": "4f2112d5",
   "metadata": {
    "execution": {
     "iopub.execute_input": "2025-06-16T12:11:06.801953Z",
     "iopub.status.busy": "2025-06-16T12:11:06.801490Z",
     "iopub.status.idle": "2025-06-16T12:12:06.825750Z",
     "shell.execute_reply": "2025-06-16T12:12:06.824988Z"
    },
    "papermill": {
     "duration": 60.032463,
     "end_time": "2025-06-16T12:12:06.827338",
     "exception": false,
     "start_time": "2025-06-16T12:11:06.794875",
     "status": "completed"
    },
    "tags": []
   },
   "outputs": [],
   "source": [
    "# Get verification_pairs_val.txt contents\n",
    "verification_lists = []\n",
    "with open(VERIFICATION_TXT, \"r\") as f:\n",
    "    verification_lists = f.readlines()\n",
    "\n",
    "# Turn dataset into tf.data.Dataset\n",
    "train_ds =  tf.data.Dataset.list_files(f\"{TRAIN_DS_PATH}/*/*\")\n",
    "train_ds_clf = tf.data.Dataset.list_files(f\"{TRAIN_DS_PATH_CLF}/*/*\")\n",
    "val_ds_clf =  tf.data.Dataset.list_files(f\"{VAL_DS_PATH_CLF}/*/*\")\n",
    "test_ds_clf =  tf.data.Dataset.list_files(f\"{TEST_DS_PATH_CLF}/*/*\")\n",
    "verification_ds = tf.data.Dataset.from_tensor_slices(verification_lists)"
   ]
  },
  {
   "cell_type": "markdown",
   "id": "044c7563",
   "metadata": {
    "papermill": {
     "duration": 0.006104,
     "end_time": "2025-06-16T12:12:06.840578",
     "exception": false,
     "start_time": "2025-06-16T12:12:06.834474",
     "status": "completed"
    },
    "tags": []
   },
   "source": [
    "The dataset will be processed from containing paths, into containing images along with labels\n",
    "\n",
    "There are several techniques that have been used here for optimizing the training speed, those are:\n",
    "- num_parallel_calls: This argument ensures that the mapping was done in a parallel way\n",
    "- batch: The higher the batch, the more GPU resource will be used to offload CPU resource. As in the training environment the GPU has 16GB VRAM, a higher number of 128 batches will be used\n",
    "- prefetch: Using prefetch will ensure that while the model is training, the next batch of data will be processed at the same time. Essentially a parallel computing technique\n",
    "\n",
    "Caching is not used here as the dataset is large (~320k images) and will cause OOM error"
   ]
  },
  {
   "cell_type": "code",
   "execution_count": 8,
   "id": "133c12e0",
   "metadata": {
    "execution": {
     "iopub.execute_input": "2025-06-16T12:12:06.853605Z",
     "iopub.status.busy": "2025-06-16T12:12:06.853345Z",
     "iopub.status.idle": "2025-06-16T12:12:07.363067Z",
     "shell.execute_reply": "2025-06-16T12:12:07.362493Z"
    },
    "papermill": {
     "duration": 0.517821,
     "end_time": "2025-06-16T12:12:07.364406",
     "exception": false,
     "start_time": "2025-06-16T12:12:06.846585",
     "status": "completed"
    },
    "tags": []
   },
   "outputs": [],
   "source": [
    "train_ds = train_ds.map(process_path, num_parallel_calls=tf.data.AUTOTUNE).shuffle(buffer_size=10000).batch(GLOBAL_BATCH_SIZE).prefetch(tf.data.AUTOTUNE)\n",
    "train_ds_clf = train_ds_clf.map(process_path_clf, num_parallel_calls=tf.data.AUTOTUNE).shuffle(buffer_size=10000).batch(GLOBAL_BATCH_SIZE).prefetch(tf.data.AUTOTUNE)\n",
    "val_ds_clf = val_ds_clf.map(process_path_clf, num_parallel_calls=tf.data.AUTOTUNE).shuffle(buffer_size=10000).batch(GLOBAL_BATCH_SIZE).prefetch(tf.data.AUTOTUNE)\n",
    "test_ds_clf = test_ds_clf.map(process_path_clf, num_parallel_calls=tf.data.AUTOTUNE).shuffle(buffer_size=10000).batch(GLOBAL_BATCH_SIZE).prefetch(tf.data.AUTOTUNE)\n",
    "verification_ds = verification_ds.map(process_verification, num_parallel_calls=tf.data.AUTOTUNE).shuffle(buffer_size=10000).batch(1).prefetch(tf.data.AUTOTUNE)"
   ]
  },
  {
   "cell_type": "code",
   "execution_count": 9,
   "id": "ef8886a2",
   "metadata": {
    "execution": {
     "iopub.execute_input": "2025-06-16T12:12:07.431017Z",
     "iopub.status.busy": "2025-06-16T12:12:07.430381Z",
     "iopub.status.idle": "2025-06-16T12:12:07.436103Z",
     "shell.execute_reply": "2025-06-16T12:12:07.435357Z"
    },
    "papermill": {
     "duration": 0.013794,
     "end_time": "2025-06-16T12:12:07.437169",
     "exception": false,
     "start_time": "2025-06-16T12:12:07.423375",
     "status": "completed"
    },
    "tags": []
   },
   "outputs": [
    {
     "name": "stdout",
     "output_type": "stream",
     "text": [
      "Length of original dataset: 380672\n",
      "Length of pruned dataset: 10112\n"
     ]
    }
   ],
   "source": [
    "# There are around 380672 (give or take 64 images) in the dataset\n",
    "print(f\"Length of original dataset: {len(train_ds) * GLOBAL_BATCH_SIZE}\")\n",
    "print(f\"Length of pruned dataset: {len(train_ds_clf) * GLOBAL_BATCH_SIZE}\")"
   ]
  },
  {
   "cell_type": "markdown",
   "id": "ac1c1adc",
   "metadata": {
    "papermill": {
     "duration": 0.005848,
     "end_time": "2025-06-16T12:12:07.449288",
     "exception": false,
     "start_time": "2025-06-16T12:12:07.443440",
     "status": "completed"
    },
    "tags": []
   },
   "source": [
    "# Evaluation Function"
   ]
  },
  {
   "cell_type": "markdown",
   "id": "2d10f416",
   "metadata": {
    "papermill": {
     "duration": 0.005903,
     "end_time": "2025-06-16T12:12:07.461157",
     "exception": false,
     "start_time": "2025-06-16T12:12:07.455254",
     "status": "completed"
    },
    "tags": []
   },
   "source": [
    "## Similarity Metric"
   ]
  },
  {
   "cell_type": "code",
   "execution_count": 10,
   "id": "30210597",
   "metadata": {
    "execution": {
     "iopub.execute_input": "2025-06-16T12:12:07.474699Z",
     "iopub.status.busy": "2025-06-16T12:12:07.474438Z",
     "iopub.status.idle": "2025-06-16T12:12:07.478507Z",
     "shell.execute_reply": "2025-06-16T12:12:07.478007Z"
    },
    "papermill": {
     "duration": 0.012221,
     "end_time": "2025-06-16T12:12:07.479472",
     "exception": false,
     "start_time": "2025-06-16T12:12:07.467251",
     "status": "completed"
    },
    "tags": []
   },
   "outputs": [],
   "source": [
    "def compute_similarity(emb1, emb2, metric):\n",
    "    if metric == \"euclidean\":\n",
    "        return tf.norm(emb1-emb2, ord=\"euclidean\").numpy()\n",
    "    elif metric == \"cosine\":\n",
    "        distance = tf.keras.losses.cosine_similarity(emb1, emb2)\n",
    "        if distance == np.nan:\n",
    "            return 0\n",
    "        return distance.numpy()\n",
    "    else:\n",
    "        raise Exception(\"Metric unrecognized\")"
   ]
  },
  {
   "cell_type": "markdown",
   "id": "a7578903",
   "metadata": {
    "papermill": {
     "duration": 0.006003,
     "end_time": "2025-06-16T12:12:07.491609",
     "exception": false,
     "start_time": "2025-06-16T12:12:07.485606",
     "status": "completed"
    },
    "tags": []
   },
   "source": [
    "## AUC and ROC Curve With Best Threshold"
   ]
  },
  {
   "cell_type": "code",
   "execution_count": 11,
   "id": "c9705a0c",
   "metadata": {
    "execution": {
     "iopub.execute_input": "2025-06-16T12:12:07.505187Z",
     "iopub.status.busy": "2025-06-16T12:12:07.504947Z",
     "iopub.status.idle": "2025-06-16T12:12:07.511357Z",
     "shell.execute_reply": "2025-06-16T12:12:07.510816Z"
    },
    "papermill": {
     "duration": 0.014503,
     "end_time": "2025-06-16T12:12:07.512432",
     "exception": false,
     "start_time": "2025-06-16T12:12:07.497929",
     "status": "completed"
    },
    "tags": []
   },
   "outputs": [],
   "source": [
    "def show_roc_auc(model, metric=\"euclidean\"):\n",
    "    distances = []\n",
    "    true_labels = []\n",
    "    \n",
    "    # Calculate distances for each verification entry in .txt file\n",
    "    for batch in tqdm(verification_ds, desc=f\"Processing validation\"):\n",
    "        img1, img2, true_label = batch\n",
    "        # Get embeddings of both images\n",
    "        emb1, emb2 = model(tf.concat([img1, img2], axis=0))\n",
    "        # Compute similarity\n",
    "        distance = compute_similarity(emb1, emb2, metric)\n",
    "        # Append distances and labels to full list\n",
    "        distances.append(distance)\n",
    "        true_labels.append(true_label.numpy())\n",
    "\n",
    "    # Format distances and true_labels as numpy\n",
    "    distances = np.array(distances)\n",
    "    true_labels = np.array([int(label[0].decode()) for label in true_labels])\n",
    "\n",
    "    # Calculate FPR, TPR, and thresholds\n",
    "    fpr, tpr, thresholds = roc_curve(true_labels, -distances) \n",
    "    # Get index of best threshold\n",
    "    best_threshold_idx = np.argmax(tpr - fpr)\n",
    "    # Get best threshold\n",
    "    best_threshold = -thresholds[best_threshold_idx]\n",
    "    # Get AUC score\n",
    "    roc_auc = roc_auc_score(true_labels, -distances)\n",
    "    plt.figure()\n",
    "    plt.plot(fpr, tpr, label=f\"ROC curve (AUC = {roc_auc:.3f})\")\n",
    "    plt.annotate(\n",
    "        f\"Best threshold at {best_threshold}\",\n",
    "        (fpr[best_threshold_idx], tpr[best_threshold_idx]),\n",
    "        xytext=(-100, 10),\n",
    "        textcoords=\"offset points\",\n",
    "        arrowprops=dict(\n",
    "            arrowstyle='->'\n",
    "        )\n",
    "    )\n",
    "    plt.plot([0, 1], [0, 1], linestyle=\"--\", label=\"Baseline (AUC = 0.5)\")\n",
    "    plt.xlabel(\"FPR\")\n",
    "    plt.ylabel(\"TPR\")\n",
    "    plt.legend(loc=\"lower right\")\n",
    "    plt.show()\n",
    "    return best_threshold"
   ]
  },
  {
   "cell_type": "markdown",
   "id": "2247b2e9",
   "metadata": {
    "papermill": {
     "duration": 0.006219,
     "end_time": "2025-06-16T12:12:07.525095",
     "exception": false,
     "start_time": "2025-06-16T12:12:07.518876",
     "status": "completed"
    },
    "tags": []
   },
   "source": [
    "# Distributed Training Setup"
   ]
  },
  {
   "cell_type": "code",
   "execution_count": 12,
   "id": "fd135e72",
   "metadata": {
    "execution": {
     "iopub.execute_input": "2025-06-16T12:12:07.538701Z",
     "iopub.status.busy": "2025-06-16T12:12:07.538153Z",
     "iopub.status.idle": "2025-06-16T12:12:07.548226Z",
     "shell.execute_reply": "2025-06-16T12:12:07.547531Z"
    },
    "papermill": {
     "duration": 0.01814,
     "end_time": "2025-06-16T12:12:07.549344",
     "exception": false,
     "start_time": "2025-06-16T12:12:07.531204",
     "status": "completed"
    },
    "tags": []
   },
   "outputs": [],
   "source": [
    "strategy = tf.distribute.MirroredStrategy()\n",
    "\n",
    "with strategy.scope():\n",
    "    reduce_lr = tf.keras.callbacks.ReduceLROnPlateau(\n",
    "        monitor=\"val_loss\",\n",
    "        factor=0.5,\n",
    "        patience=3,\n",
    "        min_lr=1e-6,\n",
    "        verbose=1\n",
    "    )\n",
    "    early_stopping = tf.keras.callbacks.EarlyStopping(monitor=\"val_accuracy\", patience=5, restore_best_weights=True)"
   ]
  },
  {
   "cell_type": "markdown",
   "id": "64f4b0c4",
   "metadata": {
    "papermill": {
     "duration": 0.006025,
     "end_time": "2025-06-16T12:12:07.561532",
     "exception": false,
     "start_time": "2025-06-16T12:12:07.555507",
     "status": "completed"
    },
    "tags": []
   },
   "source": [
    "# Supervised Learning"
   ]
  },
  {
   "cell_type": "markdown",
   "id": "f3f96e1c",
   "metadata": {
    "papermill": {
     "duration": 0.005954,
     "end_time": "2025-06-16T12:12:07.573663",
     "exception": false,
     "start_time": "2025-06-16T12:12:07.567709",
     "status": "completed"
    },
    "tags": []
   },
   "source": [
    "## Building Model"
   ]
  },
  {
   "cell_type": "code",
   "execution_count": 13,
   "id": "134a65e6",
   "metadata": {
    "execution": {
     "iopub.execute_input": "2025-06-16T12:12:07.587205Z",
     "iopub.status.busy": "2025-06-16T12:12:07.586679Z",
     "iopub.status.idle": "2025-06-16T12:12:10.053055Z",
     "shell.execute_reply": "2025-06-16T12:12:10.052356Z"
    },
    "papermill": {
     "duration": 2.474531,
     "end_time": "2025-06-16T12:12:10.054253",
     "exception": false,
     "start_time": "2025-06-16T12:12:07.579722",
     "status": "completed"
    },
    "tags": []
   },
   "outputs": [
    {
     "name": "stdout",
     "output_type": "stream",
     "text": [
      "Downloading data from https://storage.googleapis.com/tensorflow/keras-applications/resnet/resnet50_weights_tf_dim_ordering_tf_kernels_notop.h5\n",
      "\u001b[1m94765736/94765736\u001b[0m \u001b[32m━━━━━━━━━━━━━━━━━━━━\u001b[0m\u001b[37m\u001b[0m \u001b[1m0s\u001b[0m 0us/step\n"
     ]
    },
    {
     "data": {
      "text/html": [
       "<pre style=\"white-space:pre;overflow-x:auto;line-height:normal;font-family:Menlo,'DejaVu Sans Mono',consolas,'Courier New',monospace\"><span style=\"font-weight: bold\">Model: \"functional\"</span>\n",
       "</pre>\n"
      ],
      "text/plain": [
       "\u001b[1mModel: \"functional\"\u001b[0m\n"
      ]
     },
     "metadata": {},
     "output_type": "display_data"
    },
    {
     "data": {
      "text/html": [
       "<pre style=\"white-space:pre;overflow-x:auto;line-height:normal;font-family:Menlo,'DejaVu Sans Mono',consolas,'Courier New',monospace\">┏━━━━━━━━━━━━━━━━━━━━━━━━━━━┳━━━━━━━━━━━━━━━━━━━━━━━━┳━━━━━━━━━━━━━━━━┳━━━━━━━━━━━━━━━━━━━━━━━━┓\n",
       "┃<span style=\"font-weight: bold\"> Layer (type)              </span>┃<span style=\"font-weight: bold\"> Output Shape           </span>┃<span style=\"font-weight: bold\">        Param # </span>┃<span style=\"font-weight: bold\"> Connected to           </span>┃\n",
       "┡━━━━━━━━━━━━━━━━━━━━━━━━━━━╇━━━━━━━━━━━━━━━━━━━━━━━━╇━━━━━━━━━━━━━━━━╇━━━━━━━━━━━━━━━━━━━━━━━━┩\n",
       "│ input_layer_1             │ (<span style=\"color: #00d7ff; text-decoration-color: #00d7ff\">None</span>, <span style=\"color: #00af00; text-decoration-color: #00af00\">224</span>, <span style=\"color: #00af00; text-decoration-color: #00af00\">224</span>, <span style=\"color: #00af00; text-decoration-color: #00af00\">3</span>)    │              <span style=\"color: #00af00; text-decoration-color: #00af00\">0</span> │ -                      │\n",
       "│ (<span style=\"color: #0087ff; text-decoration-color: #0087ff\">InputLayer</span>)              │                        │                │                        │\n",
       "├───────────────────────────┼────────────────────────┼────────────────┼────────────────────────┤\n",
       "│ get_item (<span style=\"color: #0087ff; text-decoration-color: #0087ff\">GetItem</span>)        │ (<span style=\"color: #00d7ff; text-decoration-color: #00d7ff\">None</span>, <span style=\"color: #00af00; text-decoration-color: #00af00\">224</span>, <span style=\"color: #00af00; text-decoration-color: #00af00\">224</span>)       │              <span style=\"color: #00af00; text-decoration-color: #00af00\">0</span> │ input_layer_1[<span style=\"color: #00af00; text-decoration-color: #00af00\">0</span>][<span style=\"color: #00af00; text-decoration-color: #00af00\">0</span>]    │\n",
       "├───────────────────────────┼────────────────────────┼────────────────┼────────────────────────┤\n",
       "│ get_item_1 (<span style=\"color: #0087ff; text-decoration-color: #0087ff\">GetItem</span>)      │ (<span style=\"color: #00d7ff; text-decoration-color: #00d7ff\">None</span>, <span style=\"color: #00af00; text-decoration-color: #00af00\">224</span>, <span style=\"color: #00af00; text-decoration-color: #00af00\">224</span>)       │              <span style=\"color: #00af00; text-decoration-color: #00af00\">0</span> │ input_layer_1[<span style=\"color: #00af00; text-decoration-color: #00af00\">0</span>][<span style=\"color: #00af00; text-decoration-color: #00af00\">0</span>]    │\n",
       "├───────────────────────────┼────────────────────────┼────────────────┼────────────────────────┤\n",
       "│ get_item_2 (<span style=\"color: #0087ff; text-decoration-color: #0087ff\">GetItem</span>)      │ (<span style=\"color: #00d7ff; text-decoration-color: #00d7ff\">None</span>, <span style=\"color: #00af00; text-decoration-color: #00af00\">224</span>, <span style=\"color: #00af00; text-decoration-color: #00af00\">224</span>)       │              <span style=\"color: #00af00; text-decoration-color: #00af00\">0</span> │ input_layer_1[<span style=\"color: #00af00; text-decoration-color: #00af00\">0</span>][<span style=\"color: #00af00; text-decoration-color: #00af00\">0</span>]    │\n",
       "├───────────────────────────┼────────────────────────┼────────────────┼────────────────────────┤\n",
       "│ stack (<span style=\"color: #0087ff; text-decoration-color: #0087ff\">Stack</span>)             │ (<span style=\"color: #00d7ff; text-decoration-color: #00d7ff\">None</span>, <span style=\"color: #00af00; text-decoration-color: #00af00\">224</span>, <span style=\"color: #00af00; text-decoration-color: #00af00\">224</span>, <span style=\"color: #00af00; text-decoration-color: #00af00\">3</span>)    │              <span style=\"color: #00af00; text-decoration-color: #00af00\">0</span> │ get_item[<span style=\"color: #00af00; text-decoration-color: #00af00\">0</span>][<span style=\"color: #00af00; text-decoration-color: #00af00\">0</span>],        │\n",
       "│                           │                        │                │ get_item_1[<span style=\"color: #00af00; text-decoration-color: #00af00\">0</span>][<span style=\"color: #00af00; text-decoration-color: #00af00\">0</span>],      │\n",
       "│                           │                        │                │ get_item_2[<span style=\"color: #00af00; text-decoration-color: #00af00\">0</span>][<span style=\"color: #00af00; text-decoration-color: #00af00\">0</span>]       │\n",
       "├───────────────────────────┼────────────────────────┼────────────────┼────────────────────────┤\n",
       "│ add (<span style=\"color: #0087ff; text-decoration-color: #0087ff\">Add</span>)                 │ (<span style=\"color: #00d7ff; text-decoration-color: #00d7ff\">None</span>, <span style=\"color: #00af00; text-decoration-color: #00af00\">224</span>, <span style=\"color: #00af00; text-decoration-color: #00af00\">224</span>, <span style=\"color: #00af00; text-decoration-color: #00af00\">3</span>)    │              <span style=\"color: #00af00; text-decoration-color: #00af00\">0</span> │ stack[<span style=\"color: #00af00; text-decoration-color: #00af00\">0</span>][<span style=\"color: #00af00; text-decoration-color: #00af00\">0</span>]            │\n",
       "├───────────────────────────┼────────────────────────┼────────────────┼────────────────────────┤\n",
       "│ resnet50 (<span style=\"color: #0087ff; text-decoration-color: #0087ff\">Functional</span>)     │ (<span style=\"color: #00d7ff; text-decoration-color: #00d7ff\">None</span>, <span style=\"color: #00af00; text-decoration-color: #00af00\">7</span>, <span style=\"color: #00af00; text-decoration-color: #00af00\">7</span>, <span style=\"color: #00af00; text-decoration-color: #00af00\">2048</span>)     │     <span style=\"color: #00af00; text-decoration-color: #00af00\">23,587,712</span> │ add[<span style=\"color: #00af00; text-decoration-color: #00af00\">0</span>][<span style=\"color: #00af00; text-decoration-color: #00af00\">0</span>]              │\n",
       "├───────────────────────────┼────────────────────────┼────────────────┼────────────────────────┤\n",
       "│ global_average_pooling2d  │ (<span style=\"color: #00d7ff; text-decoration-color: #00d7ff\">None</span>, <span style=\"color: #00af00; text-decoration-color: #00af00\">2048</span>)           │              <span style=\"color: #00af00; text-decoration-color: #00af00\">0</span> │ resnet50[<span style=\"color: #00af00; text-decoration-color: #00af00\">0</span>][<span style=\"color: #00af00; text-decoration-color: #00af00\">0</span>]         │\n",
       "│ (<span style=\"color: #0087ff; text-decoration-color: #0087ff\">GlobalAveragePooling2D</span>)  │                        │                │                        │\n",
       "├───────────────────────────┼────────────────────────┼────────────────┼────────────────────────┤\n",
       "│ dense (<span style=\"color: #0087ff; text-decoration-color: #0087ff\">Dense</span>)             │ (<span style=\"color: #00d7ff; text-decoration-color: #00d7ff\">None</span>, <span style=\"color: #00af00; text-decoration-color: #00af00\">512</span>)            │      <span style=\"color: #00af00; text-decoration-color: #00af00\">1,049,088</span> │ global_average_poolin… │\n",
       "├───────────────────────────┼────────────────────────┼────────────────┼────────────────────────┤\n",
       "│ dropout (<span style=\"color: #0087ff; text-decoration-color: #0087ff\">Dropout</span>)         │ (<span style=\"color: #00d7ff; text-decoration-color: #00d7ff\">None</span>, <span style=\"color: #00af00; text-decoration-color: #00af00\">512</span>)            │              <span style=\"color: #00af00; text-decoration-color: #00af00\">0</span> │ dense[<span style=\"color: #00af00; text-decoration-color: #00af00\">0</span>][<span style=\"color: #00af00; text-decoration-color: #00af00\">0</span>]            │\n",
       "├───────────────────────────┼────────────────────────┼────────────────┼────────────────────────┤\n",
       "│ dense_1 (<span style=\"color: #0087ff; text-decoration-color: #0087ff\">Dense</span>)           │ (<span style=\"color: #00d7ff; text-decoration-color: #00d7ff\">None</span>, <span style=\"color: #00af00; text-decoration-color: #00af00\">1024</span>)           │        <span style=\"color: #00af00; text-decoration-color: #00af00\">525,312</span> │ dropout[<span style=\"color: #00af00; text-decoration-color: #00af00\">0</span>][<span style=\"color: #00af00; text-decoration-color: #00af00\">0</span>]          │\n",
       "├───────────────────────────┼────────────────────────┼────────────────┼────────────────────────┤\n",
       "│ dropout_1 (<span style=\"color: #0087ff; text-decoration-color: #0087ff\">Dropout</span>)       │ (<span style=\"color: #00d7ff; text-decoration-color: #00d7ff\">None</span>, <span style=\"color: #00af00; text-decoration-color: #00af00\">1024</span>)           │              <span style=\"color: #00af00; text-decoration-color: #00af00\">0</span> │ dense_1[<span style=\"color: #00af00; text-decoration-color: #00af00\">0</span>][<span style=\"color: #00af00; text-decoration-color: #00af00\">0</span>]          │\n",
       "├───────────────────────────┼────────────────────────┼────────────────┼────────────────────────┤\n",
       "│ dense_2 (<span style=\"color: #0087ff; text-decoration-color: #0087ff\">Dense</span>)           │ (<span style=\"color: #00d7ff; text-decoration-color: #00d7ff\">None</span>, <span style=\"color: #00af00; text-decoration-color: #00af00\">100</span>)            │        <span style=\"color: #00af00; text-decoration-color: #00af00\">102,500</span> │ dropout_1[<span style=\"color: #00af00; text-decoration-color: #00af00\">0</span>][<span style=\"color: #00af00; text-decoration-color: #00af00\">0</span>]        │\n",
       "└───────────────────────────┴────────────────────────┴────────────────┴────────────────────────┘\n",
       "</pre>\n"
      ],
      "text/plain": [
       "┏━━━━━━━━━━━━━━━━━━━━━━━━━━━┳━━━━━━━━━━━━━━━━━━━━━━━━┳━━━━━━━━━━━━━━━━┳━━━━━━━━━━━━━━━━━━━━━━━━┓\n",
       "┃\u001b[1m \u001b[0m\u001b[1mLayer (type)             \u001b[0m\u001b[1m \u001b[0m┃\u001b[1m \u001b[0m\u001b[1mOutput Shape          \u001b[0m\u001b[1m \u001b[0m┃\u001b[1m \u001b[0m\u001b[1m       Param #\u001b[0m\u001b[1m \u001b[0m┃\u001b[1m \u001b[0m\u001b[1mConnected to          \u001b[0m\u001b[1m \u001b[0m┃\n",
       "┡━━━━━━━━━━━━━━━━━━━━━━━━━━━╇━━━━━━━━━━━━━━━━━━━━━━━━╇━━━━━━━━━━━━━━━━╇━━━━━━━━━━━━━━━━━━━━━━━━┩\n",
       "│ input_layer_1             │ (\u001b[38;5;45mNone\u001b[0m, \u001b[38;5;34m224\u001b[0m, \u001b[38;5;34m224\u001b[0m, \u001b[38;5;34m3\u001b[0m)    │              \u001b[38;5;34m0\u001b[0m │ -                      │\n",
       "│ (\u001b[38;5;33mInputLayer\u001b[0m)              │                        │                │                        │\n",
       "├───────────────────────────┼────────────────────────┼────────────────┼────────────────────────┤\n",
       "│ get_item (\u001b[38;5;33mGetItem\u001b[0m)        │ (\u001b[38;5;45mNone\u001b[0m, \u001b[38;5;34m224\u001b[0m, \u001b[38;5;34m224\u001b[0m)       │              \u001b[38;5;34m0\u001b[0m │ input_layer_1[\u001b[38;5;34m0\u001b[0m][\u001b[38;5;34m0\u001b[0m]    │\n",
       "├───────────────────────────┼────────────────────────┼────────────────┼────────────────────────┤\n",
       "│ get_item_1 (\u001b[38;5;33mGetItem\u001b[0m)      │ (\u001b[38;5;45mNone\u001b[0m, \u001b[38;5;34m224\u001b[0m, \u001b[38;5;34m224\u001b[0m)       │              \u001b[38;5;34m0\u001b[0m │ input_layer_1[\u001b[38;5;34m0\u001b[0m][\u001b[38;5;34m0\u001b[0m]    │\n",
       "├───────────────────────────┼────────────────────────┼────────────────┼────────────────────────┤\n",
       "│ get_item_2 (\u001b[38;5;33mGetItem\u001b[0m)      │ (\u001b[38;5;45mNone\u001b[0m, \u001b[38;5;34m224\u001b[0m, \u001b[38;5;34m224\u001b[0m)       │              \u001b[38;5;34m0\u001b[0m │ input_layer_1[\u001b[38;5;34m0\u001b[0m][\u001b[38;5;34m0\u001b[0m]    │\n",
       "├───────────────────────────┼────────────────────────┼────────────────┼────────────────────────┤\n",
       "│ stack (\u001b[38;5;33mStack\u001b[0m)             │ (\u001b[38;5;45mNone\u001b[0m, \u001b[38;5;34m224\u001b[0m, \u001b[38;5;34m224\u001b[0m, \u001b[38;5;34m3\u001b[0m)    │              \u001b[38;5;34m0\u001b[0m │ get_item[\u001b[38;5;34m0\u001b[0m][\u001b[38;5;34m0\u001b[0m],        │\n",
       "│                           │                        │                │ get_item_1[\u001b[38;5;34m0\u001b[0m][\u001b[38;5;34m0\u001b[0m],      │\n",
       "│                           │                        │                │ get_item_2[\u001b[38;5;34m0\u001b[0m][\u001b[38;5;34m0\u001b[0m]       │\n",
       "├───────────────────────────┼────────────────────────┼────────────────┼────────────────────────┤\n",
       "│ add (\u001b[38;5;33mAdd\u001b[0m)                 │ (\u001b[38;5;45mNone\u001b[0m, \u001b[38;5;34m224\u001b[0m, \u001b[38;5;34m224\u001b[0m, \u001b[38;5;34m3\u001b[0m)    │              \u001b[38;5;34m0\u001b[0m │ stack[\u001b[38;5;34m0\u001b[0m][\u001b[38;5;34m0\u001b[0m]            │\n",
       "├───────────────────────────┼────────────────────────┼────────────────┼────────────────────────┤\n",
       "│ resnet50 (\u001b[38;5;33mFunctional\u001b[0m)     │ (\u001b[38;5;45mNone\u001b[0m, \u001b[38;5;34m7\u001b[0m, \u001b[38;5;34m7\u001b[0m, \u001b[38;5;34m2048\u001b[0m)     │     \u001b[38;5;34m23,587,712\u001b[0m │ add[\u001b[38;5;34m0\u001b[0m][\u001b[38;5;34m0\u001b[0m]              │\n",
       "├───────────────────────────┼────────────────────────┼────────────────┼────────────────────────┤\n",
       "│ global_average_pooling2d  │ (\u001b[38;5;45mNone\u001b[0m, \u001b[38;5;34m2048\u001b[0m)           │              \u001b[38;5;34m0\u001b[0m │ resnet50[\u001b[38;5;34m0\u001b[0m][\u001b[38;5;34m0\u001b[0m]         │\n",
       "│ (\u001b[38;5;33mGlobalAveragePooling2D\u001b[0m)  │                        │                │                        │\n",
       "├───────────────────────────┼────────────────────────┼────────────────┼────────────────────────┤\n",
       "│ dense (\u001b[38;5;33mDense\u001b[0m)             │ (\u001b[38;5;45mNone\u001b[0m, \u001b[38;5;34m512\u001b[0m)            │      \u001b[38;5;34m1,049,088\u001b[0m │ global_average_poolin… │\n",
       "├───────────────────────────┼────────────────────────┼────────────────┼────────────────────────┤\n",
       "│ dropout (\u001b[38;5;33mDropout\u001b[0m)         │ (\u001b[38;5;45mNone\u001b[0m, \u001b[38;5;34m512\u001b[0m)            │              \u001b[38;5;34m0\u001b[0m │ dense[\u001b[38;5;34m0\u001b[0m][\u001b[38;5;34m0\u001b[0m]            │\n",
       "├───────────────────────────┼────────────────────────┼────────────────┼────────────────────────┤\n",
       "│ dense_1 (\u001b[38;5;33mDense\u001b[0m)           │ (\u001b[38;5;45mNone\u001b[0m, \u001b[38;5;34m1024\u001b[0m)           │        \u001b[38;5;34m525,312\u001b[0m │ dropout[\u001b[38;5;34m0\u001b[0m][\u001b[38;5;34m0\u001b[0m]          │\n",
       "├───────────────────────────┼────────────────────────┼────────────────┼────────────────────────┤\n",
       "│ dropout_1 (\u001b[38;5;33mDropout\u001b[0m)       │ (\u001b[38;5;45mNone\u001b[0m, \u001b[38;5;34m1024\u001b[0m)           │              \u001b[38;5;34m0\u001b[0m │ dense_1[\u001b[38;5;34m0\u001b[0m][\u001b[38;5;34m0\u001b[0m]          │\n",
       "├───────────────────────────┼────────────────────────┼────────────────┼────────────────────────┤\n",
       "│ dense_2 (\u001b[38;5;33mDense\u001b[0m)           │ (\u001b[38;5;45mNone\u001b[0m, \u001b[38;5;34m100\u001b[0m)            │        \u001b[38;5;34m102,500\u001b[0m │ dropout_1[\u001b[38;5;34m0\u001b[0m][\u001b[38;5;34m0\u001b[0m]        │\n",
       "└───────────────────────────┴────────────────────────┴────────────────┴────────────────────────┘\n"
      ]
     },
     "metadata": {},
     "output_type": "display_data"
    },
    {
     "data": {
      "text/html": [
       "<pre style=\"white-space:pre;overflow-x:auto;line-height:normal;font-family:Menlo,'DejaVu Sans Mono',consolas,'Courier New',monospace\"><span style=\"font-weight: bold\"> Total params: </span><span style=\"color: #00af00; text-decoration-color: #00af00\">25,264,612</span> (96.38 MB)\n",
       "</pre>\n"
      ],
      "text/plain": [
       "\u001b[1m Total params: \u001b[0m\u001b[38;5;34m25,264,612\u001b[0m (96.38 MB)\n"
      ]
     },
     "metadata": {},
     "output_type": "display_data"
    },
    {
     "data": {
      "text/html": [
       "<pre style=\"white-space:pre;overflow-x:auto;line-height:normal;font-family:Menlo,'DejaVu Sans Mono',consolas,'Courier New',monospace\"><span style=\"font-weight: bold\"> Trainable params: </span><span style=\"color: #00af00; text-decoration-color: #00af00\">1,676,900</span> (6.40 MB)\n",
       "</pre>\n"
      ],
      "text/plain": [
       "\u001b[1m Trainable params: \u001b[0m\u001b[38;5;34m1,676,900\u001b[0m (6.40 MB)\n"
      ]
     },
     "metadata": {},
     "output_type": "display_data"
    },
    {
     "data": {
      "text/html": [
       "<pre style=\"white-space:pre;overflow-x:auto;line-height:normal;font-family:Menlo,'DejaVu Sans Mono',consolas,'Courier New',monospace\"><span style=\"font-weight: bold\"> Non-trainable params: </span><span style=\"color: #00af00; text-decoration-color: #00af00\">23,587,712</span> (89.98 MB)\n",
       "</pre>\n"
      ],
      "text/plain": [
       "\u001b[1m Non-trainable params: \u001b[0m\u001b[38;5;34m23,587,712\u001b[0m (89.98 MB)\n"
      ]
     },
     "metadata": {},
     "output_type": "display_data"
    }
   ],
   "source": [
    "## USING TRANSFER LEARNING RESNET50\n",
    "def classification_cnn_model():\n",
    "    base_model = tf.keras.applications.ResNet50(\n",
    "        input_shape=(IMG_SIZE, IMG_SIZE, CHANNELS),\n",
    "        include_top=False,\n",
    "    )\n",
    "    base_model.trainable = False\n",
    "    inputs = layers.Input(shape=(IMG_SIZE, IMG_SIZE, CHANNELS))\n",
    "    x = tf.keras.applications.resnet.preprocess_input(inputs)\n",
    "    x = base_model(x, training=False)\n",
    "    x = layers.GlobalAveragePooling2D()(x)\n",
    "    x = layers.Dense(512, activation=\"relu\", kernel_regularizer=tf.keras.regularizers.l2(1e-4))(x)\n",
    "    x = layers.Dropout(0.5)(x)\n",
    "    x = layers.Dense(EMBED_DIMS, activation=\"relu\", kernel_regularizer=tf.keras.regularizers.l2(1e-4))(x)\n",
    "    x = layers.Dropout(0.5)(x)\n",
    "    out = layers.Dense(CLASSES_REDUCED)(x)\n",
    "    model = Model(inputs, out)\n",
    "    return model\n",
    "classification_cnn_model().summary()"
   ]
  },
  {
   "cell_type": "markdown",
   "id": "5a53bf25",
   "metadata": {
    "papermill": {
     "duration": 0.006851,
     "end_time": "2025-06-16T12:12:10.068749",
     "exception": false,
     "start_time": "2025-06-16T12:12:10.061898",
     "status": "completed"
    },
    "tags": []
   },
   "source": [
    "## Model Training"
   ]
  },
  {
   "cell_type": "code",
   "execution_count": 14,
   "id": "920d87ec",
   "metadata": {
    "execution": {
     "iopub.execute_input": "2025-06-16T12:12:10.083761Z",
     "iopub.status.busy": "2025-06-16T12:12:10.083528Z",
     "iopub.status.idle": "2025-06-16T12:12:10.086758Z",
     "shell.execute_reply": "2025-06-16T12:12:10.086115Z"
    },
    "papermill": {
     "duration": 0.012024,
     "end_time": "2025-06-16T12:12:10.087816",
     "exception": false,
     "start_time": "2025-06-16T12:12:10.075792",
     "status": "completed"
    },
    "tags": []
   },
   "outputs": [],
   "source": [
    "# with strategy.scope():\n",
    "#     clf_model = classification_cnn_model()\n",
    "#     clf_model.compile(\n",
    "#         tf.keras.optimizers.Adam(1e-3, clipnorm=1.0),\n",
    "#         loss=tf.keras.losses.SparseCategoricalCrossentropy(from_logits=True),\n",
    "#         metrics=[\"accuracy\"]\n",
    "#     )\n",
    "\n",
    "# history = clf_model.fit(train_ds_clf, validation_data=val_ds_clf, epochs=10, callbacks=[early_stopping, reduce_lr])\n",
    "\n",
    "# plt.plot(history.history[\"accuracy\"])\n",
    "# plt.plot(history.history[\"val_accuracy\"])\n",
    "# plt.legend()\n",
    "# plt.show()"
   ]
  },
  {
   "cell_type": "markdown",
   "id": "153b18f8",
   "metadata": {
    "papermill": {
     "duration": 0.007055,
     "end_time": "2025-06-16T12:12:10.102540",
     "exception": false,
     "start_time": "2025-06-16T12:12:10.095485",
     "status": "completed"
    },
    "tags": []
   },
   "source": [
    "# Finetuning Model"
   ]
  },
  {
   "cell_type": "code",
   "execution_count": 15,
   "id": "e4f4bb03",
   "metadata": {
    "execution": {
     "iopub.execute_input": "2025-06-16T12:12:10.118095Z",
     "iopub.status.busy": "2025-06-16T12:12:10.117579Z",
     "iopub.status.idle": "2025-06-16T12:12:10.121145Z",
     "shell.execute_reply": "2025-06-16T12:12:10.120461Z"
    },
    "papermill": {
     "duration": 0.012546,
     "end_time": "2025-06-16T12:12:10.122202",
     "exception": false,
     "start_time": "2025-06-16T12:12:10.109656",
     "status": "completed"
    },
    "tags": []
   },
   "outputs": [],
   "source": [
    "# with strategy.scope():\n",
    "#     base_model = clf_model.layers[1]\n",
    "#     resnet_layer_count = base_model.layers\n",
    "#     freeze_layers = int(len(resnet_layer_count) * 0.75)\n",
    "    \n",
    "#     for layer in base_model.layers[freeze_layers:]:\n",
    "#         layer.trainable = True\n",
    "\n",
    "#     clf_model.compile(\n",
    "#         tf.keras.optimizers.Adam(1e-5),\n",
    "#         loss=tf.keras.losses.SparseCategoricalCrossentropy(from_logits=True),\n",
    "#         metrics=[\"accuracy\"]\n",
    "#     )\n",
    "\n",
    "# history = clf_model.fit(train_ds_clf, validation_data=val_ds_clf, epochs=10, callbacks=[early_stopping, reduce_lr])\n",
    "\n",
    "# plt.plot(history.history[\"accuracy\"])\n",
    "# plt.plot(history.history[\"val_accuracy\"])\n",
    "# plt.legend()\n",
    "# plt.show()"
   ]
  },
  {
   "cell_type": "markdown",
   "id": "69861919",
   "metadata": {
    "papermill": {
     "duration": 0.00697,
     "end_time": "2025-06-16T12:12:10.136459",
     "exception": false,
     "start_time": "2025-06-16T12:12:10.129489",
     "status": "completed"
    },
    "tags": []
   },
   "source": [
    "## Classification Model Evaluation"
   ]
  },
  {
   "cell_type": "code",
   "execution_count": 16,
   "id": "a2c800bf",
   "metadata": {
    "execution": {
     "iopub.execute_input": "2025-06-16T12:12:10.152400Z",
     "iopub.status.busy": "2025-06-16T12:12:10.151769Z",
     "iopub.status.idle": "2025-06-16T12:12:10.155098Z",
     "shell.execute_reply": "2025-06-16T12:12:10.154394Z"
    },
    "papermill": {
     "duration": 0.012442,
     "end_time": "2025-06-16T12:12:10.156184",
     "exception": false,
     "start_time": "2025-06-16T12:12:10.143742",
     "status": "completed"
    },
    "tags": []
   },
   "outputs": [],
   "source": [
    "# tf.keras.backend.clear_session()\n",
    "# clf_eval_model = Model(inputs=clf_model.input, outputs=clf_model.layers[-2].output)\n",
    "# del clf_model"
   ]
  },
  {
   "cell_type": "code",
   "execution_count": 17,
   "id": "a7e413b0",
   "metadata": {
    "execution": {
     "iopub.execute_input": "2025-06-16T12:12:10.171545Z",
     "iopub.status.busy": "2025-06-16T12:12:10.170977Z",
     "iopub.status.idle": "2025-06-16T12:12:10.174317Z",
     "shell.execute_reply": "2025-06-16T12:12:10.173605Z"
    },
    "papermill": {
     "duration": 0.012111,
     "end_time": "2025-06-16T12:12:10.175411",
     "exception": false,
     "start_time": "2025-06-16T12:12:10.163300",
     "status": "completed"
    },
    "tags": []
   },
   "outputs": [],
   "source": [
    "# clf_threshold = show_roc_auc(clf_eval_model, \"euclidean\")"
   ]
  },
  {
   "cell_type": "markdown",
   "id": "c037c4d6",
   "metadata": {
    "papermill": {
     "duration": 0.007087,
     "end_time": "2025-06-16T12:12:10.189611",
     "exception": false,
     "start_time": "2025-06-16T12:12:10.182524",
     "status": "completed"
    },
    "tags": []
   },
   "source": [
    "# Metric Learning (Triplet Loss)"
   ]
  },
  {
   "cell_type": "markdown",
   "id": "5ed0e637",
   "metadata": {
    "papermill": {
     "duration": 0.007065,
     "end_time": "2025-06-16T12:12:10.203757",
     "exception": false,
     "start_time": "2025-06-16T12:12:10.196692",
     "status": "completed"
    },
    "tags": []
   },
   "source": [
    "## Building Metric Learning Model"
   ]
  },
  {
   "cell_type": "code",
   "execution_count": 18,
   "id": "e868845e",
   "metadata": {
    "execution": {
     "iopub.execute_input": "2025-06-16T12:12:10.219112Z",
     "iopub.status.busy": "2025-06-16T12:12:10.218817Z",
     "iopub.status.idle": "2025-06-16T12:12:11.261344Z",
     "shell.execute_reply": "2025-06-16T12:12:11.260615Z"
    },
    "papermill": {
     "duration": 1.051418,
     "end_time": "2025-06-16T12:12:11.262412",
     "exception": false,
     "start_time": "2025-06-16T12:12:10.210994",
     "status": "completed"
    },
    "tags": []
   },
   "outputs": [
    {
     "name": "stderr",
     "output_type": "stream",
     "text": [
      "/usr/local/lib/python3.11/dist-packages/keras/src/layers/core/lambda_layer.py:65: UserWarning: Do not pass an `input_shape`/`input_dim` argument to a layer. When using Sequential models, prefer using an `Input(shape)` object as the first layer in the model instead.\n",
      "  super().__init__(**kwargs)\n"
     ]
    },
    {
     "data": {
      "text/html": [
       "<pre style=\"white-space:pre;overflow-x:auto;line-height:normal;font-family:Menlo,'DejaVu Sans Mono',consolas,'Courier New',monospace\"><span style=\"font-weight: bold\">Model: \"functional_1\"</span>\n",
       "</pre>\n"
      ],
      "text/plain": [
       "\u001b[1mModel: \"functional_1\"\u001b[0m\n"
      ]
     },
     "metadata": {},
     "output_type": "display_data"
    },
    {
     "data": {
      "text/html": [
       "<pre style=\"white-space:pre;overflow-x:auto;line-height:normal;font-family:Menlo,'DejaVu Sans Mono',consolas,'Courier New',monospace\">┏━━━━━━━━━━━━━━━━━━━━━━━━━━━┳━━━━━━━━━━━━━━━━━━━━━━━━┳━━━━━━━━━━━━━━━━┳━━━━━━━━━━━━━━━━━━━━━━━━┓\n",
       "┃<span style=\"font-weight: bold\"> Layer (type)              </span>┃<span style=\"font-weight: bold\"> Output Shape           </span>┃<span style=\"font-weight: bold\">        Param # </span>┃<span style=\"font-weight: bold\"> Connected to           </span>┃\n",
       "┡━━━━━━━━━━━━━━━━━━━━━━━━━━━╇━━━━━━━━━━━━━━━━━━━━━━━━╇━━━━━━━━━━━━━━━━╇━━━━━━━━━━━━━━━━━━━━━━━━┩\n",
       "│ input_layer_3             │ (<span style=\"color: #00d7ff; text-decoration-color: #00d7ff\">None</span>, <span style=\"color: #00af00; text-decoration-color: #00af00\">224</span>, <span style=\"color: #00af00; text-decoration-color: #00af00\">224</span>, <span style=\"color: #00af00; text-decoration-color: #00af00\">3</span>)    │              <span style=\"color: #00af00; text-decoration-color: #00af00\">0</span> │ -                      │\n",
       "│ (<span style=\"color: #0087ff; text-decoration-color: #0087ff\">InputLayer</span>)              │                        │                │                        │\n",
       "├───────────────────────────┼────────────────────────┼────────────────┼────────────────────────┤\n",
       "│ get_item_3 (<span style=\"color: #0087ff; text-decoration-color: #0087ff\">GetItem</span>)      │ (<span style=\"color: #00d7ff; text-decoration-color: #00d7ff\">None</span>, <span style=\"color: #00af00; text-decoration-color: #00af00\">224</span>, <span style=\"color: #00af00; text-decoration-color: #00af00\">224</span>)       │              <span style=\"color: #00af00; text-decoration-color: #00af00\">0</span> │ input_layer_3[<span style=\"color: #00af00; text-decoration-color: #00af00\">0</span>][<span style=\"color: #00af00; text-decoration-color: #00af00\">0</span>]    │\n",
       "├───────────────────────────┼────────────────────────┼────────────────┼────────────────────────┤\n",
       "│ get_item_4 (<span style=\"color: #0087ff; text-decoration-color: #0087ff\">GetItem</span>)      │ (<span style=\"color: #00d7ff; text-decoration-color: #00d7ff\">None</span>, <span style=\"color: #00af00; text-decoration-color: #00af00\">224</span>, <span style=\"color: #00af00; text-decoration-color: #00af00\">224</span>)       │              <span style=\"color: #00af00; text-decoration-color: #00af00\">0</span> │ input_layer_3[<span style=\"color: #00af00; text-decoration-color: #00af00\">0</span>][<span style=\"color: #00af00; text-decoration-color: #00af00\">0</span>]    │\n",
       "├───────────────────────────┼────────────────────────┼────────────────┼────────────────────────┤\n",
       "│ get_item_5 (<span style=\"color: #0087ff; text-decoration-color: #0087ff\">GetItem</span>)      │ (<span style=\"color: #00d7ff; text-decoration-color: #00d7ff\">None</span>, <span style=\"color: #00af00; text-decoration-color: #00af00\">224</span>, <span style=\"color: #00af00; text-decoration-color: #00af00\">224</span>)       │              <span style=\"color: #00af00; text-decoration-color: #00af00\">0</span> │ input_layer_3[<span style=\"color: #00af00; text-decoration-color: #00af00\">0</span>][<span style=\"color: #00af00; text-decoration-color: #00af00\">0</span>]    │\n",
       "├───────────────────────────┼────────────────────────┼────────────────┼────────────────────────┤\n",
       "│ stack_1 (<span style=\"color: #0087ff; text-decoration-color: #0087ff\">Stack</span>)           │ (<span style=\"color: #00d7ff; text-decoration-color: #00d7ff\">None</span>, <span style=\"color: #00af00; text-decoration-color: #00af00\">224</span>, <span style=\"color: #00af00; text-decoration-color: #00af00\">224</span>, <span style=\"color: #00af00; text-decoration-color: #00af00\">3</span>)    │              <span style=\"color: #00af00; text-decoration-color: #00af00\">0</span> │ get_item_3[<span style=\"color: #00af00; text-decoration-color: #00af00\">0</span>][<span style=\"color: #00af00; text-decoration-color: #00af00\">0</span>],      │\n",
       "│                           │                        │                │ get_item_4[<span style=\"color: #00af00; text-decoration-color: #00af00\">0</span>][<span style=\"color: #00af00; text-decoration-color: #00af00\">0</span>],      │\n",
       "│                           │                        │                │ get_item_5[<span style=\"color: #00af00; text-decoration-color: #00af00\">0</span>][<span style=\"color: #00af00; text-decoration-color: #00af00\">0</span>]       │\n",
       "├───────────────────────────┼────────────────────────┼────────────────┼────────────────────────┤\n",
       "│ add_1 (<span style=\"color: #0087ff; text-decoration-color: #0087ff\">Add</span>)               │ (<span style=\"color: #00d7ff; text-decoration-color: #00d7ff\">None</span>, <span style=\"color: #00af00; text-decoration-color: #00af00\">224</span>, <span style=\"color: #00af00; text-decoration-color: #00af00\">224</span>, <span style=\"color: #00af00; text-decoration-color: #00af00\">3</span>)    │              <span style=\"color: #00af00; text-decoration-color: #00af00\">0</span> │ stack_1[<span style=\"color: #00af00; text-decoration-color: #00af00\">0</span>][<span style=\"color: #00af00; text-decoration-color: #00af00\">0</span>]          │\n",
       "├───────────────────────────┼────────────────────────┼────────────────┼────────────────────────┤\n",
       "│ resnet50 (<span style=\"color: #0087ff; text-decoration-color: #0087ff\">Functional</span>)     │ (<span style=\"color: #00d7ff; text-decoration-color: #00d7ff\">None</span>, <span style=\"color: #00af00; text-decoration-color: #00af00\">7</span>, <span style=\"color: #00af00; text-decoration-color: #00af00\">7</span>, <span style=\"color: #00af00; text-decoration-color: #00af00\">2048</span>)     │     <span style=\"color: #00af00; text-decoration-color: #00af00\">23,587,712</span> │ add_1[<span style=\"color: #00af00; text-decoration-color: #00af00\">0</span>][<span style=\"color: #00af00; text-decoration-color: #00af00\">0</span>]            │\n",
       "├───────────────────────────┼────────────────────────┼────────────────┼────────────────────────┤\n",
       "│ global_average_pooling2d… │ (<span style=\"color: #00d7ff; text-decoration-color: #00d7ff\">None</span>, <span style=\"color: #00af00; text-decoration-color: #00af00\">2048</span>)           │              <span style=\"color: #00af00; text-decoration-color: #00af00\">0</span> │ resnet50[<span style=\"color: #00af00; text-decoration-color: #00af00\">0</span>][<span style=\"color: #00af00; text-decoration-color: #00af00\">0</span>]         │\n",
       "│ (<span style=\"color: #0087ff; text-decoration-color: #0087ff\">GlobalAveragePooling2D</span>)  │                        │                │                        │\n",
       "├───────────────────────────┼────────────────────────┼────────────────┼────────────────────────┤\n",
       "│ dense_3 (<span style=\"color: #0087ff; text-decoration-color: #0087ff\">Dense</span>)           │ (<span style=\"color: #00d7ff; text-decoration-color: #00d7ff\">None</span>, <span style=\"color: #00af00; text-decoration-color: #00af00\">1024</span>)           │      <span style=\"color: #00af00; text-decoration-color: #00af00\">2,098,176</span> │ global_average_poolin… │\n",
       "├───────────────────────────┼────────────────────────┼────────────────┼────────────────────────┤\n",
       "│ lambda (<span style=\"color: #0087ff; text-decoration-color: #0087ff\">Lambda</span>)           │ (<span style=\"color: #00d7ff; text-decoration-color: #00d7ff\">None</span>, <span style=\"color: #00af00; text-decoration-color: #00af00\">1024</span>)           │              <span style=\"color: #00af00; text-decoration-color: #00af00\">0</span> │ dense_3[<span style=\"color: #00af00; text-decoration-color: #00af00\">0</span>][<span style=\"color: #00af00; text-decoration-color: #00af00\">0</span>]          │\n",
       "└───────────────────────────┴────────────────────────┴────────────────┴────────────────────────┘\n",
       "</pre>\n"
      ],
      "text/plain": [
       "┏━━━━━━━━━━━━━━━━━━━━━━━━━━━┳━━━━━━━━━━━━━━━━━━━━━━━━┳━━━━━━━━━━━━━━━━┳━━━━━━━━━━━━━━━━━━━━━━━━┓\n",
       "┃\u001b[1m \u001b[0m\u001b[1mLayer (type)             \u001b[0m\u001b[1m \u001b[0m┃\u001b[1m \u001b[0m\u001b[1mOutput Shape          \u001b[0m\u001b[1m \u001b[0m┃\u001b[1m \u001b[0m\u001b[1m       Param #\u001b[0m\u001b[1m \u001b[0m┃\u001b[1m \u001b[0m\u001b[1mConnected to          \u001b[0m\u001b[1m \u001b[0m┃\n",
       "┡━━━━━━━━━━━━━━━━━━━━━━━━━━━╇━━━━━━━━━━━━━━━━━━━━━━━━╇━━━━━━━━━━━━━━━━╇━━━━━━━━━━━━━━━━━━━━━━━━┩\n",
       "│ input_layer_3             │ (\u001b[38;5;45mNone\u001b[0m, \u001b[38;5;34m224\u001b[0m, \u001b[38;5;34m224\u001b[0m, \u001b[38;5;34m3\u001b[0m)    │              \u001b[38;5;34m0\u001b[0m │ -                      │\n",
       "│ (\u001b[38;5;33mInputLayer\u001b[0m)              │                        │                │                        │\n",
       "├───────────────────────────┼────────────────────────┼────────────────┼────────────────────────┤\n",
       "│ get_item_3 (\u001b[38;5;33mGetItem\u001b[0m)      │ (\u001b[38;5;45mNone\u001b[0m, \u001b[38;5;34m224\u001b[0m, \u001b[38;5;34m224\u001b[0m)       │              \u001b[38;5;34m0\u001b[0m │ input_layer_3[\u001b[38;5;34m0\u001b[0m][\u001b[38;5;34m0\u001b[0m]    │\n",
       "├───────────────────────────┼────────────────────────┼────────────────┼────────────────────────┤\n",
       "│ get_item_4 (\u001b[38;5;33mGetItem\u001b[0m)      │ (\u001b[38;5;45mNone\u001b[0m, \u001b[38;5;34m224\u001b[0m, \u001b[38;5;34m224\u001b[0m)       │              \u001b[38;5;34m0\u001b[0m │ input_layer_3[\u001b[38;5;34m0\u001b[0m][\u001b[38;5;34m0\u001b[0m]    │\n",
       "├───────────────────────────┼────────────────────────┼────────────────┼────────────────────────┤\n",
       "│ get_item_5 (\u001b[38;5;33mGetItem\u001b[0m)      │ (\u001b[38;5;45mNone\u001b[0m, \u001b[38;5;34m224\u001b[0m, \u001b[38;5;34m224\u001b[0m)       │              \u001b[38;5;34m0\u001b[0m │ input_layer_3[\u001b[38;5;34m0\u001b[0m][\u001b[38;5;34m0\u001b[0m]    │\n",
       "├───────────────────────────┼────────────────────────┼────────────────┼────────────────────────┤\n",
       "│ stack_1 (\u001b[38;5;33mStack\u001b[0m)           │ (\u001b[38;5;45mNone\u001b[0m, \u001b[38;5;34m224\u001b[0m, \u001b[38;5;34m224\u001b[0m, \u001b[38;5;34m3\u001b[0m)    │              \u001b[38;5;34m0\u001b[0m │ get_item_3[\u001b[38;5;34m0\u001b[0m][\u001b[38;5;34m0\u001b[0m],      │\n",
       "│                           │                        │                │ get_item_4[\u001b[38;5;34m0\u001b[0m][\u001b[38;5;34m0\u001b[0m],      │\n",
       "│                           │                        │                │ get_item_5[\u001b[38;5;34m0\u001b[0m][\u001b[38;5;34m0\u001b[0m]       │\n",
       "├───────────────────────────┼────────────────────────┼────────────────┼────────────────────────┤\n",
       "│ add_1 (\u001b[38;5;33mAdd\u001b[0m)               │ (\u001b[38;5;45mNone\u001b[0m, \u001b[38;5;34m224\u001b[0m, \u001b[38;5;34m224\u001b[0m, \u001b[38;5;34m3\u001b[0m)    │              \u001b[38;5;34m0\u001b[0m │ stack_1[\u001b[38;5;34m0\u001b[0m][\u001b[38;5;34m0\u001b[0m]          │\n",
       "├───────────────────────────┼────────────────────────┼────────────────┼────────────────────────┤\n",
       "│ resnet50 (\u001b[38;5;33mFunctional\u001b[0m)     │ (\u001b[38;5;45mNone\u001b[0m, \u001b[38;5;34m7\u001b[0m, \u001b[38;5;34m7\u001b[0m, \u001b[38;5;34m2048\u001b[0m)     │     \u001b[38;5;34m23,587,712\u001b[0m │ add_1[\u001b[38;5;34m0\u001b[0m][\u001b[38;5;34m0\u001b[0m]            │\n",
       "├───────────────────────────┼────────────────────────┼────────────────┼────────────────────────┤\n",
       "│ global_average_pooling2d… │ (\u001b[38;5;45mNone\u001b[0m, \u001b[38;5;34m2048\u001b[0m)           │              \u001b[38;5;34m0\u001b[0m │ resnet50[\u001b[38;5;34m0\u001b[0m][\u001b[38;5;34m0\u001b[0m]         │\n",
       "│ (\u001b[38;5;33mGlobalAveragePooling2D\u001b[0m)  │                        │                │                        │\n",
       "├───────────────────────────┼────────────────────────┼────────────────┼────────────────────────┤\n",
       "│ dense_3 (\u001b[38;5;33mDense\u001b[0m)           │ (\u001b[38;5;45mNone\u001b[0m, \u001b[38;5;34m1024\u001b[0m)           │      \u001b[38;5;34m2,098,176\u001b[0m │ global_average_poolin… │\n",
       "├───────────────────────────┼────────────────────────┼────────────────┼────────────────────────┤\n",
       "│ lambda (\u001b[38;5;33mLambda\u001b[0m)           │ (\u001b[38;5;45mNone\u001b[0m, \u001b[38;5;34m1024\u001b[0m)           │              \u001b[38;5;34m0\u001b[0m │ dense_3[\u001b[38;5;34m0\u001b[0m][\u001b[38;5;34m0\u001b[0m]          │\n",
       "└───────────────────────────┴────────────────────────┴────────────────┴────────────────────────┘\n"
      ]
     },
     "metadata": {},
     "output_type": "display_data"
    },
    {
     "data": {
      "text/html": [
       "<pre style=\"white-space:pre;overflow-x:auto;line-height:normal;font-family:Menlo,'DejaVu Sans Mono',consolas,'Courier New',monospace\"><span style=\"font-weight: bold\"> Total params: </span><span style=\"color: #00af00; text-decoration-color: #00af00\">25,685,888</span> (97.98 MB)\n",
       "</pre>\n"
      ],
      "text/plain": [
       "\u001b[1m Total params: \u001b[0m\u001b[38;5;34m25,685,888\u001b[0m (97.98 MB)\n"
      ]
     },
     "metadata": {},
     "output_type": "display_data"
    },
    {
     "data": {
      "text/html": [
       "<pre style=\"white-space:pre;overflow-x:auto;line-height:normal;font-family:Menlo,'DejaVu Sans Mono',consolas,'Courier New',monospace\"><span style=\"font-weight: bold\"> Trainable params: </span><span style=\"color: #00af00; text-decoration-color: #00af00\">2,098,176</span> (8.00 MB)\n",
       "</pre>\n"
      ],
      "text/plain": [
       "\u001b[1m Trainable params: \u001b[0m\u001b[38;5;34m2,098,176\u001b[0m (8.00 MB)\n"
      ]
     },
     "metadata": {},
     "output_type": "display_data"
    },
    {
     "data": {
      "text/html": [
       "<pre style=\"white-space:pre;overflow-x:auto;line-height:normal;font-family:Menlo,'DejaVu Sans Mono',consolas,'Courier New',monospace\"><span style=\"font-weight: bold\"> Non-trainable params: </span><span style=\"color: #00af00; text-decoration-color: #00af00\">23,587,712</span> (89.98 MB)\n",
       "</pre>\n"
      ],
      "text/plain": [
       "\u001b[1m Non-trainable params: \u001b[0m\u001b[38;5;34m23,587,712\u001b[0m (89.98 MB)\n"
      ]
     },
     "metadata": {},
     "output_type": "display_data"
    }
   ],
   "source": [
    "def l2_norm(x):\n",
    "    return tf.math.l2_normalize(x, axis=-1)\n",
    "\n",
    "def metric_learning_model():\n",
    "    base_model = tf.keras.applications.ResNet50(\n",
    "        input_shape=(IMG_SIZE, IMG_SIZE, CHANNELS),\n",
    "        include_top=False,\n",
    "    )\n",
    "    base_model.trainable = False\n",
    "    inputs = layers.Input(shape=(IMG_SIZE, IMG_SIZE, CHANNELS))\n",
    "    x = tf.keras.applications.resnet.preprocess_input(inputs)\n",
    "    x = base_model(x, training=False)\n",
    "    x = layers.GlobalAveragePooling2D()(x)\n",
    "    x = layers.Dense(EMBED_DIMS, kernel_regularizer=tf.keras.regularizers.l2(1e-4))(x)\n",
    "    out = tf.keras.layers.Lambda(l2_norm, input_shape=(EMBED_DIMS,), output_shape=(EMBED_DIMS,))(x)\n",
    "    model = Model(inputs, out)\n",
    "    return model\n",
    "\n",
    "metric_learning_model().summary()"
   ]
  },
  {
   "cell_type": "markdown",
   "id": "1ccf0a22",
   "metadata": {
    "papermill": {
     "duration": 0.009008,
     "end_time": "2025-06-16T12:12:11.279521",
     "exception": false,
     "start_time": "2025-06-16T12:12:11.270513",
     "status": "completed"
    },
    "tags": []
   },
   "source": [
    "## Triplet Mask For Validating Triplets"
   ]
  },
  {
   "cell_type": "markdown",
   "id": "8b805c0a",
   "metadata": {
    "papermill": {
     "duration": 0.007564,
     "end_time": "2025-06-16T12:12:11.295044",
     "exception": false,
     "start_time": "2025-06-16T12:12:11.287480",
     "status": "completed"
    },
    "tags": []
   },
   "source": [
    "To get the positive mask, we want to build a 2D tensor with shape of (BATCH_SIZE, BATCH_SIZE)\n",
    "\n",
    "The row and column is comprised of the \"labels\" vector. \n",
    "\n",
    "Given $i$ (row) and $j$ (column), mask$_{ij}$ is $true$ if label$_i$ == label$_j$\n",
    "\n",
    "In addition to the above condition, it should also only be $true$ if $i$ and $i$ is NOT the same (Can't have the same image as both anchor and positive)\n",
    "\n",
    "<br>\n",
    "To get the negative mask,  mask$_{ij}$ is $true$ if label$_i$ != label$_j$ (Condition flipped from the positive mask)\n",
    "\n",
    "The same condition of $i$ and $j$ not being the same is still valid"
   ]
  },
  {
   "cell_type": "code",
   "execution_count": 19,
   "id": "6de72686",
   "metadata": {
    "execution": {
     "iopub.execute_input": "2025-06-16T12:12:11.311392Z",
     "iopub.status.busy": "2025-06-16T12:12:11.311128Z",
     "iopub.status.idle": "2025-06-16T12:12:11.316575Z",
     "shell.execute_reply": "2025-06-16T12:12:11.315874Z"
    },
    "papermill": {
     "duration": 0.015227,
     "end_time": "2025-06-16T12:12:11.317800",
     "exception": false,
     "start_time": "2025-06-16T12:12:11.302573",
     "status": "completed"
    },
    "tags": []
   },
   "outputs": [],
   "source": [
    "def get_triplet_mask(labels):\n",
    "    '''\n",
    "        Args:\n",
    "            labels: Tensor of labels. Shape of (N,)\n",
    "        Return:\n",
    "            (positive_mask, negative_mask): A tuple of positive mask (N, N) and negative mask (N, N)\n",
    "    '''\n",
    "    # Reshape labels to (N, 1)\n",
    "    labels = tf.reshape(labels, (-1 , 1))\n",
    "    labels_are_the_same = tf.equal(labels, tf.transpose(labels))\n",
    "    labels_are_not_the_same = ~labels_are_the_same\n",
    "    # Get identity matrix of N range. Flip the identity matrix boolean so that if i == j = false\n",
    "    indices_are_not_the_same = tf.logical_not(tf.eye(tf.shape(labels)[0], dtype=tf.bool))\n",
    "\n",
    "    # Get labels that has same labels (same person) as positive mask\n",
    "    positive_mask = tf.logical_and(indices_are_not_the_same, labels_are_the_same)\n",
    "    positive_mask = tf.cast(positive_mask, dtype=tf.float16)\n",
    "\n",
    "    # Get labels that has different labels (different person) as negative mask\n",
    "    negative_mask = tf.logical_and(indices_are_not_the_same, labels_are_not_the_same)\n",
    "    negative_mask = tf.cast(negative_mask, dtype=tf.float16)\n",
    "    \n",
    "    return (positive_mask, negative_mask)"
   ]
  },
  {
   "cell_type": "markdown",
   "id": "56afedd3",
   "metadata": {
    "papermill": {
     "duration": 0.007626,
     "end_time": "2025-06-16T12:12:11.333309",
     "exception": false,
     "start_time": "2025-06-16T12:12:11.325683",
     "status": "completed"
    },
    "tags": []
   },
   "source": [
    "## Euclidian Distance Matrix Function"
   ]
  },
  {
   "cell_type": "markdown",
   "id": "c2711618",
   "metadata": {
    "papermill": {
     "duration": 0.007515,
     "end_time": "2025-06-16T12:12:11.349267",
     "exception": false,
     "start_time": "2025-06-16T12:12:11.341752",
     "status": "completed"
    },
    "tags": []
   },
   "source": [
    "Uses the euclidian distance matrix trick (https://samuelalbanie.com/files/Euclidean_distance_trick.pdf)\n",
    "\n",
    "Computes the euclidian distance\n",
    "    $$(X_i - X_j) . (X_i - X_j)^T$$\n",
    "As the following equation\n",
    "    $$||X_i||_2^2 - 2Xi^TX_j + ||X_j||_2^2$$ \n",
    "\n",
    "To do the computation, we need to get the value of:\n",
    "\n",
    "$||X_i||_2^2$ : Squared L2 norm of X_i\n",
    "\n",
    "$X_i^TX_j$ : Dot product of X_i and X_j\n",
    "\n",
    "$||X_i||_2^2$ : Squared L2 norm of X_j\n",
    "\n",
    "All of the variables above can be taken from the dot product of $<X_i,X_j>$"
   ]
  },
  {
   "cell_type": "code",
   "execution_count": 20,
   "id": "2d40281d",
   "metadata": {
    "execution": {
     "iopub.execute_input": "2025-06-16T12:12:11.365939Z",
     "iopub.status.busy": "2025-06-16T12:12:11.365428Z",
     "iopub.status.idle": "2025-06-16T12:12:11.370096Z",
     "shell.execute_reply": "2025-06-16T12:12:11.369357Z"
    },
    "papermill": {
     "duration": 0.014083,
     "end_time": "2025-06-16T12:12:11.371190",
     "exception": false,
     "start_time": "2025-06-16T12:12:11.357107",
     "status": "completed"
    },
    "tags": []
   },
   "outputs": [],
   "source": [
    "def compute_pairwise_euclidian_distance(embeddings):\n",
    "    '''\n",
    "        Args:\n",
    "            embeddings: Tensors. A batch of embeddings. (BATCH_SIZE, EMBED_DIMS)\n",
    "        Return:\n",
    "            euclidian_distances: Tensors. Euclidian distance of each embeddings to each of the other embeddings. (BATCH_SIZE, BATCH_SIZE)\n",
    "    '''\n",
    "\n",
    "    # Dot product of <xi, xj>. Outputs shape of (BATCH_SIZE, BATCH_SIZE)\n",
    "    dot_product = tf.matmul(embeddings, tf.transpose(embeddings))\n",
    "        \n",
    "    \n",
    "    # Squared L2 norm of the dot product. Outputs shape of (BATCH_SIZE,)\n",
    "    squared_l2_norm = tf.linalg.diag_part(dot_product)\n",
    "    # Squared L2 norm of xi. Outputs shape of (1, BATCH_SIZE)\n",
    "    squared_l2_xi = tf.expand_dims(squared_l2_norm, 0)\n",
    "    # Squared L2 norm of xj. Outputs shape of (BATCH_SIZE, 1)\n",
    "    squared_l2_xj = tf.expand_dims(squared_l2_norm, 1)\n",
    "\n",
    "    # Computing euclidian distance matrix. Formula used is \n",
    "    distance = squared_l2_xi - (2*dot_product) + squared_l2_xj\n",
    "    # For computing errors\n",
    "    distance = tf.maximum(distance, 0)\n",
    "    \n",
    "    return distance"
   ]
  },
  {
   "cell_type": "markdown",
   "id": "794b88d6",
   "metadata": {
    "papermill": {
     "duration": 0.007474,
     "end_time": "2025-06-16T12:12:11.386461",
     "exception": false,
     "start_time": "2025-06-16T12:12:11.378987",
     "status": "completed"
    },
    "tags": []
   },
   "source": [
    "## Triplet Loss Function"
   ]
  },
  {
   "cell_type": "markdown",
   "id": "0db1db4e",
   "metadata": {
    "papermill": {
     "duration": 0.007493,
     "end_time": "2025-06-16T12:12:11.401656",
     "exception": false,
     "start_time": "2025-06-16T12:12:11.394163",
     "status": "completed"
    },
    "tags": []
   },
   "source": [
    "This function uses only the hardest triplet for each anchor in the batch. The formula used for the triplet loss is \n",
    "$$L = max((f(x_a) - f(x_p)) - (f(x_a) - f(x_n)) + \\alpha, 0)$$"
   ]
  },
  {
   "cell_type": "code",
   "execution_count": 21,
   "id": "cd57fcfc",
   "metadata": {
    "execution": {
     "iopub.execute_input": "2025-06-16T12:12:11.418447Z",
     "iopub.status.busy": "2025-06-16T12:12:11.417942Z",
     "iopub.status.idle": "2025-06-16T12:12:11.423478Z",
     "shell.execute_reply": "2025-06-16T12:12:11.422758Z"
    },
    "papermill": {
     "duration": 0.0153,
     "end_time": "2025-06-16T12:12:11.424631",
     "exception": false,
     "start_time": "2025-06-16T12:12:11.409331",
     "status": "completed"
    },
    "tags": []
   },
   "outputs": [],
   "source": [
    "# with strategy.scope():\n",
    "def triplet_loss(embeddings, labels, margin):\n",
    "    '''\n",
    "        Args:\n",
    "            embeddings: Tensors of embeddings output from the model. Shape of (BATCH_SIZE, EMBED_DIM)\n",
    "            labels: Tensors of labels for each embeddings. Shape of (BATCH_SIZE,)\n",
    "            margin: Margin for the triplet loss formula. The bigger the margin, the farther apart different faces are from each other\n",
    "        Return:\n",
    "            triplet_loss: Loss computed\n",
    "    '''\n",
    "    # Get pairwise Euclidean distance\n",
    "    pairwise_distance = compute_pairwise_euclidian_distance(embeddings)\n",
    "\n",
    "    # Get masks to filter out invalid pairs\n",
    "    masks = get_triplet_mask(labels)\n",
    "    positive_mask = masks[0]\n",
    "    negative_mask = masks[1]\n",
    "\n",
    "    # Get valid anchors positive pairs\n",
    "    valid_anchor_positive_pairs = tf.multiply(pairwise_distance, positive_mask)\n",
    "    # Get only hardest positive pairs by getting the longest distance pairs\n",
    "    # Since we want the positive pairs to have a close distance to the anchor, the hardest pair will be the one that's really far\n",
    "    hardest_anchor_positive_pairs = tf.reduce_max(valid_anchor_positive_pairs, axis=1, keepdims=True)\n",
    "\n",
    "    # Get valid anchor negative pairs\n",
    "    # Can't just do reduce_min since if we filter out invalid values by the mask (that is, zeroing them out), then reduce_min is going to pickup those 0 values\n",
    "    max_anchor_negative_pairs = tf.reduce_max(pairwise_distance, axis=1, keepdims=True)\n",
    "    # To avoid the above issue, a really large value (in this case the maximum value on each anchor pairs) is added to each invalid pairs\n",
    "    # Essentially removing invalid values by giving them a really large value\n",
    "    valid_anchor_negative_pairs = pairwise_distance + max_anchor_negative_pairs * (1.0 - negative_mask)\n",
    "    # Then get the hardest negative pairs by getting the closest distance pairs\n",
    "    # Since we want the negative pairs to be far away from the anchor, the hardest pair will be the one that's really close to the anchor\n",
    "    hardest_anchor_negative_pairs = tf.reduce_min(valid_anchor_negative_pairs, axis=1, keepdims=True)\n",
    "\n",
    "    # Calculate triplet loss\n",
    "    triplet_loss = tf.maximum(hardest_anchor_positive_pairs - hardest_anchor_negative_pairs + margin, 0.0)\n",
    "    triplet_loss = tf.reduce_mean(triplet_loss)\n",
    "\n",
    "    return triplet_loss"
   ]
  },
  {
   "cell_type": "markdown",
   "id": "3caa1dd5",
   "metadata": {
    "papermill": {
     "duration": 0.007699,
     "end_time": "2025-06-16T12:12:11.439949",
     "exception": false,
     "start_time": "2025-06-16T12:12:11.432250",
     "status": "completed"
    },
    "tags": []
   },
   "source": [
    "## Model Training"
   ]
  },
  {
   "cell_type": "markdown",
   "id": "a0815591",
   "metadata": {
    "papermill": {
     "duration": 0.007532,
     "end_time": "2025-06-16T12:12:11.454946",
     "exception": false,
     "start_time": "2025-06-16T12:12:11.447414",
     "status": "completed"
    },
    "tags": []
   },
   "source": [
    "### Train Step Function"
   ]
  },
  {
   "cell_type": "code",
   "execution_count": 22,
   "id": "d1258126",
   "metadata": {
    "execution": {
     "iopub.execute_input": "2025-06-16T12:12:11.470951Z",
     "iopub.status.busy": "2025-06-16T12:12:11.470675Z",
     "iopub.status.idle": "2025-06-16T12:12:11.475363Z",
     "shell.execute_reply": "2025-06-16T12:12:11.474665Z"
    },
    "papermill": {
     "duration": 0.013947,
     "end_time": "2025-06-16T12:12:11.476441",
     "exception": false,
     "start_time": "2025-06-16T12:12:11.462494",
     "status": "completed"
    },
    "tags": []
   },
   "outputs": [],
   "source": [
    "@tf.function\n",
    "def train_step(batch):\n",
    "    # Get images and labels\n",
    "    images = batch[0]\n",
    "    labels = batch[1]\n",
    "\n",
    "    with tf.GradientTape() as tape:\n",
    "        # Produce embeddings\n",
    "        embeddings = metric_model(images)\n",
    "        # Get loss\n",
    "        loss = triplet_loss(embeddings, labels, 0.2)\n",
    "        # Get gradients\n",
    "        grads = tape.gradient(loss, metric_model.trainable_variables)\n",
    "    # Apply gradients\n",
    "    optimizer.apply_gradients(zip(grads, metric_model.trainable_variables))\n",
    "    return loss"
   ]
  },
  {
   "cell_type": "markdown",
   "id": "09151695",
   "metadata": {
    "papermill": {
     "duration": 0.007454,
     "end_time": "2025-06-16T12:12:11.491813",
     "exception": false,
     "start_time": "2025-06-16T12:12:11.484359",
     "status": "completed"
    },
    "tags": []
   },
   "source": [
    "### Training Loop"
   ]
  },
  {
   "cell_type": "code",
   "execution_count": 23,
   "id": "7db86b74",
   "metadata": {
    "execution": {
     "iopub.execute_input": "2025-06-16T12:12:11.508051Z",
     "iopub.status.busy": "2025-06-16T12:12:11.507793Z",
     "iopub.status.idle": "2025-06-16T12:52:22.990585Z",
     "shell.execute_reply": "2025-06-16T12:52:22.989708Z"
    },
    "papermill": {
     "duration": 2411.492626,
     "end_time": "2025-06-16T12:52:22.992006",
     "exception": false,
     "start_time": "2025-06-16T12:12:11.499380",
     "status": "completed"
    },
    "tags": []
   },
   "outputs": [
    {
     "name": "stderr",
     "output_type": "stream",
     "text": [
      "Epoch: 0:   0%|          | 0/2974 [00:00<?, ?it/s]I0000 00:00:1750075954.965399      58 cuda_dnn.cc:529] Loaded cuDNN version 90300\n",
      "Epoch: 0: 100%|██████████| 2974/2974 [13:40<00:00,  3.62it/s]\n"
     ]
    },
    {
     "name": "stdout",
     "output_type": "stream",
     "text": [
      "Epoch 0 loss: 0.01091766357421875\n"
     ]
    },
    {
     "name": "stderr",
     "output_type": "stream",
     "text": [
      "Epoch: 1: 100%|██████████| 2974/2974 [13:14<00:00,  3.74it/s]\n"
     ]
    },
    {
     "name": "stdout",
     "output_type": "stream",
     "text": [
      "Epoch 1 loss: 0.0105743408203125\n"
     ]
    },
    {
     "name": "stderr",
     "output_type": "stream",
     "text": [
      "Epoch: 2: 100%|██████████| 2974/2974 [13:14<00:00,  3.74it/s]"
     ]
    },
    {
     "name": "stdout",
     "output_type": "stream",
     "text": [
      "Epoch 2 loss: 0.01439666748046875\n"
     ]
    },
    {
     "name": "stderr",
     "output_type": "stream",
     "text": [
      "\n"
     ]
    }
   ],
   "source": [
    "loss_history = []\n",
    "\n",
    "initial_lr = 1e-3\n",
    "lr_schedule = tf.keras.optimizers.schedules.ExponentialDecay(\n",
    "    initial_learning_rate=initial_lr,\n",
    "    decay_steps=3000,\n",
    "    decay_rate=0.95,\n",
    "    staircase=True\n",
    ")\n",
    "\n",
    "metric_model = metric_learning_model()\n",
    "optimizer = tf.keras.optimizers.Adam(lr_schedule)\n",
    "\n",
    "for epoch in range(3):\n",
    "    tmp_loss = []\n",
    "    for batch in tqdm(train_ds, desc=f\"Epoch: {epoch}\"):\n",
    "        loss = train_step(batch)\n",
    "        tmp_loss.append(loss)\n",
    "    current_loss = sum(tmp_loss) / len(tmp_loss)\n",
    "    print(f\"Epoch {epoch} loss: {current_loss}\")\n",
    "    loss_history.append(current_loss)"
   ]
  },
  {
   "cell_type": "code",
   "execution_count": 24,
   "id": "b07f1fb4",
   "metadata": {
    "execution": {
     "iopub.execute_input": "2025-06-16T12:52:23.760662Z",
     "iopub.status.busy": "2025-06-16T12:52:23.760044Z",
     "iopub.status.idle": "2025-06-16T12:52:24.202273Z",
     "shell.execute_reply": "2025-06-16T12:52:24.201580Z"
    },
    "papermill": {
     "duration": 0.861173,
     "end_time": "2025-06-16T12:52:24.203479",
     "exception": false,
     "start_time": "2025-06-16T12:52:23.342306",
     "status": "completed"
    },
    "tags": []
   },
   "outputs": [
    {
     "data": {
      "image/png": "[encoded data removed]",
      "text/plain": [
       "<Figure size 640x480 with 1 Axes>"
      ]
     },
     "metadata": {},
     "output_type": "display_data"
    }
   ],
   "source": [
    "plt.plot(loss_history)\n",
    "plt.show()"
   ]
  },
  {
   "cell_type": "markdown",
   "id": "0c4aeea0",
   "metadata": {
    "papermill": {
     "duration": 0.346524,
     "end_time": "2025-06-16T12:52:24.902163",
     "exception": false,
     "start_time": "2025-06-16T12:52:24.555639",
     "status": "completed"
    },
    "tags": []
   },
   "source": [
    "## Metric Learning Model Evaluation"
   ]
  },
  {
   "cell_type": "code",
   "execution_count": 25,
   "id": "98d27dc3",
   "metadata": {
    "execution": {
     "iopub.execute_input": "2025-06-16T12:52:25.672037Z",
     "iopub.status.busy": "2025-06-16T12:52:25.671583Z",
     "iopub.status.idle": "2025-06-16T13:26:43.571306Z",
     "shell.execute_reply": "2025-06-16T13:26:43.570570Z"
    },
    "papermill": {
     "duration": 2058.267582,
     "end_time": "2025-06-16T13:26:43.587388",
     "exception": false,
     "start_time": "2025-06-16T12:52:25.319806",
     "status": "completed"
    },
    "tags": []
   },
   "outputs": [
    {
     "name": "stderr",
     "output_type": "stream",
     "text": [
      "Processing validation: 100%|██████████| 8805/8805 [34:17<00:00,  4.28it/s]\n"
     ]
    },
    {
     "data": {
      "image/png": "[encoded data removed]",
      "text/plain": [
       "<Figure size 640x480 with 1 Axes>"
      ]
     },
     "metadata": {},
     "output_type": "display_data"
    }
   ],
   "source": [
    "tf.keras.backend.clear_session()\n",
    "metric_threshold = show_roc_auc(metric_model, \"euclidean\")"
   ]
  },
  {
   "cell_type": "markdown",
   "id": "b837c877",
   "metadata": {
    "papermill": {
     "duration": 0.69425,
     "end_time": "2025-06-16T13:26:45.079251",
     "exception": false,
     "start_time": "2025-06-16T13:26:44.385001",
     "status": "completed"
    },
    "tags": []
   },
   "source": [
    "## Saving Metric Learning Model and Threshold"
   ]
  },
  {
   "cell_type": "code",
   "execution_count": 26,
   "id": "20a52426",
   "metadata": {
    "execution": {
     "iopub.execute_input": "2025-06-16T13:26:46.611959Z",
     "iopub.status.busy": "2025-06-16T13:26:46.611634Z",
     "iopub.status.idle": "2025-06-16T13:26:47.387597Z",
     "shell.execute_reply": "2025-06-16T13:26:47.387005Z"
    },
    "papermill": {
     "duration": 1.548146,
     "end_time": "2025-06-16T13:26:47.389137",
     "exception": false,
     "start_time": "2025-06-16T13:26:45.840991",
     "status": "completed"
    },
    "tags": []
   },
   "outputs": [],
   "source": [
    "metric_model.save(\"metric_learning_model.keras\")\n",
    "\n",
    "with open(\"threshold.txt\", \"w\") as f:\n",
    "    f.write(str(metric_threshold))"
   ]
  }
 ],
 "metadata": {
  "kaggle": {
   "accelerator": "gpu",
   "dataSources": [
    {
     "databundleVersionId": 1552852,
     "sourceId": 22881,
     "sourceType": "competition"
    }
   ],
   "dockerImageVersionId": 31040,
   "isGpuEnabled": true,
   "isInternetEnabled": true,
   "language": "python",
   "sourceType": "notebook"
  },
  "kernelspec": {
   "display_name": "Python 3",
   "language": "python",
   "name": "python3"
  },
  "language_info": {
   "codemirror_mode": {
    "name": "ipython",
    "version": 3
   },
   "file_extension": ".py",
   "mimetype": "text/x-python",
   "name": "python",
   "nbconvert_exporter": "python",
   "pygments_lexer": "ipython3",
   "version": "3.11.11"
  },
  "papermill": {
   "default_parameters": {},
   "duration": 4634.587884,
   "end_time": "2025-06-16T13:26:52.541967",
   "environment_variables": {},
   "exception": null,
   "input_path": "__notebook__.ipynb",
   "output_path": "__notebook__.ipynb",
   "parameters": {},
   "start_time": "2025-06-16T12:09:37.954083",
   "version": "2.6.0"
  }
 },
 "nbformat": 4,
 "nbformat_minor": 5
}
